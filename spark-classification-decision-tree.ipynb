{
 "cells": [
  {
   "cell_type": "code",
   "execution_count": 1,
   "metadata": {},
   "outputs": [],
   "source": [
    "from pyspark.sql import Row\n",
    "from pyspark.ml.feature import StringIndexer\n",
    "from pyspark.ml.linalg import Vectors\n",
    "from pyspark.ml.classification import DecisionTreeClassifier\n",
    "from pyspark.ml.evaluation import MulticlassClassificationEvaluator"
   ]
  },
  {
   "cell_type": "code",
   "execution_count": 2,
   "metadata": {},
   "outputs": [],
   "source": [
    "spSession = SparkSession.builder.master(\"local\").appName(\"DSA\").getOrCreate()"
   ]
  },
  {
   "cell_type": "code",
   "execution_count": 3,
   "metadata": {},
   "outputs": [],
   "source": [
    "irisRDD = sc.textFile(\"data/iris.csv\")"
   ]
  },
  {
   "cell_type": "code",
   "execution_count": 4,
   "metadata": {},
   "outputs": [
    {
     "data": {
      "text/plain": [
       "data/iris.csv MapPartitionsRDD[1] at textFile at NativeMethodAccessorImpl.java:0"
      ]
     },
     "execution_count": 4,
     "metadata": {},
     "output_type": "execute_result"
    }
   ],
   "source": [
    "irisRDD.cache()"
   ]
  },
  {
   "cell_type": "code",
   "execution_count": 5,
   "metadata": {},
   "outputs": [
    {
     "data": {
      "text/plain": [
       "151"
      ]
     },
     "execution_count": 5,
     "metadata": {},
     "output_type": "execute_result"
    }
   ],
   "source": [
    "irisRDD.count()"
   ]
  },
  {
   "cell_type": "code",
   "execution_count": 6,
   "metadata": {},
   "outputs": [
    {
     "data": {
      "text/plain": [
       "['Sepal.Length,Sepal.Width,Petal.Length,Petal.Width,Species',\n",
       " '5.1,3.5,1.4,0.2,setosa',\n",
       " '4.9,3,1.4,0.2,setosa',\n",
       " '4.7,3.2,1.3,0.2,setosa',\n",
       " '4.6,3.1,1.5,0.2,setosa']"
      ]
     },
     "execution_count": 6,
     "metadata": {},
     "output_type": "execute_result"
    }
   ],
   "source": [
    "irisRDD.take(5)"
   ]
  },
  {
   "cell_type": "code",
   "execution_count": 7,
   "metadata": {},
   "outputs": [
    {
     "data": {
      "text/plain": [
       "150"
      ]
     },
     "execution_count": 7,
     "metadata": {},
     "output_type": "execute_result"
    }
   ],
   "source": [
    "irisRDD2 = irisRDD.filter(lambda line: \"Sepal\" not in line)\n",
    "irisRDD2.count()"
   ]
  },
  {
   "cell_type": "markdown",
   "metadata": {},
   "source": [
    "### Limpeza de Dados"
   ]
  },
  {
   "cell_type": "code",
   "execution_count": 8,
   "metadata": {},
   "outputs": [],
   "source": [
    "irisRDD3 = irisRDD2.map(lambda line: line.split(\",\"))"
   ]
  },
  {
   "cell_type": "code",
   "execution_count": 9,
   "metadata": {},
   "outputs": [],
   "source": [
    "irisRDD4 = irisRDD3.map(lambda p: Row(SEPAL_LENGTH = float(p[0]), \n",
    "                                      SEPAL_WIDTH = float(p[1]),\n",
    "                                     PETAL_LENGTH = float(p[2]),\n",
    "                                     PEPAL_WIDTH = float(p[3]),\n",
    "                                     SPECIES = p[4]))"
   ]
  },
  {
   "cell_type": "code",
   "execution_count": 10,
   "metadata": {},
   "outputs": [
    {
     "data": {
      "text/plain": [
       "[Row(PEPAL_WIDTH=0.2, PETAL_LENGTH=1.4, SEPAL_LENGTH=5.1, SEPAL_WIDTH=3.5, SPECIES='setosa'),\n",
       " Row(PEPAL_WIDTH=0.2, PETAL_LENGTH=1.4, SEPAL_LENGTH=4.9, SEPAL_WIDTH=3.0, SPECIES='setosa'),\n",
       " Row(PEPAL_WIDTH=0.2, PETAL_LENGTH=1.3, SEPAL_LENGTH=4.7, SEPAL_WIDTH=3.2, SPECIES='setosa'),\n",
       " Row(PEPAL_WIDTH=0.2, PETAL_LENGTH=1.5, SEPAL_LENGTH=4.6, SEPAL_WIDTH=3.1, SPECIES='setosa')]"
      ]
     },
     "execution_count": 10,
     "metadata": {},
     "output_type": "execute_result"
    }
   ],
   "source": [
    "irisRDD4.take(4)"
   ]
  },
  {
   "cell_type": "code",
   "execution_count": 11,
   "metadata": {},
   "outputs": [
    {
     "data": {
      "text/plain": [
       "DataFrame[PEPAL_WIDTH: double, PETAL_LENGTH: double, SEPAL_LENGTH: double, SEPAL_WIDTH: double, SPECIES: string]"
      ]
     },
     "execution_count": 11,
     "metadata": {},
     "output_type": "execute_result"
    }
   ],
   "source": [
    "irisDF = spSession.createDataFrame(irisRDD4)\n",
    "irisDF.cache()"
   ]
  },
  {
   "cell_type": "code",
   "execution_count": 12,
   "metadata": {},
   "outputs": [
    {
     "name": "stdout",
     "output_type": "stream",
     "text": [
      "+-----------+------------+------------+-----------+-------+\n",
      "|PEPAL_WIDTH|PETAL_LENGTH|SEPAL_LENGTH|SEPAL_WIDTH|SPECIES|\n",
      "+-----------+------------+------------+-----------+-------+\n",
      "|        0.2|         1.4|         5.1|        3.5| setosa|\n",
      "|        0.2|         1.4|         4.9|        3.0| setosa|\n",
      "|        0.2|         1.3|         4.7|        3.2| setosa|\n",
      "+-----------+------------+------------+-----------+-------+\n",
      "only showing top 3 rows\n",
      "\n"
     ]
    }
   ],
   "source": [
    "irisDF.show(3)"
   ]
  },
  {
   "cell_type": "code",
   "execution_count": 13,
   "metadata": {},
   "outputs": [
    {
     "data": {
      "text/plain": [
       "[Row(PEPAL_WIDTH=0.2, PETAL_LENGTH=1.4, SEPAL_LENGTH=5.1, SEPAL_WIDTH=3.5, SPECIES='setosa'),\n",
       " Row(PEPAL_WIDTH=0.2, PETAL_LENGTH=1.4, SEPAL_LENGTH=4.9, SEPAL_WIDTH=3.0, SPECIES='setosa'),\n",
       " Row(PEPAL_WIDTH=0.2, PETAL_LENGTH=1.3, SEPAL_LENGTH=4.7, SEPAL_WIDTH=3.2, SPECIES='setosa')]"
      ]
     },
     "execution_count": 13,
     "metadata": {},
     "output_type": "execute_result"
    }
   ],
   "source": [
    "irisDF.take(3)"
   ]
  },
  {
   "cell_type": "code",
   "execution_count": 14,
   "metadata": {},
   "outputs": [],
   "source": [
    "# criando um índice numérico para coluna target\n",
    "stringIndexer = StringIndexer(inputCol = \"SPECIES\", outputCol = \"IDX_SPECIES\")"
   ]
  },
  {
   "cell_type": "code",
   "execution_count": 15,
   "metadata": {},
   "outputs": [],
   "source": [
    "si_model = stringIndexer.fit(irisDF)"
   ]
  },
  {
   "cell_type": "code",
   "execution_count": 16,
   "metadata": {},
   "outputs": [],
   "source": [
    "irisNormDT = si_model.transform(irisDF)"
   ]
  },
  {
   "cell_type": "code",
   "execution_count": 17,
   "metadata": {},
   "outputs": [
    {
     "name": "stdout",
     "output_type": "stream",
     "text": [
      "+-----------+------------+------------+-----------+---------+-----------+\n",
      "|PEPAL_WIDTH|PETAL_LENGTH|SEPAL_LENGTH|SEPAL_WIDTH|  SPECIES|IDX_SPECIES|\n",
      "+-----------+------------+------------+-----------+---------+-----------+\n",
      "|        2.5|         6.0|         6.3|        3.3|virginica|        1.0|\n",
      "|        1.9|         5.1|         5.8|        2.7|virginica|        1.0|\n",
      "|        2.1|         5.9|         7.1|        3.0|virginica|        1.0|\n",
      "|        1.8|         5.6|         6.3|        2.9|virginica|        1.0|\n",
      "|        2.2|         5.8|         6.5|        3.0|virginica|        1.0|\n",
      "|        2.1|         6.6|         7.6|        3.0|virginica|        1.0|\n",
      "|        1.7|         4.5|         4.9|        2.5|virginica|        1.0|\n",
      "|        1.8|         6.3|         7.3|        2.9|virginica|        1.0|\n",
      "|        1.8|         5.8|         6.7|        2.5|virginica|        1.0|\n",
      "|        2.5|         6.1|         7.2|        3.6|virginica|        1.0|\n",
      "|        2.0|         5.1|         6.5|        3.2|virginica|        1.0|\n",
      "|        1.9|         5.3|         6.4|        2.7|virginica|        1.0|\n",
      "|        2.1|         5.5|         6.8|        3.0|virginica|        1.0|\n",
      "|        2.0|         5.0|         5.7|        2.5|virginica|        1.0|\n",
      "|        2.4|         5.1|         5.8|        2.8|virginica|        1.0|\n",
      "|        2.3|         5.3|         6.4|        3.2|virginica|        1.0|\n",
      "|        1.8|         5.5|         6.5|        3.0|virginica|        1.0|\n",
      "|        2.2|         6.7|         7.7|        3.8|virginica|        1.0|\n",
      "|        2.3|         6.9|         7.7|        2.6|virginica|        1.0|\n",
      "|        1.5|         5.0|         6.0|        2.2|virginica|        1.0|\n",
      "+-----------+------------+------------+-----------+---------+-----------+\n",
      "only showing top 20 rows\n",
      "\n"
     ]
    }
   ],
   "source": [
    "irisNormDT.filter(\"IDX_SPECIES not in  (2,0)\").show()"
   ]
  },
  {
   "cell_type": "code",
   "execution_count": 18,
   "metadata": {},
   "outputs": [
    {
     "data": {
      "text/plain": [
       "[Row(SPECIES='versicolor', IDX_SPECIES=0.0),\n",
       " Row(SPECIES='setosa', IDX_SPECIES=2.0),\n",
       " Row(SPECIES='virginica', IDX_SPECIES=1.0)]"
      ]
     },
     "execution_count": 18,
     "metadata": {},
     "output_type": "execute_result"
    }
   ],
   "source": [
    "irisNormDT.select(\"SPECIES\", \"IDX_SPECIES\").distinct().collect()"
   ]
  },
  {
   "cell_type": "markdown",
   "metadata": {},
   "source": [
    "### Análise Exploratória de Dados"
   ]
  },
  {
   "cell_type": "code",
   "execution_count": 19,
   "metadata": {},
   "outputs": [
    {
     "name": "stdout",
     "output_type": "stream",
     "text": [
      "+-------+------------------+------------------+------------------+------------------+---------+------------------+\n",
      "|summary|       PEPAL_WIDTH|      PETAL_LENGTH|      SEPAL_LENGTH|       SEPAL_WIDTH|  SPECIES|       IDX_SPECIES|\n",
      "+-------+------------------+------------------+------------------+------------------+---------+------------------+\n",
      "|  count|               150|               150|               150|               150|      150|               150|\n",
      "|   mean|1.1993333333333331| 3.758000000000001| 5.843333333333332|3.0573333333333337|     null|               1.0|\n",
      "| stddev|0.7622376689603467|1.7652982332594662|0.8280661279778634|0.4358662849366978|     null|0.8192319205190404|\n",
      "|    min|               0.1|               1.0|               4.3|               2.0|   setosa|               0.0|\n",
      "|    max|               2.5|               6.9|               7.9|               4.4|virginica|               2.0|\n",
      "+-------+------------------+------------------+------------------+------------------+---------+------------------+\n",
      "\n"
     ]
    }
   ],
   "source": [
    "irisNormDT.describe().show()"
   ]
  },
  {
   "cell_type": "code",
   "execution_count": 20,
   "metadata": {},
   "outputs": [
    {
     "name": "stdout",
     "output_type": "stream",
     "text": [
      "correlação IDX_SPECIES com  PEPAL_WIDTH -0.5803770334306263\n",
      "correlação IDX_SPECIES com  PETAL_LENGTH -0.649241830764174\n",
      "correlação IDX_SPECIES com  SEPAL_LENGTH -0.46003915650023686\n",
      "correlação IDX_SPECIES com  SEPAL_WIDTH 0.6183715308237433\n",
      "correlação IDX_SPECIES com  IDX_SPECIES 1.0\n"
     ]
    }
   ],
   "source": [
    "# correlação entre as variaveis\n",
    "for i in irisNormDT.columns:\n",
    "    if not(isinstance(irisNormDT.select(i).take(1)[0][0], str)):\n",
    "        print(\"correlação IDX_SPECIES com \", i, irisNormDT.stat.corr(\"IDX_SPECIES\", i))"
   ]
  },
  {
   "cell_type": "markdown",
   "metadata": {},
   "source": [
    "### Pré-processamento dos dados"
   ]
  },
  {
   "cell_type": "code",
   "execution_count": 21,
   "metadata": {},
   "outputs": [],
   "source": [
    "# Remove colunas não relevantes para o modelo \n",
    "# Remove colunas com baixa correlação\n",
    "def transformaVar(row):\n",
    "    obj = (row[\"SPECIES\"], row[\"IDX_SPECIES\"], Vectors.dense([row[\"SEPAL_LENGTH\"],\n",
    "                                                             row[\"SEPAL_WIDTH\"],\n",
    "                                                             row[\"PETAL_LENGTH\"],\n",
    "                                                             row[\"PEPAL_WIDTH\"]])) \n",
    "    return obj"
   ]
  },
  {
   "cell_type": "code",
   "execution_count": 22,
   "metadata": {},
   "outputs": [
    {
     "data": {
      "text/plain": [
       "[('setosa', 2.0, DenseVector([5.1, 3.5, 1.4, 0.2])),\n",
       " ('setosa', 2.0, DenseVector([4.9, 3.0, 1.4, 0.2])),\n",
       " ('setosa', 2.0, DenseVector([4.7, 3.2, 1.3, 0.2])),\n",
       " ('setosa', 2.0, DenseVector([4.6, 3.1, 1.5, 0.2])),\n",
       " ('setosa', 2.0, DenseVector([5.0, 3.6, 1.4, 0.2]))]"
      ]
     },
     "execution_count": 22,
     "metadata": {},
     "output_type": "execute_result"
    }
   ],
   "source": [
    "irisRDD5 = irisNormDT.rdd.map(transformaVar)\n",
    "irisRDD5.take(5)"
   ]
  },
  {
   "cell_type": "code",
   "execution_count": 23,
   "metadata": {},
   "outputs": [
    {
     "name": "stdout",
     "output_type": "stream",
     "text": [
      "+-------+-----+-----------------+\n",
      "|species|label|         features|\n",
      "+-------+-----+-----------------+\n",
      "| setosa|  2.0|[5.1,3.5,1.4,0.2]|\n",
      "| setosa|  2.0|[4.9,3.0,1.4,0.2]|\n",
      "| setosa|  2.0|[4.7,3.2,1.3,0.2]|\n",
      "| setosa|  2.0|[4.6,3.1,1.5,0.2]|\n",
      "| setosa|  2.0|[5.0,3.6,1.4,0.2]|\n",
      "+-------+-----+-----------------+\n",
      "only showing top 5 rows\n",
      "\n"
     ]
    },
    {
     "data": {
      "text/plain": [
       "DataFrame[species: string, label: double, features: vector]"
      ]
     },
     "execution_count": 23,
     "metadata": {},
     "output_type": "execute_result"
    }
   ],
   "source": [
    "irisDF = spSession.createDataFrame(irisRDD5, [\"species\",\"label\", \"features\"])\n",
    "irisDF.show(5)\n",
    "irisDF.cache()"
   ]
  },
  {
   "cell_type": "markdown",
   "metadata": {},
   "source": [
    "### Machine Learning"
   ]
  },
  {
   "cell_type": "code",
   "execution_count": 24,
   "metadata": {},
   "outputs": [],
   "source": [
    "(dados_treino, dados_teste) = irisDF.randomSplit([0.7, 0.3])"
   ]
  },
  {
   "cell_type": "code",
   "execution_count": 25,
   "metadata": {},
   "outputs": [
    {
     "data": {
      "text/plain": [
       "105"
      ]
     },
     "execution_count": 25,
     "metadata": {},
     "output_type": "execute_result"
    }
   ],
   "source": [
    "dados_treino.count()"
   ]
  },
  {
   "cell_type": "code",
   "execution_count": 26,
   "metadata": {},
   "outputs": [
    {
     "data": {
      "text/plain": [
       "45"
      ]
     },
     "execution_count": 26,
     "metadata": {},
     "output_type": "execute_result"
    }
   ],
   "source": [
    "dados_teste.count()"
   ]
  },
  {
   "cell_type": "code",
   "execution_count": 27,
   "metadata": {},
   "outputs": [],
   "source": [
    "# treinando o modelo\n",
    "classifier = DecisionTreeClassifier(maxDepth=2, labelCol = \"label\", featuresCol = \"features\")\n",
    "model = classifier.fit(dados_treino)"
   ]
  },
  {
   "cell_type": "code",
   "execution_count": 28,
   "metadata": {},
   "outputs": [
    {
     "data": {
      "text/plain": [
       "5"
      ]
     },
     "execution_count": 28,
     "metadata": {},
     "output_type": "execute_result"
    }
   ],
   "source": [
    "model.numNodes"
   ]
  },
  {
   "cell_type": "code",
   "execution_count": 29,
   "metadata": {},
   "outputs": [
    {
     "data": {
      "text/plain": [
       "2"
      ]
     },
     "execution_count": 29,
     "metadata": {},
     "output_type": "execute_result"
    }
   ],
   "source": [
    "model.depth"
   ]
  },
  {
   "cell_type": "code",
   "execution_count": 30,
   "metadata": {},
   "outputs": [
    {
     "name": "stdout",
     "output_type": "stream",
     "text": [
      "+----------+-----+-----------------+--------------+--------------------+----------+\n",
      "|   species|label|         features| rawPrediction|         probability|prediction|\n",
      "+----------+-----+-----------------+--------------+--------------------+----------+\n",
      "|    setosa|  2.0|[4.3,3.0,1.1,0.1]|[0.0,0.0,32.0]|       [0.0,0.0,1.0]|       2.0|\n",
      "|    setosa|  2.0|[4.4,3.2,1.3,0.2]|[0.0,0.0,32.0]|       [0.0,0.0,1.0]|       2.0|\n",
      "|    setosa|  2.0|[4.5,2.3,1.3,0.3]|[0.0,0.0,32.0]|       [0.0,0.0,1.0]|       2.0|\n",
      "|    setosa|  2.0|[4.6,3.6,1.0,0.2]|[0.0,0.0,32.0]|       [0.0,0.0,1.0]|       2.0|\n",
      "|    setosa|  2.0|[4.8,3.0,1.4,0.1]|[0.0,0.0,32.0]|       [0.0,0.0,1.0]|       2.0|\n",
      "|    setosa|  2.0|[4.8,3.0,1.4,0.3]|[0.0,0.0,32.0]|       [0.0,0.0,1.0]|       2.0|\n",
      "|    setosa|  2.0|[4.8,3.1,1.6,0.2]|[0.0,0.0,32.0]|       [0.0,0.0,1.0]|       2.0|\n",
      "|    setosa|  2.0|[4.8,3.4,1.6,0.2]|[0.0,0.0,32.0]|       [0.0,0.0,1.0]|       2.0|\n",
      "|    setosa|  2.0|[4.9,3.6,1.4,0.1]|[0.0,0.0,32.0]|       [0.0,0.0,1.0]|       2.0|\n",
      "|    setosa|  2.0|[5.0,3.2,1.2,0.2]|[0.0,0.0,32.0]|       [0.0,0.0,1.0]|       2.0|\n",
      "|    setosa|  2.0|[5.0,3.3,1.4,0.2]|[0.0,0.0,32.0]|       [0.0,0.0,1.0]|       2.0|\n",
      "|    setosa|  2.0|[5.0,3.6,1.4,0.2]|[0.0,0.0,32.0]|       [0.0,0.0,1.0]|       2.0|\n",
      "|    setosa|  2.0|[5.2,3.4,1.4,0.2]|[0.0,0.0,32.0]|       [0.0,0.0,1.0]|       2.0|\n",
      "|    setosa|  2.0|[5.2,4.1,1.5,0.1]|[0.0,0.0,32.0]|       [0.0,0.0,1.0]|       2.0|\n",
      "|    setosa|  2.0|[5.4,3.7,1.5,0.2]|[0.0,0.0,32.0]|       [0.0,0.0,1.0]|       2.0|\n",
      "|    setosa|  2.0|[5.5,4.2,1.4,0.2]|[0.0,0.0,32.0]|       [0.0,0.0,1.0]|       2.0|\n",
      "|    setosa|  2.0|[5.7,4.4,1.5,0.4]|[0.0,0.0,32.0]|       [0.0,0.0,1.0]|       2.0|\n",
      "|    setosa|  2.0|[5.8,4.0,1.2,0.2]|[0.0,0.0,32.0]|       [0.0,0.0,1.0]|       2.0|\n",
      "|versicolor|  0.0|[4.9,2.4,3.3,1.0]|[31.0,2.0,0.0]|[0.93939393939393...|       0.0|\n",
      "|versicolor|  0.0|[5.6,3.0,4.5,1.5]|[31.0,2.0,0.0]|[0.93939393939393...|       0.0|\n",
      "+----------+-----+-----------------+--------------+--------------------+----------+\n",
      "only showing top 20 rows\n",
      "\n"
     ]
    }
   ],
   "source": [
    "# predicao do dataset de test\n",
    "predictions = model.transform(dados_teste)\n",
    "predictions.show()"
   ]
  },
  {
   "cell_type": "code",
   "execution_count": 31,
   "metadata": {},
   "outputs": [
    {
     "data": {
      "text/plain": [
       "[Row(species='setosa', label=2.0, features=DenseVector([4.3, 3.0, 1.1, 0.1]), rawPrediction=DenseVector([0.0, 0.0, 32.0]), probability=DenseVector([0.0, 0.0, 1.0]), prediction=2.0),\n",
       " Row(species='setosa', label=2.0, features=DenseVector([4.4, 3.2, 1.3, 0.2]), rawPrediction=DenseVector([0.0, 0.0, 32.0]), probability=DenseVector([0.0, 0.0, 1.0]), prediction=2.0),\n",
       " Row(species='setosa', label=2.0, features=DenseVector([4.5, 2.3, 1.3, 0.3]), rawPrediction=DenseVector([0.0, 0.0, 32.0]), probability=DenseVector([0.0, 0.0, 1.0]), prediction=2.0)]"
      ]
     },
     "execution_count": 31,
     "metadata": {},
     "output_type": "execute_result"
    }
   ],
   "source": [
    "predictions.select(\"*\").take(3)"
   ]
  },
  {
   "cell_type": "code",
   "execution_count": 32,
   "metadata": {},
   "outputs": [],
   "source": [
    "### Avaliação do modelo"
   ]
  },
  {
   "cell_type": "code",
   "execution_count": 33,
   "metadata": {},
   "outputs": [],
   "source": [
    "evaluator = MulticlassClassificationEvaluator(predictionCol = \"prediction\",\n",
    "                                             labelCol = \"label\",\n",
    "                                             metricName = \"accuracy\")"
   ]
  },
  {
   "cell_type": "code",
   "execution_count": 34,
   "metadata": {},
   "outputs": [
    {
     "data": {
      "text/plain": [
       "0.9111111111111111"
      ]
     },
     "execution_count": 34,
     "metadata": {},
     "output_type": "execute_result"
    }
   ],
   "source": [
    "evaluator.evaluate(predictions)"
   ]
  },
  {
   "cell_type": "code",
   "execution_count": 35,
   "metadata": {},
   "outputs": [
    {
     "name": "stdout",
     "output_type": "stream",
     "text": [
      "+-----+----------+-----+\n",
      "|label|prediction|count|\n",
      "+-----+----------+-----+\n",
      "|  1.0|       1.0|    8|\n",
      "|  0.0|       1.0|    3|\n",
      "|  2.0|       2.0|   18|\n",
      "|  1.0|       0.0|    1|\n",
      "|  0.0|       0.0|   15|\n",
      "+-----+----------+-----+\n",
      "\n"
     ]
    }
   ],
   "source": [
    "# confision matrix\n",
    "predictions.groupBy(\"label\", \"prediction\").count().show()"
   ]
  },
  {
   "cell_type": "code",
   "execution_count": 36,
   "metadata": {},
   "outputs": [
    {
     "name": "stdout",
     "output_type": "stream",
     "text": [
      "+-------+-----+-----------------+--------------+-------------+----------+\n",
      "|species|label|         features| rawPrediction|  probability|prediction|\n",
      "+-------+-----+-----------------+--------------+-------------+----------+\n",
      "| setosa|  2.0|[4.3,3.0,1.1,0.1]|[0.0,0.0,32.0]|[0.0,0.0,1.0]|       2.0|\n",
      "+-------+-----+-----------------+--------------+-------------+----------+\n",
      "\n"
     ]
    }
   ],
   "source": [
    "# predicao de 1 instancia\n",
    "df = spSession.createDataFrame(dados_teste.limit(1).take(1))\n",
    "predictions = model.transform(df)\n",
    "predictions.show()"
   ]
  }
 ],
 "metadata": {
  "kernelspec": {
   "display_name": "Python 3",
   "language": "python",
   "name": "python3"
  },
  "language_info": {
   "codemirror_mode": {
    "name": "ipython",
    "version": 3
   },
   "file_extension": ".py",
   "mimetype": "text/x-python",
   "name": "python",
   "nbconvert_exporter": "python",
   "pygments_lexer": "ipython3",
   "version": "3.7.3"
  }
 },
 "nbformat": 4,
 "nbformat_minor": 4
}
