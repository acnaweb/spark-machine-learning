{
 "cells": [
  {
   "cell_type": "markdown",
   "metadata": {},
   "source": [
    "### MLLib "
   ]
  },
  {
   "cell_type": "code",
   "execution_count": 1,
   "metadata": {},
   "outputs": [],
   "source": [
    "from pyspark.sql import Row\n",
    "from pyspark.ml.linalg import Vectors\n",
    "from pyspark.ml.regression import LinearRegression\n",
    "from pyspark.ml.evaluation import RegressionEvaluator"
   ]
  },
  {
   "cell_type": "code",
   "execution_count": 2,
   "metadata": {},
   "outputs": [],
   "source": [
    "spSession = SparkSession.builder.master(\"local\").appName(\"MLApp\").getOrCreate()"
   ]
  },
  {
   "cell_type": "code",
   "execution_count": 3,
   "metadata": {},
   "outputs": [],
   "source": [
    "carrosRDD = sc.textFile(\"data/carros.csv\")"
   ]
  },
  {
   "cell_type": "code",
   "execution_count": 4,
   "metadata": {},
   "outputs": [
    {
     "data": {
      "text/plain": [
       "data/carros.csv MapPartitionsRDD[1] at textFile at NativeMethodAccessorImpl.java:0"
      ]
     },
     "execution_count": 4,
     "metadata": {},
     "output_type": "execute_result"
    }
   ],
   "source": [
    "carrosRDD.cache()"
   ]
  },
  {
   "cell_type": "code",
   "execution_count": 5,
   "metadata": {},
   "outputs": [
    {
     "data": {
      "text/plain": [
       "399"
      ]
     },
     "execution_count": 5,
     "metadata": {},
     "output_type": "execute_result"
    }
   ],
   "source": [
    "carrosRDD.count()"
   ]
  },
  {
   "cell_type": "code",
   "execution_count": 6,
   "metadata": {},
   "outputs": [
    {
     "data": {
      "text/plain": [
       "['MPG,CYLINDERS,DISPLACEMENT,HORSEPOWER,WEIGHT,ACCELERATION,MODELYEAR,NAME',\n",
       " '18,8,307,130,3504,12,70,chevrolet chevelle malibu',\n",
       " '15,8,350,165,3693,11.5,70,buick skylark 320',\n",
       " '18,8,318,150,3436,11,70,plymouth satellite',\n",
       " '16,8,304,150,3433,12,70,amc rebel sst']"
      ]
     },
     "execution_count": 6,
     "metadata": {},
     "output_type": "execute_result"
    }
   ],
   "source": [
    "carrosRDD.take(5)"
   ]
  },
  {
   "cell_type": "code",
   "execution_count": 7,
   "metadata": {},
   "outputs": [],
   "source": [
    "# removendo header\n",
    "carrosRDD2 = carrosRDD.filter(lambda line : \"DISPLACEMENT\" not in line)"
   ]
  },
  {
   "cell_type": "code",
   "execution_count": 8,
   "metadata": {},
   "outputs": [
    {
     "data": {
      "text/plain": [
       "398"
      ]
     },
     "execution_count": 8,
     "metadata": {},
     "output_type": "execute_result"
    }
   ],
   "source": [
    "carrosRDD2.count()"
   ]
  },
  {
   "cell_type": "markdown",
   "metadata": {},
   "source": [
    "#### Limpeza de dados"
   ]
  },
  {
   "cell_type": "code",
   "execution_count": 9,
   "metadata": {},
   "outputs": [],
   "source": [
    "# constant - valor padrão para average HP\n",
    "mediaHP = sc.broadcast(75.8)"
   ]
  },
  {
   "cell_type": "code",
   "execution_count": 10,
   "metadata": {},
   "outputs": [],
   "source": [
    "def limpaDados(inputStr):\n",
    "        global mediaHP\n",
    "        attList = inputStr.split(\",\")\n",
    "        \n",
    "        hpValue = attList[3]\n",
    "        if hpValue == \"?\":\n",
    "            hpValue = mediaHP.value\n",
    "         \n",
    "        linhas = Row(MPG = float(attList[0]), \n",
    "                    CYLINDERS =  float(attList[1]), \n",
    "                    DISPLACEMENT =  float(attList[2]), \n",
    "                    HORSEPOWER =  float(hpValue), \n",
    "                    WEIGHT =  float(attList[4]), \n",
    "                    ACCELERATION =  float(attList[5]), \n",
    "                    MODELYEAR =  float(attList[6]), \n",
    "                    NAME =  attList[7])\n",
    "        return linhas\n",
    "            "
   ]
  },
  {
   "cell_type": "code",
   "execution_count": 11,
   "metadata": {},
   "outputs": [
    {
     "data": {
      "text/plain": [
       "398"
      ]
     },
     "execution_count": 11,
     "metadata": {},
     "output_type": "execute_result"
    }
   ],
   "source": [
    "carrosRDD3 = carrosRDD2.map(limpaDados)\n",
    "carrosRDD3.count()\n"
   ]
  },
  {
   "cell_type": "code",
   "execution_count": 12,
   "metadata": {},
   "outputs": [
    {
     "data": {
      "text/plain": [
       "[Row(ACCELERATION=12.0, CYLINDERS=8.0, DISPLACEMENT=307.0, HORSEPOWER=130.0, MODELYEAR=70.0, MPG=18.0, NAME='chevrolet chevelle malibu', WEIGHT=3504.0),\n",
       " Row(ACCELERATION=11.5, CYLINDERS=8.0, DISPLACEMENT=350.0, HORSEPOWER=165.0, MODELYEAR=70.0, MPG=15.0, NAME='buick skylark 320', WEIGHT=3693.0),\n",
       " Row(ACCELERATION=11.0, CYLINDERS=8.0, DISPLACEMENT=318.0, HORSEPOWER=150.0, MODELYEAR=70.0, MPG=18.0, NAME='plymouth satellite', WEIGHT=3436.0),\n",
       " Row(ACCELERATION=12.0, CYLINDERS=8.0, DISPLACEMENT=304.0, HORSEPOWER=150.0, MODELYEAR=70.0, MPG=16.0, NAME='amc rebel sst', WEIGHT=3433.0),\n",
       " Row(ACCELERATION=10.5, CYLINDERS=8.0, DISPLACEMENT=302.0, HORSEPOWER=140.0, MODELYEAR=70.0, MPG=17.0, NAME='ford torino', WEIGHT=3449.0)]"
      ]
     },
     "execution_count": 12,
     "metadata": {},
     "output_type": "execute_result"
    }
   ],
   "source": [
    "carrosRDD3.take(5)"
   ]
  },
  {
   "cell_type": "markdown",
   "metadata": {},
   "source": [
    "### Análise Exploratória de Dados"
   ]
  },
  {
   "cell_type": "code",
   "execution_count": 13,
   "metadata": {},
   "outputs": [],
   "source": [
    "carrosDF = spSession.createDataFrame(carrosRDD3)"
   ]
  },
  {
   "cell_type": "code",
   "execution_count": 14,
   "metadata": {},
   "outputs": [
    {
     "name": "stdout",
     "output_type": "stream",
     "text": [
      "+-------+-----------------+------------------+\n",
      "|summary|              MPG|         CYLINDERS|\n",
      "+-------+-----------------+------------------+\n",
      "|  count|              398|               398|\n",
      "|   mean|23.51457286432161| 5.454773869346734|\n",
      "| stddev|7.815984312565782|1.7010042445332125|\n",
      "|    min|              9.0|               3.0|\n",
      "|    max|             46.6|               8.0|\n",
      "+-------+-----------------+------------------+\n",
      "\n"
     ]
    }
   ],
   "source": [
    "carrosDF.select(\"MPG\", \"CYLINDERS\").describe().show()"
   ]
  },
  {
   "cell_type": "code",
   "execution_count": 15,
   "metadata": {},
   "outputs": [
    {
     "name": "stdout",
     "output_type": "stream",
     "text": [
      "Correlação de MPG com ACCELERATION 0.4202889121016501\n",
      "Correlação de MPG com CYLINDERS -0.7753962854205548\n",
      "Correlação de MPG com DISPLACEMENT -0.8042028248058979\n",
      "Correlação de MPG com HORSEPOWER -0.7747055053130659\n",
      "Correlação de MPG com MODELYEAR 0.5792671330833091\n",
      "Correlação de MPG com MPG 1.0\n",
      "Correlação de MPG com WEIGHT -0.8317409332443347\n"
     ]
    }
   ],
   "source": [
    "for i in carrosDF.columns:\n",
    "    if not(isinstance(carrosDF.select(i).take(1)[0][0], str)):\n",
    "        print(\"Correlação de MPG com\", i, carrosDF.stat.corr(\"MPG\", i))"
   ]
  },
  {
   "cell_type": "markdown",
   "metadata": {},
   "source": [
    "### Pré Processamento "
   ]
  },
  {
   "cell_type": "code",
   "execution_count": 16,
   "metadata": {},
   "outputs": [],
   "source": [
    "#from IPhyton.display import Image\n",
    "#Image(\"images/vetores.png\")\n"
   ]
  },
  {
   "cell_type": "code",
   "execution_count": 17,
   "metadata": {},
   "outputs": [],
   "source": [
    "def transformaVar(row):\n",
    "    obj = (row[\"MPG\"], Vectors.dense([row[\"ACCELERATION\"],row[\"DISPLACEMENT\"],row[\"WEIGHT\"]]))\n",
    "    return obj"
   ]
  },
  {
   "cell_type": "code",
   "execution_count": 19,
   "metadata": {},
   "outputs": [],
   "source": [
    "carrosRDD4 = carrosRDD3.map(transformaVar)"
   ]
  },
  {
   "cell_type": "code",
   "execution_count": 23,
   "metadata": {},
   "outputs": [],
   "source": [
    "carrosDF = spSession.createDataFrame(carrosRDD4, [\"label\", \"features\"])"
   ]
  },
  {
   "cell_type": "code",
   "execution_count": 24,
   "metadata": {},
   "outputs": [
    {
     "name": "stdout",
     "output_type": "stream",
     "text": [
      "+-----+-------------------+\n",
      "|label|           features|\n",
      "+-----+-------------------+\n",
      "| 18.0|[12.0,307.0,3504.0]|\n",
      "| 15.0|[11.5,350.0,3693.0]|\n",
      "| 18.0|[11.0,318.0,3436.0]|\n",
      "| 16.0|[12.0,304.0,3433.0]|\n",
      "| 17.0|[10.5,302.0,3449.0]|\n",
      "+-----+-------------------+\n",
      "only showing top 5 rows\n",
      "\n"
     ]
    }
   ],
   "source": [
    "carrosDF.show(5)"
   ]
  },
  {
   "cell_type": "code",
   "execution_count": 26,
   "metadata": {},
   "outputs": [
    {
     "data": {
      "text/plain": [
       "[(18.0, DenseVector([12.0, 307.0, 3504.0])),\n",
       " (15.0, DenseVector([11.5, 350.0, 3693.0])),\n",
       " (18.0, DenseVector([11.0, 318.0, 3436.0])),\n",
       " (16.0, DenseVector([12.0, 304.0, 3433.0])),\n",
       " (17.0, DenseVector([10.5, 302.0, 3449.0]))]"
      ]
     },
     "execution_count": 26,
     "metadata": {},
     "output_type": "execute_result"
    }
   ],
   "source": [
    "carrosRDD4.take(5)"
   ]
  },
  {
   "cell_type": "markdown",
   "metadata": {},
   "source": [
    "### Machine Learning"
   ]
  },
  {
   "cell_type": "code",
   "execution_count": 28,
   "metadata": {},
   "outputs": [],
   "source": [
    "(dados_treino, dados_teste) = carrosDF.randomSplit([0.7, 0.3])"
   ]
  },
  {
   "cell_type": "code",
   "execution_count": 31,
   "metadata": {},
   "outputs": [
    {
     "data": {
      "text/plain": [
       "283"
      ]
     },
     "execution_count": 31,
     "metadata": {},
     "output_type": "execute_result"
    }
   ],
   "source": [
    "dados_treino.count()"
   ]
  },
  {
   "cell_type": "code",
   "execution_count": 32,
   "metadata": {},
   "outputs": [
    {
     "data": {
      "text/plain": [
       "115"
      ]
     },
     "execution_count": 32,
     "metadata": {},
     "output_type": "execute_result"
    }
   ],
   "source": [
    "dados_teste.count()"
   ]
  },
  {
   "cell_type": "code",
   "execution_count": 33,
   "metadata": {},
   "outputs": [],
   "source": [
    "linearReg = LinearRegression(maxIter = 10)\n",
    "modelo = linearReg.fit(dados_treino)"
   ]
  },
  {
   "cell_type": "code",
   "execution_count": 34,
   "metadata": {},
   "outputs": [
    {
     "name": "stdout",
     "output_type": "stream",
     "text": [
      "LinearRegression_697b7265fe4c\n"
     ]
    }
   ],
   "source": [
    "print(modelo)"
   ]
  },
  {
   "cell_type": "code",
   "execution_count": 36,
   "metadata": {},
   "outputs": [
    {
     "name": "stdout",
     "output_type": "stream",
     "text": [
      "coefic: [0.16728194142447705,-0.01085036084612367,-0.006218280932126904]\n",
      "intercept: 41.52388714177826\n"
     ]
    }
   ],
   "source": [
    "print(\"coefic: \" + str(modelo.coefficients))\n",
    "print(\"intercept: \" + str(modelo.intercept))\n"
   ]
  },
  {
   "cell_type": "code",
   "execution_count": 39,
   "metadata": {},
   "outputs": [
    {
     "name": "stdout",
     "output_type": "stream",
     "text": [
      "+-----+-------------------+------------------+\n",
      "|label|           features|        prediction|\n",
      "+-----+-------------------+------------------+\n",
      "| 10.0|[14.0,360.0,4615.0]|11.262337915350756|\n",
      "| 11.0|[11.0,350.0,3664.0]|16.782580865991246|\n",
      "| 11.0|[13.5,318.0,4382.0]|13.083271557361279|\n",
      "| 12.0|[11.0,455.0,4951.0]| 7.640365417500938|\n",
      "| 12.0|[11.5,429.0,4952.0]| 7.999897489280265|\n",
      "| 12.0|[12.5,350.0,4499.0]|11.841239199801997|\n",
      "| 12.0|[13.5,350.0,4456.0]|12.275907221307932|\n",
      "| 13.0|[11.0,360.0,3821.0]| 15.69780715118609|\n",
      "| 13.0|[12.0,302.0,3169.0]| 20.54872918943248|\n",
      "| 13.0|[13.0,350.0,4100.0]| 14.40597426243287|\n",
      "| 13.0|[16.0,302.0,4294.0]|14.222290906487618|\n",
      "| 14.0| [8.5,440.0,4312.0]|11.358397492260693|\n",
      "| 14.0|[10.0,455.0,4425.0]|10.743899246375214|\n",
      "| 14.0|[11.5,400.0,4464.0]|11.349079048695778|\n",
      "| 14.0|[13.0,318.0,4096.0]|14.778058933237336|\n",
      "| 14.0|[14.0,318.0,4077.0]|15.063488212372224|\n",
      "| 15.0| [8.5,390.0,3850.0]|14.773761325209502|\n",
      "| 15.0|[21.0,250.0,3432.0]|20.983077541101828|\n",
      "| 15.5|[13.9,304.0,3962.0]|15.913767377270105|\n",
      "| 16.0|[13.0,318.0,4190.0]|14.193540525617408|\n",
      "+-----+-------------------+------------------+\n",
      "only showing top 20 rows\n",
      "\n"
     ]
    }
   ],
   "source": [
    "predictions = modelo.transform(dados_teste)\n",
    "predictions.show()"
   ]
  },
  {
   "cell_type": "code",
   "execution_count": 40,
   "metadata": {},
   "outputs": [],
   "source": [
    "avaliador = RegressionEvaluator(predictionCol = \"prediction\", labelCol=\"label\", metricName =\"r2\")"
   ]
  },
  {
   "cell_type": "code",
   "execution_count": 41,
   "metadata": {},
   "outputs": [
    {
     "data": {
      "text/plain": [
       "0.6972233895747204"
      ]
     },
     "execution_count": 41,
     "metadata": {},
     "output_type": "execute_result"
    }
   ],
   "source": [
    "avaliador.evaluate(predictions)"
   ]
  },
  {
   "cell_type": "code",
   "execution_count": null,
   "metadata": {},
   "outputs": [],
   "source": [
    "# Melhorar!\n",
    "# incluir outras variaveis\n",
    "# mudar as variaveis\n",
    "# mudar o split de treinamento e teste\n",
    "# mudar a quantidade de iteracoes"
   ]
  }
 ],
 "metadata": {
  "kernelspec": {
   "display_name": "Python 3",
   "language": "python",
   "name": "python3"
  },
  "language_info": {
   "codemirror_mode": {
    "name": "ipython",
    "version": 3
   },
   "file_extension": ".py",
   "mimetype": "text/x-python",
   "name": "python",
   "nbconvert_exporter": "python",
   "pygments_lexer": "ipython3",
   "version": "3.7.9"
  }
 },
 "nbformat": 4,
 "nbformat_minor": 4
}
