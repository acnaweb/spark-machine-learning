{
 "cells": [
  {
   "cell_type": "code",
   "execution_count": 1,
   "metadata": {},
   "outputs": [],
   "source": [
    "import math\n",
    "import pandas as pd\n",
    "from pyspark.sql import Row\n",
    "from pyspark.ml.linalg import Vectors\n",
    "from pyspark.ml.clustering import KMeans\n",
    "import matplotlib.pylab as plt\n",
    "%matplotlib inline"
   ]
  },
  {
   "cell_type": "code",
   "execution_count": 2,
   "metadata": {},
   "outputs": [],
   "source": [
    "session = SparkSession.builder.master(\"local\").appName(\"clusterization\").getOrCreate()"
   ]
  },
  {
   "cell_type": "code",
   "execution_count": 4,
   "metadata": {},
   "outputs": [
    {
     "data": {
      "text/plain": [
       "data/carros2.csv MapPartitionsRDD[1] at textFile at NativeMethodAccessorImpl.java:0"
      ]
     },
     "execution_count": 4,
     "metadata": {},
     "output_type": "execute_result"
    }
   ],
   "source": [
    "rdd_raw = sc.textFile(\"data/carros2.csv\")\n",
    "rdd_raw.cache()"
   ]
  },
  {
   "cell_type": "code",
   "execution_count": 5,
   "metadata": {},
   "outputs": [
    {
     "data": {
      "text/plain": [
       "198"
      ]
     },
     "execution_count": 5,
     "metadata": {},
     "output_type": "execute_result"
    }
   ],
   "source": [
    "rdd_raw.count()"
   ]
  },
  {
   "cell_type": "code",
   "execution_count": 6,
   "metadata": {},
   "outputs": [
    {
     "data": {
      "text/plain": [
       "['MAKE,FUELTYPE,ASPIRE,DOORS,BODY,DRIVE,CYLINDERS,HP,RPM,MPG-CITY,MPG-HWY,PRICE',\n",
       " 'subaru,gas,std,two,hatchback,fwd,four,69,4900,31,36,5118',\n",
       " 'chevrolet,gas,std,two,hatchback,fwd,three,48,5100,47,53,5151',\n",
       " 'mazda,gas,std,two,hatchback,fwd,four,68,5000,30,31,5195',\n",
       " 'toyota,gas,std,two,hatchback,fwd,four,62,4800,35,39,5348']"
      ]
     },
     "execution_count": 6,
     "metadata": {},
     "output_type": "execute_result"
    }
   ],
   "source": [
    "rdd_raw.take(5)"
   ]
  },
  {
   "cell_type": "markdown",
   "metadata": {},
   "source": [
    "### Preparação de dados\n"
   ]
  },
  {
   "cell_type": "code",
   "execution_count": 8,
   "metadata": {},
   "outputs": [],
   "source": [
    "header = rdd_raw.first()"
   ]
  },
  {
   "cell_type": "code",
   "execution_count": 12,
   "metadata": {},
   "outputs": [
    {
     "data": {
      "text/plain": [
       "['subaru,gas,std,two,hatchback,fwd,four,69,4900,31,36,5118',\n",
       " 'chevrolet,gas,std,two,hatchback,fwd,three,48,5100,47,53,5151',\n",
       " 'mazda,gas,std,two,hatchback,fwd,four,68,5000,30,31,5195',\n",
       " 'toyota,gas,std,two,hatchback,fwd,four,62,4800,35,39,5348',\n",
       " 'mitsubishi,gas,std,two,hatchback,fwd,four,68,5500,37,41,5389']"
      ]
     },
     "execution_count": 12,
     "metadata": {},
     "output_type": "execute_result"
    }
   ],
   "source": [
    "rdd_data = rdd_raw.filter(lambda line: line != header)\n",
    "rdd_data.cache()\n",
    "rdd_data.take(5)"
   ]
  },
  {
   "cell_type": "code",
   "execution_count": 18,
   "metadata": {},
   "outputs": [
    {
     "name": "stdout",
     "output_type": "stream",
     "text": [
      "make =\n",
      "fueltype =\n",
      "aspire =\n",
      "doors =\n",
      "body =\n",
      "drive =\n",
      "cylinders =\n",
      "hp =\n",
      "rpm =\n",
      "mpg-city =\n",
      "mpg-hwy =\n",
      "price =\n"
     ]
    }
   ],
   "source": [
    "for i in header.split(\",\"):\n",
    "    print(i.lower(),\"=\")"
   ]
  },
  {
   "cell_type": "code",
   "execution_count": 21,
   "metadata": {},
   "outputs": [],
   "source": [
    "def transformToNumeric(line):\n",
    "    lineList = line.split(\",\")\n",
    "    doors = 1.0 if lineList[3] == \"two\" else 2.0\n",
    "    body = 1.0 if lineList[4] == \"sedan\" else 2.0\n",
    "    hp = float(lineList[7])\n",
    "    rpm = float(lineList[8])\n",
    "    mpg = float(lineList[9])\n",
    "    \n",
    "    row =Row(doors=doors, body=body, hp=hp, rpm=rpm, mpg=mpg)    \n",
    "    return row\n",
    "    \n",
    "    "
   ]
  },
  {
   "cell_type": "code",
   "execution_count": 25,
   "metadata": {},
   "outputs": [
    {
     "data": {
      "text/plain": [
       "[Row(body=2.0, doors=1.0, hp=69.0, mpg=31.0, rpm=4900.0),\n",
       " Row(body=2.0, doors=1.0, hp=48.0, mpg=47.0, rpm=5100.0),\n",
       " Row(body=2.0, doors=1.0, hp=68.0, mpg=30.0, rpm=5000.0),\n",
       " Row(body=2.0, doors=1.0, hp=62.0, mpg=35.0, rpm=4800.0),\n",
       " Row(body=2.0, doors=1.0, hp=68.0, mpg=37.0, rpm=5500.0)]"
      ]
     },
     "execution_count": 25,
     "metadata": {},
     "output_type": "execute_result"
    }
   ],
   "source": [
    "rdd_transf = rdd_data.map(transformToNumeric)\n",
    "rdd_transf.persist()\n",
    "rdd_transf.take(5)"
   ]
  },
  {
   "cell_type": "code",
   "execution_count": 30,
   "metadata": {},
   "outputs": [
    {
     "name": "stdout",
     "output_type": "stream",
     "text": [
      "+----+-----+----+----+------+\n",
      "|body|doors|  hp| mpg|   rpm|\n",
      "+----+-----+----+----+------+\n",
      "| 2.0|  1.0|69.0|31.0|4900.0|\n",
      "| 2.0|  1.0|48.0|47.0|5100.0|\n",
      "| 2.0|  1.0|68.0|30.0|5000.0|\n",
      "| 2.0|  1.0|62.0|35.0|4800.0|\n",
      "| 2.0|  1.0|68.0|37.0|5500.0|\n",
      "| 2.0|  1.0|60.0|38.0|5500.0|\n",
      "| 1.0|  1.0|69.0|31.0|5200.0|\n",
      "| 2.0|  1.0|68.0|37.0|5500.0|\n",
      "| 2.0|  1.0|68.0|37.0|5500.0|\n",
      "| 2.0|  1.0|68.0|31.0|5000.0|\n",
      "| 2.0|  1.0|68.0|31.0|5500.0|\n",
      "| 2.0|  2.0|68.0|31.0|5500.0|\n",
      "| 2.0|  2.0|68.0|31.0|5500.0|\n",
      "| 2.0|  1.0|70.0|38.0|5400.0|\n",
      "| 2.0|  1.0|62.0|31.0|4800.0|\n",
      "| 2.0|  1.0|68.0|31.0|5500.0|\n",
      "| 2.0|  1.0|58.0|49.0|4800.0|\n",
      "| 2.0|  2.0|62.0|31.0|4800.0|\n",
      "| 2.0|  1.0|76.0|30.0|6000.0|\n",
      "| 1.0|  2.0|70.0|38.0|5400.0|\n",
      "+----+-----+----+----+------+\n",
      "only showing top 20 rows\n",
      "\n"
     ]
    }
   ],
   "source": [
    "df_cars = session.createDataFrame(rdd_transf)\n",
    "df_cars.show()"
   ]
  },
  {
   "cell_type": "code",
   "execution_count": 36,
   "metadata": {},
   "outputs": [
    {
     "data": {
      "text/html": [
       "<div>\n",
       "<style scoped>\n",
       "    .dataframe tbody tr th:only-of-type {\n",
       "        vertical-align: middle;\n",
       "    }\n",
       "\n",
       "    .dataframe tbody tr th {\n",
       "        vertical-align: top;\n",
       "    }\n",
       "\n",
       "    .dataframe thead th {\n",
       "        text-align: right;\n",
       "    }\n",
       "</style>\n",
       "<table border=\"1\" class=\"dataframe\">\n",
       "  <thead>\n",
       "    <tr style=\"text-align: right;\">\n",
       "      <th></th>\n",
       "      <th>summary</th>\n",
       "      <th>body</th>\n",
       "      <th>doors</th>\n",
       "      <th>hp</th>\n",
       "      <th>mpg</th>\n",
       "      <th>rpm</th>\n",
       "    </tr>\n",
       "  </thead>\n",
       "  <tbody>\n",
       "    <tr>\n",
       "      <th>0</th>\n",
       "      <td>count</td>\n",
       "      <td>197</td>\n",
       "      <td>197</td>\n",
       "      <td>197</td>\n",
       "      <td>197</td>\n",
       "      <td>197</td>\n",
       "    </tr>\n",
       "    <tr>\n",
       "      <th>1</th>\n",
       "      <td>mean</td>\n",
       "      <td>1.532994923857868</td>\n",
       "      <td>1.5685279187817258</td>\n",
       "      <td>103.60406091370558</td>\n",
       "      <td>25.15228426395939</td>\n",
       "      <td>5118.0203045685275</td>\n",
       "    </tr>\n",
       "    <tr>\n",
       "      <th>2</th>\n",
       "      <td>stddev</td>\n",
       "      <td>0.5001812579359883</td>\n",
       "      <td>0.49654352778167493</td>\n",
       "      <td>37.639205349518356</td>\n",
       "      <td>6.437862917085915</td>\n",
       "      <td>481.03591405011446</td>\n",
       "    </tr>\n",
       "    <tr>\n",
       "      <th>3</th>\n",
       "      <td>min</td>\n",
       "      <td>1.0</td>\n",
       "      <td>1.0</td>\n",
       "      <td>48.0</td>\n",
       "      <td>13.0</td>\n",
       "      <td>4150.0</td>\n",
       "    </tr>\n",
       "    <tr>\n",
       "      <th>4</th>\n",
       "      <td>max</td>\n",
       "      <td>2.0</td>\n",
       "      <td>2.0</td>\n",
       "      <td>262.0</td>\n",
       "      <td>49.0</td>\n",
       "      <td>6600.0</td>\n",
       "    </tr>\n",
       "  </tbody>\n",
       "</table>\n",
       "</div>"
      ],
      "text/plain": [
       "  summary                body                doors                  hp  \\\n",
       "0   count                 197                  197                 197   \n",
       "1    mean   1.532994923857868   1.5685279187817258  103.60406091370558   \n",
       "2  stddev  0.5001812579359883  0.49654352778167493  37.639205349518356   \n",
       "3     min                 1.0                  1.0                48.0   \n",
       "4     max                 2.0                  2.0               262.0   \n",
       "\n",
       "                 mpg                 rpm  \n",
       "0                197                 197  \n",
       "1  25.15228426395939  5118.0203045685275  \n",
       "2  6.437862917085915  481.03591405011446  \n",
       "3               13.0              4150.0  \n",
       "4               49.0              6600.0  "
      ]
     },
     "execution_count": 36,
     "metadata": {},
     "output_type": "execute_result"
    }
   ],
   "source": [
    "stats = df_cars.describe().toPandas()\n",
    "stats.head()"
   ]
  },
  {
   "cell_type": "code",
   "execution_count": 44,
   "metadata": {},
   "outputs": [
    {
     "data": {
      "text/plain": [
       "['1.532994923857868',\n",
       " '1.5685279187817258',\n",
       " '103.60406091370558',\n",
       " '25.15228426395939']"
      ]
     },
     "execution_count": 44,
     "metadata": {},
     "output_type": "execute_result"
    }
   ],
   "source": [
    "means = stats.iloc[1, 1:5].values.tolist()\n",
    "means"
   ]
  },
  {
   "cell_type": "code",
   "execution_count": 45,
   "metadata": {},
   "outputs": [
    {
     "data": {
      "text/plain": [
       "['0.5001812579359883',\n",
       " '0.49654352778167493',\n",
       " '37.639205349518356',\n",
       " '6.437862917085915']"
      ]
     },
     "execution_count": 45,
     "metadata": {},
     "output_type": "execute_result"
    }
   ],
   "source": [
    "sd = stats.iloc[2, 1:5].values.tolist()\n",
    "sd"
   ]
  },
  {
   "cell_type": "code",
   "execution_count": 69,
   "metadata": {},
   "outputs": [],
   "source": [
    "MEANS = sc.broadcast(means)\n",
    "SD = sc.broadcast(sd)"
   ]
  },
  {
   "cell_type": "code",
   "execution_count": 70,
   "metadata": {},
   "outputs": [],
   "source": [
    "def centerAndScale(row):\n",
    "    global MEANS\n",
    "    global SD\n",
    "    \n",
    "    mean_array = MEANS.value\n",
    "    sd_array = SD.value\n",
    "    \n",
    "    result = []\n",
    "    \n",
    "    for i in range(len(mean_array)):\n",
    "        result.append(float(row[i]) - float(mean_array[i]) / float(sd_array[i]))\n",
    "    \n",
    "    return Vectors.dense(result)\n",
    "    "
   ]
  },
  {
   "cell_type": "code",
   "execution_count": 71,
   "metadata": {},
   "outputs": [
    {
     "data": {
      "text/plain": [
       "[DenseVector([-1.0649, -2.1589, 66.2474, 27.0931]),\n",
       " DenseVector([-1.0649, -2.1589, 45.2474, 43.0931]),\n",
       " DenseVector([-1.0649, -2.1589, 65.2474, 26.0931]),\n",
       " DenseVector([-1.0649, -2.1589, 59.2474, 31.0931]),\n",
       " DenseVector([-1.0649, -2.1589, 65.2474, 33.0931])]"
      ]
     },
     "execution_count": 71,
     "metadata": {},
     "output_type": "execute_result"
    }
   ],
   "source": [
    "df_centered = df_cars.rdd.map(centerAndScale)\n",
    "df_centered.take(5)"
   ]
  },
  {
   "cell_type": "code",
   "execution_count": 73,
   "metadata": {},
   "outputs": [],
   "source": [
    "df_features = df_centered.map(lambda row: Row(features=row))"
   ]
  },
  {
   "cell_type": "code",
   "execution_count": 77,
   "metadata": {},
   "outputs": [
    {
     "name": "stdout",
     "output_type": "stream",
     "text": [
      "+--------------------+\n",
      "|            features|\n",
      "+--------------------+\n",
      "|[-1.0648787805121...|\n",
      "|[-1.0648787805121...|\n",
      "|[-1.0648787805121...|\n",
      "|[-1.0648787805121...|\n",
      "|[-1.0648787805121...|\n",
      "+--------------------+\n",
      "only showing top 5 rows\n",
      "\n"
     ]
    }
   ],
   "source": [
    "df_inputs = session.createDataFrame(df_features)\n",
    "df_inputs.show(5)"
   ]
  },
  {
   "cell_type": "code",
   "execution_count": 79,
   "metadata": {},
   "outputs": [],
   "source": [
    "clusterizer = KMeans(k=3, seed=1)"
   ]
  },
  {
   "cell_type": "code",
   "execution_count": 80,
   "metadata": {},
   "outputs": [],
   "source": [
    "model = clusterizer.fit(df_inputs)"
   ]
  },
  {
   "cell_type": "code",
   "execution_count": 82,
   "metadata": {},
   "outputs": [
    {
     "name": "stdout",
     "output_type": "stream",
     "text": [
      "+--------------------+----------+\n",
      "|            features|prediction|\n",
      "+--------------------+----------+\n",
      "|[-1.0648787805121...|         1|\n",
      "|[-1.0648787805121...|         1|\n",
      "|[-1.0648787805121...|         1|\n",
      "|[-1.0648787805121...|         1|\n",
      "|[-1.0648787805121...|         1|\n",
      "+--------------------+----------+\n",
      "only showing top 5 rows\n",
      "\n"
     ]
    }
   ],
   "source": [
    "# predictions\n",
    "predictions = model.transform(df_inputs)\n",
    "predictions.show(5)"
   ]
  },
  {
   "cell_type": "code",
   "execution_count": 87,
   "metadata": {},
   "outputs": [],
   "source": [
    "def unstripData(line):\n",
    "    return (line[\"prediction\"], line[\"features\"][0], line[\"features\"][1], line[\"features\"][2], line[\"features\"][3])"
   ]
  },
  {
   "cell_type": "code",
   "execution_count": 91,
   "metadata": {},
   "outputs": [
    {
     "data": {
      "text/html": [
       "<div>\n",
       "<style scoped>\n",
       "    .dataframe tbody tr th:only-of-type {\n",
       "        vertical-align: middle;\n",
       "    }\n",
       "\n",
       "    .dataframe tbody tr th {\n",
       "        vertical-align: top;\n",
       "    }\n",
       "\n",
       "    .dataframe thead th {\n",
       "        text-align: right;\n",
       "    }\n",
       "</style>\n",
       "<table border=\"1\" class=\"dataframe\">\n",
       "  <thead>\n",
       "    <tr style=\"text-align: right;\">\n",
       "      <th></th>\n",
       "      <th>0</th>\n",
       "      <th>1</th>\n",
       "      <th>2</th>\n",
       "      <th>3</th>\n",
       "      <th>4</th>\n",
       "    </tr>\n",
       "  </thead>\n",
       "  <tbody>\n",
       "    <tr>\n",
       "      <th>0</th>\n",
       "      <td>1</td>\n",
       "      <td>-1.064879</td>\n",
       "      <td>-2.158893</td>\n",
       "      <td>66.247443</td>\n",
       "      <td>27.093069</td>\n",
       "    </tr>\n",
       "    <tr>\n",
       "      <th>1</th>\n",
       "      <td>1</td>\n",
       "      <td>-1.064879</td>\n",
       "      <td>-2.158893</td>\n",
       "      <td>45.247443</td>\n",
       "      <td>43.093069</td>\n",
       "    </tr>\n",
       "    <tr>\n",
       "      <th>2</th>\n",
       "      <td>1</td>\n",
       "      <td>-1.064879</td>\n",
       "      <td>-2.158893</td>\n",
       "      <td>65.247443</td>\n",
       "      <td>26.093069</td>\n",
       "    </tr>\n",
       "    <tr>\n",
       "      <th>3</th>\n",
       "      <td>1</td>\n",
       "      <td>-1.064879</td>\n",
       "      <td>-2.158893</td>\n",
       "      <td>59.247443</td>\n",
       "      <td>31.093069</td>\n",
       "    </tr>\n",
       "    <tr>\n",
       "      <th>4</th>\n",
       "      <td>1</td>\n",
       "      <td>-1.064879</td>\n",
       "      <td>-2.158893</td>\n",
       "      <td>65.247443</td>\n",
       "      <td>33.093069</td>\n",
       "    </tr>\n",
       "  </tbody>\n",
       "</table>\n",
       "</div>"
      ],
      "text/plain": [
       "   0         1         2          3          4\n",
       "0  1 -1.064879 -2.158893  66.247443  27.093069\n",
       "1  1 -1.064879 -2.158893  45.247443  43.093069\n",
       "2  1 -1.064879 -2.158893  65.247443  26.093069\n",
       "3  1 -1.064879 -2.158893  59.247443  31.093069\n",
       "4  1 -1.064879 -2.158893  65.247443  33.093069"
      ]
     },
     "execution_count": 91,
     "metadata": {},
     "output_type": "execute_result"
    }
   ],
   "source": [
    "df_predictions = predictions.rdd.map(unstripData)\n",
    "df_final = pd.DataFrame(df_predictions.collect())\n",
    "df_final.head()"
   ]
  },
  {
   "cell_type": "code",
   "execution_count": null,
   "metadata": {},
   "outputs": [],
   "source": [
    "plt.cla()\n",
    "plt.scatter(df_final[3])"
   ]
  }
 ],
 "metadata": {
  "kernelspec": {
   "display_name": "Python 3",
   "language": "python",
   "name": "python3"
  },
  "language_info": {
   "codemirror_mode": {
    "name": "ipython",
    "version": 3
   },
   "file_extension": ".py",
   "mimetype": "text/x-python",
   "name": "python",
   "nbconvert_exporter": "python",
   "pygments_lexer": "ipython3",
   "version": "3.7.3"
  }
 },
 "nbformat": 4,
 "nbformat_minor": 2
}
