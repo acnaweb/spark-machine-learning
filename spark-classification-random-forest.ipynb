{
 "cells": [
  {
   "cell_type": "code",
   "execution_count": 1,
   "metadata": {},
   "outputs": [],
   "source": [
    "import math\n",
    "from pyspark.ml.linalg import Vectors\n",
    "from pyspark.sql import Row\n",
    "from pyspark.ml.feature import StringIndexer\n",
    "from pyspark.ml.feature import PCA\n",
    "from pyspark.ml.classification import RandomForestClassifier\n",
    "from pyspark.ml.evaluation import MulticlassClassificationEvaluator"
   ]
  },
  {
   "cell_type": "code",
   "execution_count": 2,
   "metadata": {},
   "outputs": [],
   "source": [
    "spSession = SparkSession.builder.master(\"local\").appName(\"credit-classifier\").getOrCreate()"
   ]
  },
  {
   "cell_type": "code",
   "execution_count": 3,
   "metadata": {},
   "outputs": [],
   "source": [
    "bankRDD = sc.textFile(\"data/bank.csv\")"
   ]
  },
  {
   "cell_type": "code",
   "execution_count": 4,
   "metadata": {},
   "outputs": [
    {
     "data": {
      "text/plain": [
       "data/bank.csv MapPartitionsRDD[1] at textFile at NativeMethodAccessorImpl.java:0"
      ]
     },
     "execution_count": 4,
     "metadata": {},
     "output_type": "execute_result"
    }
   ],
   "source": [
    "bankRDD.cache()"
   ]
  },
  {
   "cell_type": "code",
   "execution_count": 5,
   "metadata": {},
   "outputs": [
    {
     "data": {
      "text/plain": [
       "542"
      ]
     },
     "execution_count": 5,
     "metadata": {},
     "output_type": "execute_result"
    }
   ],
   "source": [
    "bankRDD.count()"
   ]
  },
  {
   "cell_type": "code",
   "execution_count": 6,
   "metadata": {},
   "outputs": [
    {
     "data": {
      "text/plain": [
       "['\"age\";\"job\";\"marital\";\"education\";\"default\";\"balance\";\"housing\";\"loan\";\"contact\";\"day\";\"month\";\"duration\";\"campaign\";\"pdays\";\"previous\";\"poutcome\";\"y\"',\n",
       " '30;\"unemployed\";\"married\";\"primary\";\"no\";1787;\"no\";\"no\";\"cellular\";19;\"oct\";79;1;-1;0;\"unknown\";\"no\"',\n",
       " '33;\"services\";\"married\";\"secondary\";\"no\";4789;\"yes\";\"yes\";\"cellular\";11;\"may\";220;1;339;4;\"failure\";\"yes\"',\n",
       " '35;\"management\";\"single\";\"tertiary\";\"no\";1350;\"yes\";\"no\";\"cellular\";16;\"apr\";185;1;330;1;\"failure\";\"yes\"',\n",
       " '30;\"management\";\"married\";\"tertiary\";\"no\";1476;\"yes\";\"yes\";\"unknown\";3;\"jun\";199;4;-1;0;\"unknown\";\"yes\"']"
      ]
     },
     "execution_count": 6,
     "metadata": {},
     "output_type": "execute_result"
    }
   ],
   "source": [
    "bankRDD.take(5)"
   ]
  },
  {
   "cell_type": "code",
   "execution_count": 7,
   "metadata": {},
   "outputs": [],
   "source": [
    "header = bankRDD.first()\n",
    "bankRDD2 = bankRDD.filter(lambda line: line != header)"
   ]
  },
  {
   "cell_type": "code",
   "execution_count": 8,
   "metadata": {},
   "outputs": [
    {
     "data": {
      "text/plain": [
       "'30;\"unemployed\";\"married\";\"primary\";\"no\";1787;\"no\";\"no\";\"cellular\";19;\"oct\";79;1;-1;0;\"unknown\";\"no\"'"
      ]
     },
     "execution_count": 8,
     "metadata": {},
     "output_type": "execute_result"
    }
   ],
   "source": [
    "bankRDD2.first()"
   ]
  },
  {
   "cell_type": "code",
   "execution_count": 9,
   "metadata": {},
   "outputs": [
    {
     "data": {
      "text/plain": [
       "'\"age\";\"job\";\"marital\";\"education\";\"default\";\"balance\";\"housing\";\"loan\";\"contact\";\"day\";\"month\";\"duration\";\"campaign\";\"pdays\";\"previous\";\"poutcome\";\"y\"'"
      ]
     },
     "execution_count": 9,
     "metadata": {},
     "output_type": "execute_result"
    }
   ],
   "source": [
    "header"
   ]
  },
  {
   "cell_type": "code",
   "execution_count": 10,
   "metadata": {},
   "outputs": [
    {
     "name": "stdout",
     "output_type": "stream",
     "text": [
      "age = lineList[0]\n",
      "job = lineList[1]\n",
      "marital = lineList[2]\n",
      "education = lineList[3]\n",
      "default = lineList[4]\n",
      "balance = lineList[5]\n",
      "housing = lineList[6]\n",
      "loan = lineList[7]\n",
      "contact = lineList[8]\n",
      "day = lineList[9]\n",
      "month = lineList[10]\n",
      "duration = lineList[11]\n",
      "campaign = lineList[12]\n",
      "pdays = lineList[13]\n",
      "previous = lineList[14]\n",
      "poutcome = lineList[15]\n",
      "y = lineList[16]\n"
     ]
    }
   ],
   "source": [
    "i_column= 0\n",
    "for col in header.replace(\"\\\"\", \"\").split(\";\"):    \n",
    "    print(\"{} = lineList[{}]\".format(col, i_column))\n",
    "    i_column = i_column + 1"
   ]
  },
  {
   "cell_type": "markdown",
   "metadata": {},
   "source": [
    "### Limpeza de Dados"
   ]
  },
  {
   "cell_type": "code",
   "execution_count": 11,
   "metadata": {},
   "outputs": [
    {
     "data": {
      "text/plain": [
       "'30;\"unemployed\";\"married\";\"primary\";\"no\";1787;\"no\";\"no\";\"cellular\";19;\"oct\";79;1;-1;0;\"unknown\";\"no\"'"
      ]
     },
     "execution_count": 11,
     "metadata": {},
     "output_type": "execute_result"
    }
   ],
   "source": [
    "bankRDD2.first()"
   ]
  },
  {
   "cell_type": "code",
   "execution_count": 12,
   "metadata": {},
   "outputs": [],
   "source": [
    "def transformToNumber(line):\n",
    "    lineList = line.replace(\"\\\"\",\"\").split(\";\")\n",
    "    \n",
    "    age = float(lineList[0])\n",
    "    outcome = 0.0 if lineList[16] == \"no\" else 1.0\n",
    "    single = 1.0 if lineList[2] == \"single\" else 0.0\n",
    "    married = 1.0 if lineList[2] == \"married\" else 0.0\n",
    "    divorced = 1.0 if lineList[2] == \"divorced\" else 0.0\n",
    "    primary = 1.0 if lineList[3] == \"primary\" else 0.0\n",
    "    secondary = 1.0 if lineList[3] == \"secondary\" else 0.0\n",
    "    tertiary = 1.0 if lineList[3] == \"tertiary\" else 0.0\n",
    "    default = 1.0 if lineList[4] == \"no\" else 0.0\n",
    "    balance = float(lineList[5])\n",
    "    loan = 0.0 if lineList[7] == \"no\" else 1.0\n",
    "\n",
    "    row = Row(age = age, outcome = outcome, single = single,\n",
    "             married = married, divorced = divorced, primary =primary,\n",
    "             secondary =secondary, tertiary = tertiary, default = default,\n",
    "             balance = balance, loan = loan)\n",
    "    return row"
   ]
  },
  {
   "cell_type": "code",
   "execution_count": 13,
   "metadata": {},
   "outputs": [
    {
     "data": {
      "text/plain": [
       "[Row(age=30.0, balance=1787.0, default=1.0, divorced=0.0, loan=0.0, married=1.0, outcome=0.0, primary=1.0, secondary=0.0, single=0.0, tertiary=0.0)]"
      ]
     },
     "execution_count": 13,
     "metadata": {},
     "output_type": "execute_result"
    }
   ],
   "source": [
    "bankRDD3 = bankRDD2.map(transformToNumber)\n",
    "bankRDD3.collect()[:1]"
   ]
  },
  {
   "cell_type": "markdown",
   "metadata": {},
   "source": [
    "### Análise Exploratória de Dados\n"
   ]
  },
  {
   "cell_type": "code",
   "execution_count": 14,
   "metadata": {},
   "outputs": [
    {
     "data": {
      "text/plain": [
       "DataFrame[age: double, balance: double, default: double, divorced: double, loan: double, married: double, outcome: double, primary: double, secondary: double, single: double, tertiary: double]"
      ]
     },
     "execution_count": 14,
     "metadata": {},
     "output_type": "execute_result"
    }
   ],
   "source": [
    "df = spSession.createDataFrame(bankRDD3)\n",
    "df.cache()\n"
   ]
  },
  {
   "cell_type": "code",
   "execution_count": 15,
   "metadata": {},
   "outputs": [
    {
     "data": {
      "text/plain": [
       "['age',\n",
       " 'balance',\n",
       " 'default',\n",
       " 'divorced',\n",
       " 'loan',\n",
       " 'married',\n",
       " 'outcome',\n",
       " 'primary',\n",
       " 'secondary',\n",
       " 'single',\n",
       " 'tertiary']"
      ]
     },
     "execution_count": 15,
     "metadata": {},
     "output_type": "execute_result"
    }
   ],
   "source": [
    "df.columns"
   ]
  },
  {
   "cell_type": "code",
   "execution_count": 16,
   "metadata": {},
   "outputs": [
    {
     "name": "stdout",
     "output_type": "stream",
     "text": [
      "+-------+------------------+------------------+------------------+-------------------+-------------------+------------------+-------------------+------------------+------------------+------------------+------------------+\n",
      "|summary|               age|           balance|           default|           divorced|               loan|           married|            outcome|           primary|         secondary|            single|          tertiary|\n",
      "+-------+------------------+------------------+------------------+-------------------+-------------------+------------------+-------------------+------------------+------------------+------------------+------------------+\n",
      "|  count|               541|               541|               541|                541|                541|               541|                541|               541|               541|               541|               541|\n",
      "|   mean| 41.26987060998152|1444.7818853974122| 0.977818853974122|0.10905730129390019|0.16266173752310537|0.6155268022181146| 0.3974121996303142|0.1534195933456562|0.4953789279112754|0.2754158964879852|0.3142329020332717|\n",
      "| stddev|10.555374170161665|2423.2722735171924|0.1474086424402979| 0.3119995822161848|0.36939832735881994|0.4869207382098541|0.48981549262335145| 0.360725025449802|0.5004413742994283|0.4471370479760759|0.4646392600205975|\n",
      "|    min|              19.0|           -1206.0|               0.0|                0.0|                0.0|               0.0|                0.0|               0.0|               0.0|               0.0|               0.0|\n",
      "|    max|              78.0|           16873.0|               1.0|                1.0|                1.0|               1.0|                1.0|               1.0|               1.0|               1.0|               1.0|\n",
      "+-------+------------------+------------------+------------------+-------------------+-------------------+------------------+-------------------+------------------+------------------+------------------+------------------+\n",
      "\n"
     ]
    }
   ],
   "source": [
    "df.describe().show()"
   ]
  },
  {
   "cell_type": "code",
   "execution_count": 17,
   "metadata": {},
   "outputs": [
    {
     "name": "stdout",
     "output_type": "stream",
     "text": [
      "*  age -0.1823210432736525\n",
      "outcome  age -0.18232104327365253\n",
      "*  balance 0.036574866119976804\n",
      "outcome  balance 0.036574866119976804\n",
      "*  default 0.04536965206737373\n",
      "outcome  default 0.04536965206737373\n",
      "*  divorced -0.07812659940926987\n",
      "outcome  divorced -0.07812659940926987\n",
      "*  loan -0.030420586112717318\n",
      "outcome  loan -0.030420586112717318\n",
      "*  married -0.3753241299133561\n",
      "outcome  married -0.3753241299133561\n",
      "*  outcome 1.0\n",
      "outcome  outcome 1.0\n",
      "*  primary -0.12561548832677982\n",
      "outcome  primary -0.12561548832677982\n",
      "*  secondary 0.026392774894072973\n",
      "outcome  secondary 0.026392774894072973\n",
      "*  single 0.46323284934360515\n",
      "outcome  single 0.46323284934360515\n",
      "*  tertiary 0.08494840766635618\n",
      "outcome  tertiary 0.08494840766635618\n"
     ]
    }
   ],
   "source": [
    "for i in df.columns:   \n",
    "    if not(isinstance(df.select(i).take(1)[0][0], str)):\n",
    "        if True or abs(df.stat.corr(\"outcome\", i)) > 0.2:            \n",
    "            print(\"* \", i, df.stat.corr(\"outcome\", i))\n",
    "            print(\"outcome \", i, df.stat.corr(\"outcome\", i))    "
   ]
  },
  {
   "cell_type": "markdown",
   "metadata": {},
   "source": [
    "### Pré-processamento"
   ]
  },
  {
   "cell_type": "code",
   "execution_count": 18,
   "metadata": {},
   "outputs": [],
   "source": [
    "def transformaVar(row):\n",
    "    result = (row[\"outcome\"], Vectors.dense([row[\"age\"], \n",
    "                                            row[\"balance\"],\n",
    "                                            row[\"default\"],\n",
    "                                            row[\"divorced\"],\n",
    "                                            row[\"loan\"],\n",
    "                                            row[\"married\"],\n",
    "                                            row[\"primary\"],\n",
    "                                            row[\"secondary\"],\n",
    "                                            row[\"single\"],\n",
    "                                            row[\"tertiary\"]\n",
    "                                            ])) \n",
    "    return result"
   ]
  },
  {
   "cell_type": "code",
   "execution_count": 19,
   "metadata": {},
   "outputs": [],
   "source": [
    "bankRDD4 = df.rdd.map(transformaVar)"
   ]
  },
  {
   "cell_type": "code",
   "execution_count": 20,
   "metadata": {},
   "outputs": [
    {
     "data": {
      "text/plain": [
       "[(0.0, DenseVector([30.0, 1787.0, 1.0, 0.0, 0.0, 1.0, 1.0, 0.0, 0.0, 0.0])),\n",
       " (1.0, DenseVector([33.0, 4789.0, 1.0, 0.0, 1.0, 1.0, 0.0, 1.0, 0.0, 0.0])),\n",
       " (1.0, DenseVector([35.0, 1350.0, 1.0, 0.0, 0.0, 0.0, 0.0, 0.0, 1.0, 1.0])),\n",
       " (1.0, DenseVector([30.0, 1476.0, 1.0, 0.0, 1.0, 1.0, 0.0, 0.0, 0.0, 1.0])),\n",
       " (0.0, DenseVector([59.0, 0.0, 1.0, 0.0, 0.0, 1.0, 0.0, 1.0, 0.0, 0.0]))]"
      ]
     },
     "execution_count": 20,
     "metadata": {},
     "output_type": "execute_result"
    }
   ],
   "source": [
    "bankRDD4.take(5)"
   ]
  },
  {
   "cell_type": "code",
   "execution_count": 21,
   "metadata": {},
   "outputs": [
    {
     "name": "stdout",
     "output_type": "stream",
     "text": [
      "+-----+--------------------+\n",
      "|label|            features|\n",
      "+-----+--------------------+\n",
      "|  0.0|[30.0,1787.0,1.0,...|\n",
      "|  1.0|[33.0,4789.0,1.0,...|\n",
      "|  1.0|[35.0,1350.0,1.0,...|\n",
      "|  1.0|[30.0,1476.0,1.0,...|\n",
      "|  0.0|[59.0,0.0,1.0,0.0...|\n",
      "|  1.0|[35.0,747.0,1.0,0...|\n",
      "|  1.0|[36.0,307.0,1.0,0...|\n",
      "|  0.0|[39.0,147.0,1.0,0...|\n",
      "|  0.0|[41.0,221.0,1.0,0...|\n",
      "|  1.0|[43.0,-88.0,1.0,0...|\n",
      "+-----+--------------------+\n",
      "\n"
     ]
    }
   ],
   "source": [
    "bankDF = spSession.createDataFrame(bankRDD4, [\"label\", \"features\"])\n",
    "bankDF.cache()\n",
    "bankDF.select(\"*\").limit(10).show()"
   ]
  },
  {
   "cell_type": "markdown",
   "metadata": {},
   "source": [
    "### Reducao de Dimensionalidade "
   ]
  },
  {
   "cell_type": "code",
   "execution_count": 22,
   "metadata": {},
   "outputs": [],
   "source": [
    "bankPCA = PCA(k=3, inputCol = \"features\", outputCol = \"pcaFeatures\")\n",
    "pca_model = bankPCA.fit(bankDF)\n",
    "pca_resul = pca_model.transform(bankDF);"
   ]
  },
  {
   "cell_type": "code",
   "execution_count": 23,
   "metadata": {},
   "outputs": [
    {
     "name": "stdout",
     "output_type": "stream",
     "text": [
      "+-----+--------------------+--------------------+\n",
      "|label|            features|         pcaFeatures|\n",
      "+-----+--------------------+--------------------+\n",
      "|  0.0|[30.0,1787.0,1.0,...|[-1787.0189037502...|\n",
      "|  1.0|[33.0,4789.0,1.0,...|[-4789.0201836913...|\n",
      "|  1.0|[35.0,1350.0,1.0,...|[-1350.0222197161...|\n",
      "|  1.0|[30.0,1476.0,1.0,...|[-1476.0189582713...|\n",
      "|  0.0|[59.0,0.0,1.0,0.0...|[-0.0378957382717...|\n",
      "|  1.0|[35.0,747.0,1.0,0...|[-747.02234431639...|\n",
      "|  1.0|[36.0,307.0,1.0,0...|[-307.02307565516...|\n",
      "|  0.0|[39.0,147.0,1.0,0...|[-147.02501871466...|\n",
      "|  0.0|[41.0,221.0,1.0,0...|[-221.02630508778...|\n",
      "|  1.0|[43.0,-88.0,1.0,0...|[87.9723803239817...|\n",
      "|  0.0|[39.0,9374.0,1.0,...|[-9374.0231121038...|\n",
      "|  0.0|[43.0,264.0,1.0,0...|[-264.02756386818...|\n",
      "|  0.0|[36.0,1109.0,1.0,...|[-1109.0229099347...|\n",
      "|  1.0|[20.0,502.0,1.0,0...|[-502.01274295620...|\n",
      "|  1.0|[31.0,360.0,1.0,0...|[-360.01981420801...|\n",
      "|  0.0|[40.0,194.0,1.0,0...|[-194.02564650020...|\n",
      "|  0.0|[56.0,4073.0,1.0,...|[-4073.0351271212...|\n",
      "|  1.0|[37.0,2317.0,1.0,...|[-2317.0233045660...|\n",
      "|  0.0|[25.0,-221.0,1.0,...|[220.983891078424...|\n",
      "|  1.0|[31.0,132.0,1.0,0...|[-132.01988315480...|\n",
      "+-----+--------------------+--------------------+\n",
      "only showing top 20 rows\n",
      "\n"
     ]
    }
   ],
   "source": [
    "pca_resul.show()"
   ]
  },
  {
   "cell_type": "code",
   "execution_count": 24,
   "metadata": {},
   "outputs": [
    {
     "name": "stdout",
     "output_type": "stream",
     "text": [
      "+-----+---------------------------------------------+------------------------------------------------------------+\n",
      "|label|features                                     |pcaFeatures                                                 |\n",
      "+-----+---------------------------------------------+------------------------------------------------------------+\n",
      "|0.0  |[30.0,1787.0,1.0,0.0,0.0,1.0,1.0,0.0,0.0,0.0]|[-1787.0189037502862,28.861500049502038,0.08072442345904055]|\n",
      "|1.0  |[33.0,4789.0,1.0,0.0,1.0,1.0,0.0,1.0,0.0,0.0]|[-4789.0201836913975,29.921965848088032,0.9991489487199221] |\n",
      "|1.0  |[35.0,1350.0,1.0,0.0,0.0,0.0,0.0,0.0,1.0,1.0]|[-1350.0222197161672,34.100511309713724,-0.8790181194198832]|\n",
      "|1.0  |[30.0,1476.0,1.0,0.0,1.0,1.0,0.0,0.0,0.0,1.0]|[-1476.0189582713608,29.050737205343523,-0.3791477893919143]|\n",
      "|0.0  |[59.0,0.0,1.0,0.0,0.0,1.0,0.0,1.0,0.0,0.0]   |[-0.03789573827178863,58.98912141176485,0.7452038357764721] |\n",
      "|1.0  |[35.0,747.0,1.0,0.0,0.0,0.0,0.0,0.0,1.0,1.0] |[-747.0223443163976,34.487695193564704,-0.888440898286724]  |\n",
      "|1.0  |[36.0,307.0,1.0,0.0,0.0,1.0,0.0,0.0,0.0,1.0] |[-307.0230756551646,35.799253751402304,-0.5009385549683176] |\n",
      "|0.0  |[39.0,147.0,1.0,0.0,0.0,1.0,0.0,1.0,0.0,0.0] |[-147.02501871466876,38.90048177825041,0.823087352290221]   |\n",
      "|0.0  |[41.0,221.0,1.0,0.0,0.0,1.0,0.0,0.0,0.0,1.0] |[-221.02630508778404,40.853036887442045,-0.5211790391700416]|\n",
      "|1.0  |[43.0,-88.0,1.0,0.0,1.0,1.0,1.0,0.0,0.0,0.0] |[87.97238032398177,43.06206265289822,0.08314102612199359]   |\n",
      "|0.0  |[39.0,9374.0,1.0,0.0,0.0,1.0,0.0,1.0,0.0,0.0]|[-9374.023112103847,32.97586204973795,0.9672730581017324]   |\n",
      "|0.0  |[43.0,264.0,1.0,0.0,0.0,1.0,0.0,1.0,0.0,0.0] |[-264.0275638681892,42.824206851560625,0.8097983684337491]  |\n",
      "|0.0  |[36.0,1109.0,1.0,0.0,0.0,1.0,0.0,0.0,0.0,1.0]|[-1109.0229099347916,35.28429276492057,-0.4884061028104297] |\n",
      "|1.0  |[20.0,502.0,1.0,0.0,0.0,0.0,0.0,1.0,1.0,0.0] |[-502.01274295620135,19.648675009554655,0.5022845356123568] |\n",
      "|1.0  |[31.0,360.0,1.0,0.0,1.0,1.0,0.0,1.0,0.0,0.0] |[-360.01981420801326,30.76638384936115,0.9374978269872487]  |\n",
      "|0.0  |[40.0,194.0,1.0,0.0,1.0,1.0,0.0,0.0,0.0,1.0] |[-194.0256465002079,39.87103002978551,-0.4369741716298456]  |\n",
      "|0.0  |[56.0,4073.0,1.0,0.0,0.0,1.0,0.0,1.0,0.0,0.0]|[-4073.0351271212107,53.37472670341076,0.8201885291749761]  |\n",
      "|1.0  |[37.0,2317.0,1.0,0.0,0.0,0.0,0.0,0.0,1.0,1.0]|[-2317.0233045660466,35.479029636619885,-0.8714659370520578]|\n",
      "|0.0  |[25.0,-221.0,1.0,0.0,0.0,0.0,1.0,0.0,1.0,0.0]|[220.98389107842425,25.122942178315487,-0.32991430505530894]|\n",
      "|1.0  |[31.0,132.0,1.0,0.0,0.0,1.0,0.0,1.0,0.0,0.0] |[-132.01988315480799,30.91241260913684,0.8530875232732116]  |\n",
      "+-----+---------------------------------------------+------------------------------------------------------------+\n",
      "only showing top 20 rows\n",
      "\n"
     ]
    }
   ],
   "source": [
    "pca_resul.show(truncate = False)"
   ]
  },
  {
   "cell_type": "code",
   "execution_count": 25,
   "metadata": {},
   "outputs": [],
   "source": [
    "stringIndexer = StringIndexer(inputCol = \"label\", outputCol = \"ind_label\")"
   ]
  },
  {
   "cell_type": "code",
   "execution_count": 26,
   "metadata": {},
   "outputs": [],
   "source": [
    "si_model = stringIndexer.fit(pca_resul)"
   ]
  },
  {
   "cell_type": "code",
   "execution_count": 27,
   "metadata": {},
   "outputs": [
    {
     "data": {
      "text/plain": [
       "[Row(label=0.0, features=DenseVector([30.0, 1787.0, 1.0, 0.0, 0.0, 1.0, 1.0, 0.0, 0.0, 0.0]), pcaFeatures=DenseVector([-1787.0189, 28.8615, 0.0807]), ind_label=0.0),\n",
       " Row(label=1.0, features=DenseVector([33.0, 4789.0, 1.0, 0.0, 1.0, 1.0, 0.0, 1.0, 0.0, 0.0]), pcaFeatures=DenseVector([-4789.0202, 29.922, 0.9991]), ind_label=1.0),\n",
       " Row(label=1.0, features=DenseVector([35.0, 1350.0, 1.0, 0.0, 0.0, 0.0, 0.0, 0.0, 1.0, 1.0]), pcaFeatures=DenseVector([-1350.0222, 34.1005, -0.879]), ind_label=1.0),\n",
       " Row(label=1.0, features=DenseVector([30.0, 1476.0, 1.0, 0.0, 1.0, 1.0, 0.0, 0.0, 0.0, 1.0]), pcaFeatures=DenseVector([-1476.019, 29.0507, -0.3791]), ind_label=1.0),\n",
       " Row(label=0.0, features=DenseVector([59.0, 0.0, 1.0, 0.0, 0.0, 1.0, 0.0, 1.0, 0.0, 0.0]), pcaFeatures=DenseVector([-0.0379, 58.9891, 0.7452]), ind_label=0.0),\n",
       " Row(label=1.0, features=DenseVector([35.0, 747.0, 1.0, 0.0, 0.0, 0.0, 0.0, 0.0, 1.0, 1.0]), pcaFeatures=DenseVector([-747.0223, 34.4877, -0.8884]), ind_label=1.0),\n",
       " Row(label=1.0, features=DenseVector([36.0, 307.0, 1.0, 0.0, 0.0, 1.0, 0.0, 0.0, 0.0, 1.0]), pcaFeatures=DenseVector([-307.0231, 35.7993, -0.5009]), ind_label=1.0),\n",
       " Row(label=0.0, features=DenseVector([39.0, 147.0, 1.0, 0.0, 0.0, 1.0, 0.0, 1.0, 0.0, 0.0]), pcaFeatures=DenseVector([-147.025, 38.9005, 0.8231]), ind_label=0.0),\n",
       " Row(label=0.0, features=DenseVector([41.0, 221.0, 1.0, 0.0, 0.0, 1.0, 0.0, 0.0, 0.0, 1.0]), pcaFeatures=DenseVector([-221.0263, 40.853, -0.5212]), ind_label=0.0),\n",
       " Row(label=1.0, features=DenseVector([43.0, -88.0, 1.0, 0.0, 1.0, 1.0, 1.0, 0.0, 0.0, 0.0]), pcaFeatures=DenseVector([87.9724, 43.0621, 0.0831]), ind_label=1.0),\n",
       " Row(label=0.0, features=DenseVector([39.0, 9374.0, 1.0, 0.0, 0.0, 1.0, 0.0, 1.0, 0.0, 0.0]), pcaFeatures=DenseVector([-9374.0231, 32.9759, 0.9673]), ind_label=0.0),\n",
       " Row(label=0.0, features=DenseVector([43.0, 264.0, 1.0, 0.0, 0.0, 1.0, 0.0, 1.0, 0.0, 0.0]), pcaFeatures=DenseVector([-264.0276, 42.8242, 0.8098]), ind_label=0.0),\n",
       " Row(label=0.0, features=DenseVector([36.0, 1109.0, 1.0, 0.0, 0.0, 1.0, 0.0, 0.0, 0.0, 1.0]), pcaFeatures=DenseVector([-1109.0229, 35.2843, -0.4884]), ind_label=0.0),\n",
       " Row(label=1.0, features=DenseVector([20.0, 502.0, 1.0, 0.0, 0.0, 0.0, 0.0, 1.0, 1.0, 0.0]), pcaFeatures=DenseVector([-502.0127, 19.6487, 0.5023]), ind_label=1.0),\n",
       " Row(label=1.0, features=DenseVector([31.0, 360.0, 1.0, 0.0, 1.0, 1.0, 0.0, 1.0, 0.0, 0.0]), pcaFeatures=DenseVector([-360.0198, 30.7664, 0.9375]), ind_label=1.0),\n",
       " Row(label=0.0, features=DenseVector([40.0, 194.0, 1.0, 0.0, 1.0, 1.0, 0.0, 0.0, 0.0, 1.0]), pcaFeatures=DenseVector([-194.0256, 39.871, -0.437]), ind_label=0.0),\n",
       " Row(label=0.0, features=DenseVector([56.0, 4073.0, 1.0, 0.0, 0.0, 1.0, 0.0, 1.0, 0.0, 0.0]), pcaFeatures=DenseVector([-4073.0351, 53.3747, 0.8202]), ind_label=0.0),\n",
       " Row(label=1.0, features=DenseVector([37.0, 2317.0, 1.0, 0.0, 0.0, 0.0, 0.0, 0.0, 1.0, 1.0]), pcaFeatures=DenseVector([-2317.0233, 35.479, -0.8715]), ind_label=1.0),\n",
       " Row(label=0.0, features=DenseVector([25.0, -221.0, 1.0, 0.0, 0.0, 0.0, 1.0, 0.0, 1.0, 0.0]), pcaFeatures=DenseVector([220.9839, 25.1229, -0.3299]), ind_label=0.0),\n",
       " Row(label=1.0, features=DenseVector([31.0, 132.0, 1.0, 0.0, 0.0, 1.0, 0.0, 1.0, 0.0, 0.0]), pcaFeatures=DenseVector([-132.0199, 30.9124, 0.8531]), ind_label=1.0),\n",
       " Row(label=0.0, features=DenseVector([38.0, 0.0, 1.0, 1.0, 0.0, 0.0, 0.0, 0.0, 0.0, 0.0]), pcaFeatures=DenseVector([-0.0244, 37.9947, -0.1963]), ind_label=0.0),\n",
       " Row(label=0.0, features=DenseVector([42.0, 16.0, 1.0, 1.0, 0.0, 0.0, 0.0, 0.0, 0.0, 1.0]), pcaFeatures=DenseVector([-16.027, 41.9791, -0.8304]), ind_label=0.0),\n",
       " Row(label=0.0, features=DenseVector([44.0, 106.0, 1.0, 0.0, 0.0, 0.0, 0.0, 1.0, 1.0, 0.0]), pcaFeatures=DenseVector([-106.0282, 43.896, 0.4054]), ind_label=0.0),\n",
       " Row(label=0.0, features=DenseVector([44.0, 93.0, 1.0, 0.0, 0.0, 1.0, 0.0, 1.0, 0.0, 0.0]), pcaFeatures=DenseVector([-93.0282, 43.9337, 0.8033]), ind_label=0.0),\n",
       " Row(label=0.0, features=DenseVector([26.0, 543.0, 1.0, 0.0, 0.0, 1.0, 0.0, 0.0, 0.0, 1.0]), pcaFeatures=DenseVector([-543.0166, 25.6506, -0.4595]), ind_label=0.0),\n",
       " Row(label=0.0, features=DenseVector([41.0, 5883.0, 1.0, 0.0, 0.0, 1.0, 0.0, 0.0, 0.0, 1.0]), pcaFeatures=DenseVector([-5883.0251, 37.2175, -0.4327]), ind_label=0.0),\n",
       " Row(label=0.0, features=DenseVector([55.0, 627.0, 1.0, 0.0, 0.0, 1.0, 1.0, 0.0, 0.0, 0.0]), pcaFeatures=DenseVector([-627.0352, 54.5991, -0.0319]), ind_label=0.0),\n",
       " Row(label=1.0, features=DenseVector([67.0, 696.0, 1.0, 0.0, 0.0, 1.0, 0.0, 0.0, 0.0, 0.0]), pcaFeatures=DenseVector([-696.0429, 66.5448, 0.0073]), ind_label=1.0),\n",
       " Row(label=0.0, features=DenseVector([56.0, 784.0, 1.0, 0.0, 1.0, 1.0, 0.0, 1.0, 0.0, 0.0]), pcaFeatures=DenseVector([-784.0358, 55.4869, 0.8496]), ind_label=0.0),\n",
       " Row(label=0.0, features=DenseVector([53.0, 105.0, 1.0, 0.0, 1.0, 1.0, 0.0, 1.0, 0.0, 0.0]), pcaFeatures=DenseVector([-105.034, 52.9238, 0.8504]), ind_label=0.0),\n",
       " Row(label=1.0, features=DenseVector([68.0, 4189.0, 1.0, 1.0, 0.0, 0.0, 0.0, 1.0, 0.0, 0.0]), pcaFeatures=DenseVector([-4189.0428, 65.2915, 0.4744]), ind_label=1.0),\n",
       " Row(label=0.0, features=DenseVector([31.0, 171.0, 1.0, 0.0, 0.0, 1.0, 0.0, 1.0, 0.0, 0.0]), pcaFeatures=DenseVector([-171.0199, 30.8874, 0.8537]), ind_label=0.0),\n",
       " Row(label=0.0, features=DenseVector([59.0, 42.0, 1.0, 0.0, 0.0, 1.0, 0.0, 1.0, 0.0, 0.0]), pcaFeatures=DenseVector([-42.0379, 58.9622, 0.7459]), ind_label=0.0),\n",
       " Row(label=1.0, features=DenseVector([32.0, 2536.0, 1.0, 0.0, 0.0, 0.0, 0.0, 0.0, 1.0, 1.0]), pcaFeatures=DenseVector([-2536.02, 30.3398, -0.8491]), ind_label=1.0),\n",
       " Row(label=1.0, features=DenseVector([49.0, 1235.0, 1.0, 0.0, 0.0, 1.0, 0.0, 0.0, 0.0, 1.0]), pcaFeatures=DenseVector([-1235.0312, 48.1997, -0.5356]), ind_label=1.0),\n",
       " Row(label=0.0, features=DenseVector([42.0, 1811.0, 1.0, 1.0, 0.0, 0.0, 0.0, 1.0, 0.0, 0.0]), pcaFeatures=DenseVector([-1811.0266, 40.8259, 0.5355]), ind_label=0.0),\n",
       " Row(label=1.0, features=DenseVector([78.0, 229.0, 1.0, 1.0, 0.0, 0.0, 1.0, 0.0, 0.0, 0.0]), pcaFeatures=DenseVector([-229.0501, 77.8428, -0.4273]), ind_label=1.0),\n",
       " Row(label=1.0, features=DenseVector([32.0, 2089.0, 1.0, 0.0, 0.0, 1.0, 0.0, 1.0, 0.0, 0.0]), pcaFeatures=DenseVector([-2089.0201, 30.6555, 0.8799]), ind_label=1.0),\n",
       " Row(label=1.0, features=DenseVector([33.0, 3935.0, 1.0, 0.0, 0.0, 1.0, 0.0, 1.0, 0.0, 0.0]), pcaFeatures=DenseVector([-3935.0204, 30.4699, 0.905]), ind_label=1.0),\n",
       " Row(label=1.0, features=DenseVector([23.0, 363.0, 1.0, 0.0, 0.0, 0.0, 0.0, 0.0, 1.0, 1.0]), pcaFeatures=DenseVector([-363.0147, 22.7377, -0.8491]), ind_label=1.0),\n",
       " Row(label=1.0, features=DenseVector([38.0, 11971.0, 1.0, 0.0, 0.0, 0.0, 0.0, 0.0, 1.0, 1.0]), pcaFeatures=DenseVector([-11971.022, 30.2799, -0.7244]), ind_label=1.0),\n",
       " Row(label=0.0, features=DenseVector([36.0, 553.0, 1.0, 0.0, 0.0, 0.0, 0.0, 0.0, 1.0, 1.0]), pcaFeatures=DenseVector([-553.023, 35.612, -0.8953]), ind_label=0.0),\n",
       " Row(label=0.0, features=DenseVector([52.0, 1117.0, 1.0, 0.0, 0.0, 1.0, 0.0, 1.0, 0.0, 0.0]), pcaFeatures=DenseVector([-1117.0332, 51.2739, 0.7891]), ind_label=0.0),\n",
       " Row(label=0.0, features=DenseVector([32.0, 396.0, 1.0, 0.0, 0.0, 1.0, 0.0, 0.0, 0.0, 1.0]), pcaFeatures=DenseVector([-396.0205, 31.7433, -0.4844]), ind_label=0.0),\n",
       " Row(label=1.0, features=DenseVector([32.0, 2204.0, 1.0, 0.0, 0.0, 0.0, 0.0, 0.0, 1.0, 1.0]), pcaFeatures=DenseVector([-2204.0201, 30.553, -0.8543]), ind_label=1.0),\n",
       " Row(label=1.0, features=DenseVector([34.0, 872.0, 1.0, 0.0, 0.0, 0.0, 0.0, 0.0, 1.0, 1.0]), pcaFeatures=DenseVector([-872.0217, 33.4077, -0.8827]), ind_label=1.0),\n",
       " Row(label=1.0, features=DenseVector([55.0, 145.0, 1.0, 0.0, 0.0, 1.0, 1.0, 0.0, 0.0, 0.0]), pcaFeatures=DenseVector([-145.0353, 54.9086, -0.0394]), ind_label=1.0),\n",
       " Row(label=0.0, features=DenseVector([26.0, 0.0, 1.0, 0.0, 0.0, 1.0, 1.0, 0.0, 0.0, 0.0]), pcaFeatures=DenseVector([-0.0167, 26.0101, 0.0679]), ind_label=0.0),\n",
       " Row(label=1.0, features=DenseVector([32.0, -849.0, 0.0, 0.0, 1.0, 0.0, 1.0, 0.0, 1.0, 0.0]), pcaFeatures=DenseVector([848.9793, 32.5251, -0.3015]), ind_label=1.0),\n",
       " Row(label=1.0, features=DenseVector([61.0, 4629.0, 1.0, 0.0, 0.0, 1.0, 0.0, 0.0, 0.0, 0.0]), pcaFeatures=DenseVector([-4629.0382, 58.0211, 0.0914]), ind_label=1.0),\n",
       " Row(label=1.0, features=DenseVector([45.0, 844.0, 1.0, 1.0, 0.0, 0.0, 1.0, 0.0, 0.0, 0.0]), pcaFeatures=DenseVector([-844.0287, 44.4574, -0.2929]), ind_label=1.0),\n",
       " Row(label=1.0, features=DenseVector([37.0, 228.0, 1.0, 0.0, 0.0, 0.0, 0.0, 1.0, 1.0, 0.0]), pcaFeatures=DenseVector([-228.0237, 36.8197, 0.4338]), ind_label=1.0),\n",
       " Row(label=1.0, features=DenseVector([38.0, 50.0, 1.0, 0.0, 0.0, 0.0, 0.0, 1.0, 1.0, 0.0]), pcaFeatures=DenseVector([-50.0244, 37.9337, 0.4272]), ind_label=1.0),\n",
       " Row(label=1.0, features=DenseVector([34.0, 1539.0, 1.0, 0.0, 0.0, 1.0, 0.0, 0.0, 0.0, 1.0]), pcaFeatures=DenseVector([-1539.0215, 33.0088, -0.4741]), ind_label=1.0),\n",
       " Row(label=0.0, features=DenseVector([53.0, 2231.0, 1.0, 0.0, 0.0, 1.0, 0.0, 1.0, 0.0, 0.0]), pcaFeatures=DenseVector([-2231.0336, 51.5583, 0.8027]), ind_label=0.0),\n",
       " Row(label=0.0, features=DenseVector([48.0, 3064.0, 1.0, 0.0, 0.0, 1.0, 0.0, 1.0, 0.0, 0.0]), pcaFeatures=DenseVector([-3064.0302, 46.0249, 0.8347]), ind_label=0.0),\n",
       " Row(label=0.0, features=DenseVector([57.0, 82.0, 1.0, 0.0, 1.0, 1.0, 0.0, 1.0, 0.0, 0.0]), pcaFeatures=DenseVector([-82.0366, 56.9374, 0.8349]), ind_label=0.0),\n",
       " Row(label=1.0, features=DenseVector([33.0, 2155.0, 1.0, 0.0, 0.0, 0.0, 0.0, 0.0, 1.0, 1.0]), pcaFeatures=DenseVector([-2155.0208, 31.5842, -0.8589]), ind_label=1.0),\n",
       " Row(label=1.0, features=DenseVector([36.0, 101.0, 1.0, 0.0, 1.0, 0.0, 0.0, 1.0, 1.0, 0.0]), pcaFeatures=DenseVector([-101.0231, 35.9019, 0.5164]), ind_label=1.0),\n",
       " Row(label=0.0, features=DenseVector([54.0, 784.0, 1.0, 1.0, 1.0, 0.0, 0.0, 1.0, 0.0, 0.0]), pcaFeatures=DenseVector([-784.0345, 53.4823, 0.555]), ind_label=0.0),\n",
       " Row(label=0.0, features=DenseVector([41.0, -516.0, 1.0, 0.0, 1.0, 1.0, 1.0, 0.0, 0.0, 0.0]), pcaFeatures=DenseVector([515.9736, 41.3375, 0.084]), ind_label=0.0),\n",
       " Row(label=0.0, features=DenseVector([63.0, 415.0, 1.0, 0.0, 0.0, 1.0, 0.0, 1.0, 0.0, 0.0]), pcaFeatures=DenseVector([-415.0404, 62.7215, 0.7366]), ind_label=0.0),\n",
       " Row(label=0.0, features=DenseVector([48.0, 5887.0, 1.0, 0.0, 0.0, 1.0, 0.0, 0.0, 0.0, 1.0]), pcaFeatures=DenseVector([-5887.0296, 44.2129, -0.4591]), ind_label=0.0),\n",
       " Row(label=0.0, features=DenseVector([48.0, 1355.0, 1.0, 0.0, 0.0, 1.0, 0.0, 1.0, 0.0, 0.0]), pcaFeatures=DenseVector([-1355.0306, 47.1222, 0.808]), ind_label=0.0),\n",
       " Row(label=0.0, features=DenseVector([56.0, 16873.0, 1.0, 0.0, 0.0, 1.0, 0.0, 1.0, 0.0, 0.0]), pcaFeatures=DenseVector([-16873.0325, 45.1559, 1.0202]), ind_label=0.0),\n",
       " Row(label=1.0, features=DenseVector([51.0, 203.0, 1.0, 1.0, 0.0, 0.0, 0.0, 1.0, 0.0, 0.0]), pcaFeatures=DenseVector([-203.0327, 50.8558, 0.4764]), ind_label=1.0),\n",
       " Row(label=0.0, features=DenseVector([31.0, 338.0, 1.0, 0.0, 0.0, 1.0, 0.0, 1.0, 0.0, 0.0]), pcaFeatures=DenseVector([-338.0198, 30.7801, 0.8563]), ind_label=0.0),\n",
       " Row(label=0.0, features=DenseVector([29.0, 444.0, 1.0, 0.0, 0.0, 1.0, 0.0, 1.0, 0.0, 0.0]), pcaFeatures=DenseVector([-444.0185, 28.7127, 0.8655]), ind_label=0.0),\n",
       " Row(label=0.0, features=DenseVector([41.0, 0.0, 1.0, 0.0, 1.0, 1.0, 0.0, 1.0, 0.0, 0.0]), pcaFeatures=DenseVector([-0.0263, 40.9947, 0.8941]), ind_label=0.0),\n",
       " Row(label=1.0, features=DenseVector([32.0, 360.0, 1.0, 0.0, 0.0, 0.0, 0.0, 0.0, 1.0, 1.0]), pcaFeatures=DenseVector([-360.0205, 31.737, -0.8832]), ind_label=1.0),\n",
       " Row(label=1.0, features=DenseVector([37.0, 0.0, 1.0, 0.0, 0.0, 1.0, 0.0, 0.0, 0.0, 1.0]), pcaFeatures=DenseVector([-0.0238, 36.9961, -0.5095]), ind_label=1.0),\n",
       " Row(label=0.0, features=DenseVector([42.0, 2.0, 0.0, 1.0, 0.0, 0.0, 0.0, 0.0, 0.0, 1.0]), pcaFeatures=DenseVector([-2.027, 41.9887, -0.8467]), ind_label=0.0),\n",
       " Row(label=1.0, features=DenseVector([31.0, 6248.0, 1.0, 0.0, 0.0, 0.0, 0.0, 0.0, 1.0, 1.0]), pcaFeatures=DenseVector([-6248.0186, 26.9567, -0.7874]), ind_label=1.0),\n",
       " Row(label=0.0, features=DenseVector([41.0, 412.0, 1.0, 0.0, 0.0, 1.0, 0.0, 0.0, 0.0, 1.0]), pcaFeatures=DenseVector([-412.0263, 40.7304, -0.5182]), ind_label=0.0),\n",
       " Row(label=0.0, features=DenseVector([56.0, 344.0, 1.0, 0.0, 0.0, 1.0, 0.0, 1.0, 0.0, 0.0]), pcaFeatures=DenseVector([-344.0359, 55.7691, 0.7619]), ind_label=0.0),\n",
       " Row(label=0.0, features=DenseVector([54.0, 3222.0, 1.0, 1.0, 0.0, 0.0, 0.0, 0.0, 0.0, 1.0]), pcaFeatures=DenseVector([-3222.034, 51.9171, -0.8257]), ind_label=0.0),\n",
       " Row(label=1.0, features=DenseVector([41.0, 174.0, 1.0, 1.0, 0.0, 0.0, 0.0, 1.0, 0.0, 0.0]), pcaFeatures=DenseVector([-174.0263, 40.8773, 0.5137]), ind_label=1.0),\n",
       " Row(label=1.0, features=DenseVector([40.0, 591.0, 1.0, 0.0, 1.0, 0.0, 0.0, 1.0, 1.0, 0.0]), pcaFeatures=DenseVector([-591.0255, 39.5861, 0.5089]), ind_label=1.0),\n",
       " Row(label=0.0, features=DenseVector([50.0, 388.0, 1.0, 1.0, 0.0, 0.0, 1.0, 0.0, 0.0, 0.0]), pcaFeatures=DenseVector([-388.032, 49.7488, -0.319]), ind_label=0.0),\n",
       " Row(label=1.0, features=DenseVector([40.0, 219.0, 1.0, 0.0, 0.0, 1.0, 0.0, 1.0, 0.0, 0.0]), pcaFeatures=DenseVector([-219.0256, 39.854, 0.8204]), ind_label=1.0),\n",
       " Row(label=1.0, features=DenseVector([27.0, 451.0, 1.0, 1.0, 0.0, 0.0, 0.0, 1.0, 0.0, 0.0]), pcaFeatures=DenseVector([-451.0173, 26.7035, 0.571]), ind_label=1.0),\n",
       " Row(label=0.0, features=DenseVector([60.0, 5.0, 1.0, 0.0, 0.0, 1.0, 1.0, 0.0, 0.0, 0.0]), pcaFeatures=DenseVector([-5.0385, 59.9971, -0.0605]), ind_label=0.0),\n",
       " Row(label=1.0, features=DenseVector([28.0, 177.0, 1.0, 0.0, 1.0, 0.0, 0.0, 1.0, 1.0, 0.0]), pcaFeatures=DenseVector([-177.0179, 27.8554, 0.5478]), ind_label=1.0),\n",
       " Row(label=1.0, features=DenseVector([52.0, 657.0, 1.0, 0.0, 0.0, 1.0, 0.0, 1.0, 0.0, 0.0]), pcaFeatures=DenseVector([-657.0333, 51.5693, 0.7819]), ind_label=1.0),\n",
       " Row(label=1.0, features=DenseVector([37.0, 1315.0, 1.0, 0.0, 0.0, 1.0, 0.0, 0.0, 0.0, 1.0]), pcaFeatures=DenseVector([-1315.0235, 36.1517, -0.489]), ind_label=1.0),\n",
       " Row(label=0.0, features=DenseVector([51.0, 1466.0, 1.0, 0.0, 0.0, 1.0, 1.0, 0.0, 0.0, 0.0]), pcaFeatures=DenseVector([-1466.0325, 50.0616, -0.0037]), ind_label=0.0),\n",
       " Row(label=1.0, features=DenseVector([41.0, 879.0, 1.0, 0.0, 1.0, 0.0, 0.0, 1.0, 1.0, 0.0]), pcaFeatures=DenseVector([-879.0261, 40.4009, 0.5097]), ind_label=1.0),\n",
       " Row(label=1.0, features=DenseVector([35.0, 293.0, 1.0, 0.0, 0.0, 0.0, 1.0, 0.0, 1.0, 0.0]), pcaFeatures=DenseVector([-293.0224, 34.79, -0.3597]), ind_label=1.0),\n",
       " Row(label=0.0, features=DenseVector([38.0, 424.0, 1.0, 0.0, 0.0, 1.0, 0.0, 1.0, 0.0, 0.0]), pcaFeatures=DenseVector([-424.0243, 37.7229, 0.8312]), ind_label=0.0),\n",
       " Row(label=0.0, features=DenseVector([34.0, 1831.0, 1.0, 0.0, 0.0, 1.0, 0.0, 1.0, 0.0, 0.0]), pcaFeatures=DenseVector([-1831.0215, 32.8206, 0.8683]), ind_label=0.0),\n",
       " Row(label=0.0, features=DenseVector([39.0, 111.0, 1.0, 0.0, 0.0, 1.0, 1.0, 0.0, 0.0, 0.0]), pcaFeatures=DenseVector([-111.025, 38.9351, 0.0205]), ind_label=0.0),\n",
       " Row(label=0.0, features=DenseVector([34.0, 455.0, 1.0, 0.0, 0.0, 1.0, 1.0, 0.0, 0.0, 0.0]), pcaFeatures=DenseVector([-455.0217, 33.7156, 0.0448]), ind_label=0.0),\n",
       " Row(label=1.0, features=DenseVector([27.0, -195.0, 1.0, 0.0, 0.0, 0.0, 0.0, 1.0, 1.0, 0.0]), pcaFeatures=DenseVector([194.9826, 27.0942, 0.4649]), ind_label=1.0),\n",
       " Row(label=1.0, features=DenseVector([32.0, 3616.0, 1.0, 0.0, 0.0, 0.0, 0.0, 0.0, 1.0, 1.0]), pcaFeatures=DenseVector([-3616.0198, 29.6464, -0.8323]), ind_label=1.0),\n",
       " Row(label=0.0, features=DenseVector([57.0, 14093.0, 1.0, 0.0, 0.0, 1.0, 0.0, 1.0, 0.0, 0.0]), pcaFeatures=DenseVector([-14093.0337, 47.9406, 0.973]), ind_label=0.0),\n",
       " Row(label=1.0, features=DenseVector([41.0, 1567.0, 1.0, 0.0, 0.0, 0.0, 0.0, 0.0, 1.0, 1.0]), pcaFeatures=DenseVector([-1567.026, 39.9595, -0.8983]), ind_label=1.0),\n",
       " Row(label=0.0, features=DenseVector([41.0, 5426.0, 1.0, 0.0, 0.0, 1.0, 0.0, 0.0, 0.0, 1.0]), pcaFeatures=DenseVector([-5426.0252, 37.5109, -0.4398]), ind_label=0.0),\n",
       " Row(label=1.0, features=DenseVector([30.0, 261.0, 1.0, 0.0, 0.0, 0.0, 0.0, 0.0, 1.0, 1.0]), pcaFeatures=DenseVector([-261.0192, 29.8012, -0.8771]), ind_label=1.0),\n",
       " Row(label=0.0, features=DenseVector([36.0, 2843.0, 1.0, 1.0, 0.0, 0.0, 0.0, 1.0, 0.0, 0.0]), pcaFeatures=DenseVector([-2843.0225, 34.165, 0.5743]), ind_label=0.0),\n",
       " Row(label=1.0, features=DenseVector([31.0, 406.0, 1.0, 0.0, 0.0, 0.0, 1.0, 0.0, 1.0, 0.0]), pcaFeatures=DenseVector([-406.0198, 30.7186, -0.3428]), ind_label=1.0),\n",
       " Row(label=0.0, features=DenseVector([36.0, 0.0, 1.0, 0.0, 0.0, 1.0, 0.0, 1.0, 0.0, 0.0]), pcaFeatures=DenseVector([-0.0231, 35.9957, 0.8321]), ind_label=0.0),\n",
       " Row(label=1.0, features=DenseVector([38.0, 493.0, 1.0, 0.0, 0.0, 0.0, 0.0, 0.0, 1.0, 1.0]), pcaFeatures=DenseVector([-493.0243, 37.6499, -0.9037]), ind_label=1.0),\n",
       " Row(label=0.0, features=DenseVector([49.0, 5996.0, 1.0, 0.0, 0.0, 1.0, 0.0, 1.0, 0.0, 0.0]), pcaFeatures=DenseVector([-5996.0302, 45.142, 0.8767]), ind_label=0.0),\n",
       " Row(label=1.0, features=DenseVector([57.0, 3777.0, 1.0, 0.0, 0.0, 0.0, 1.0, 0.0, 1.0, 0.0]), pcaFeatures=DenseVector([-3777.0358, 54.5466, -0.3884]), ind_label=1.0),\n",
       " Row(label=1.0, features=DenseVector([34.0, 524.0, 1.0, 0.0, 0.0, 0.0, 0.0, 1.0, 1.0, 0.0]), pcaFeatures=DenseVector([-524.0217, 33.6305, 0.4497]), ind_label=1.0),\n",
       " Row(label=1.0, features=DenseVector([32.0, 574.0, 1.0, 0.0, 0.0, 0.0, 0.0, 0.0, 1.0, 1.0]), pcaFeatures=DenseVector([-574.0205, 31.5996, -0.8798]), ind_label=1.0),\n",
       " Row(label=0.0, features=DenseVector([37.0, 427.0, 1.0, 0.0, 1.0, 1.0, 0.0, 1.0, 0.0, 0.0]), pcaFeatures=DenseVector([-427.0237, 36.7216, 0.9159]), ind_label=0.0),\n",
       " Row(label=0.0, features=DenseVector([33.0, 483.0, 1.0, 0.0, 0.0, 1.0, 0.0, 0.0, 0.0, 1.0]), pcaFeatures=DenseVector([-483.0211, 32.6871, -0.4869]), ind_label=0.0),\n",
       " Row(label=1.0, features=DenseVector([56.0, 3391.0, 1.0, 0.0, 0.0, 1.0, 1.0, 0.0, 0.0, 0.0]), pcaFeatures=DenseVector([-3391.0353, 53.8241, 0.0075]), ind_label=1.0),\n",
       " Row(label=0.0, features=DenseVector([27.0, 0.0, 1.0, 0.0, 0.0, 1.0, 1.0, 0.0, 0.0, 0.0]), pcaFeatures=DenseVector([-0.0173, 27.0098, 0.0641]), ind_label=0.0),\n",
       " Row(label=1.0, features=DenseVector([21.0, 2488.0, 1.0, 0.0, 0.0, 0.0, 0.0, 1.0, 1.0, 0.0]), pcaFeatures=DenseVector([-2488.013, 19.3732, 0.5295]), ind_label=1.0),\n",
       " Row(label=0.0, features=DenseVector([58.0, 1517.0, 1.0, 0.0, 0.0, 1.0, 0.0, 0.0, 0.0, 1.0]), pcaFeatures=DenseVector([-1517.037, 57.016, -0.5652]), ind_label=0.0),\n",
       " Row(label=0.0, features=DenseVector([32.0, 217.0, 1.0, 0.0, 1.0, 1.0, 0.0, 1.0, 0.0, 0.0]), pcaFeatures=DenseVector([-217.0205, 31.8579, 0.9315]), ind_label=0.0),\n",
       " Row(label=1.0, features=DenseVector([33.0, 22.0, 1.0, 0.0, 0.0, 0.0, 0.0, 1.0, 1.0, 0.0]), pcaFeatures=DenseVector([-22.0212, 32.9531, 0.4457]), ind_label=1.0),\n",
       " Row(label=1.0, features=DenseVector([25.0, 331.0, 1.0, 0.0, 0.0, 0.0, 0.0, 1.0, 1.0, 0.0]), pcaFeatures=DenseVector([-331.016, 24.757, 0.4807]), ind_label=1.0),\n",
       " Row(label=1.0, features=DenseVector([25.0, 505.0, 1.0, 0.0, 1.0, 0.0, 0.0, 1.0, 1.0, 0.0]), pcaFeatures=DenseVector([-505.0159, 24.6457, 0.5643]), ind_label=1.0),\n",
       " Row(label=0.0, features=DenseVector([30.0, 1808.0, 1.0, 0.0, 0.0, 1.0, 0.0, 1.0, 0.0, 0.0]), pcaFeatures=DenseVector([-1808.0189, 28.8365, 0.8831]), ind_label=0.0),\n",
       " Row(label=1.0, features=DenseVector([22.0, 4111.0, 1.0, 0.0, 1.0, 0.0, 0.0, 1.0, 1.0, 0.0]), pcaFeatures=DenseVector([-4111.0133, 19.3311, 0.632]), ind_label=1.0),\n",
       " Row(label=0.0, features=DenseVector([39.0, 52.0, 1.0, 0.0, 0.0, 1.0, 1.0, 0.0, 0.0, 0.0]), pcaFeatures=DenseVector([-52.025, 38.9729, 0.0196]), ind_label=0.0),\n",
       " Row(label=0.0, features=DenseVector([46.0, 25.0, 1.0, 1.0, 0.0, 0.0, 0.0, 0.0, 0.0, 1.0]), pcaFeatures=DenseVector([-25.0296, 45.9722, -0.8454]), ind_label=0.0),\n",
       " Row(label=0.0, features=DenseVector([31.0, 1890.0, 1.0, 1.0, 0.0, 0.0, 0.0, 1.0, 0.0, 0.0]), pcaFeatures=DenseVector([-1890.0195, 29.7783, 0.5783]), ind_label=0.0),\n",
       " Row(label=0.0, features=DenseVector([45.0, 419.0, 1.0, 0.0, 0.0, 1.0, 1.0, 0.0, 0.0, 0.0]), pcaFeatures=DenseVector([-419.0288, 44.7356, 0.0027]), ind_label=0.0),\n",
       " Row(label=0.0, features=DenseVector([32.0, 2693.0, 1.0, 0.0, 0.0, 1.0, 0.0, 1.0, 0.0, 0.0]), pcaFeatures=DenseVector([-2693.02, 30.2677, 0.8893]), ind_label=0.0),\n",
       " Row(label=0.0, features=DenseVector([36.0, -231.0, 1.0, 0.0, 1.0, 1.0, 0.0, 1.0, 0.0, 0.0]), pcaFeatures=DenseVector([230.9769, 36.1444, 0.9094]), ind_label=0.0),\n",
       " Row(label=1.0, features=DenseVector([51.0, -55.0, 0.0, 0.0, 0.0, 0.0, 0.0, 0.0, 1.0, 1.0]), pcaFeatures=DenseVector([54.9672, 50.9987, -0.9776]), ind_label=1.0),\n",
       " Row(label=1.0, features=DenseVector([34.0, 462.0, 1.0, 0.0, 0.0, 0.0, 0.0, 0.0, 1.0, 1.0]), pcaFeatures=DenseVector([-462.0218, 33.671, -0.8891]), ind_label=1.0),\n",
       " Row(label=1.0, features=DenseVector([24.0, 119.0, 1.0, 0.0, 0.0, 0.0, 0.0, 1.0, 1.0, 0.0]), pcaFeatures=DenseVector([-119.0154, 23.8934, 0.4812]), ind_label=1.0),\n",
       " Row(label=1.0, features=DenseVector([45.0, 586.0, 1.0, 0.0, 1.0, 0.0, 0.0, 1.0, 1.0, 0.0]), pcaFeatures=DenseVector([-586.0288, 44.5879, 0.49]), ind_label=1.0),\n",
       " Row(label=1.0, features=DenseVector([32.0, 228.0, 1.0, 0.0, 0.0, 0.0, 0.0, 1.0, 1.0, 0.0]), pcaFeatures=DenseVector([-228.0205, 31.8212, 0.4527]), ind_label=1.0),\n",
       " Row(label=1.0, features=DenseVector([77.0, 4659.0, 1.0, 1.0, 0.0, 0.0, 0.0, 0.0, 0.0, 1.0]), pcaFeatures=DenseVector([-4659.0485, 73.9878, -0.8901]), ind_label=1.0),\n",
       " Row(label=0.0, features=DenseVector([41.0, 168.0, 1.0, 0.0, 0.0, 1.0, 1.0, 0.0, 0.0, 0.0]), pcaFeatures=DenseVector([-168.0263, 40.8979, 0.0139]), ind_label=0.0),\n",
       " Row(label=0.0, features=DenseVector([37.0, 0.0, 1.0, 0.0, 0.0, 1.0, 1.0, 0.0, 0.0, 0.0]), pcaFeatures=DenseVector([-0.0238, 37.0069, 0.0263]), ind_label=0.0),\n",
       " Row(label=0.0, features=DenseVector([43.0, -715.0, 0.0, 0.0, 0.0, 1.0, 0.0, 0.0, 0.0, 0.0]), pcaFeatures=DenseVector([714.9722, 43.4583, 0.0598]), ind_label=0.0),\n",
       " Row(label=1.0, features=DenseVector([48.0, 0.0, 1.0, 0.0, 0.0, 1.0, 0.0, 0.0, 0.0, 0.0]), pcaFeatures=DenseVector([-0.0308, 47.9971, 0.0682]), ind_label=1.0),\n",
       " Row(label=1.0, features=DenseVector([27.0, 769.0, 1.0, 0.0, 0.0, 0.0, 0.0, 1.0, 1.0, 0.0]), pcaFeatures=DenseVector([-769.0172, 26.4752, 0.48]), ind_label=1.0),\n",
       " Row(label=1.0, features=DenseVector([33.0, 0.0, 1.0, 0.0, 0.0, 0.0, 0.0, 0.0, 1.0, 1.0]), pcaFeatures=DenseVector([-0.0212, 32.9679, -0.8926]), ind_label=1.0),\n",
       " Row(label=1.0, features=DenseVector([29.0, 428.0, 1.0, 0.0, 1.0, 0.0, 0.0, 1.0, 1.0, 0.0]), pcaFeatures=DenseVector([-428.0185, 28.694, 0.548]), ind_label=1.0),\n",
       " Row(label=1.0, features=DenseVector([34.0, 0.0, 1.0, 0.0, 0.0, 0.0, 0.0, 0.0, 1.0, 1.0]), pcaFeatures=DenseVector([-0.0219, 33.9676, -0.8963]), ind_label=1.0),\n",
       " Row(label=1.0, features=DenseVector([52.0, -970.0, 1.0, 0.0, 0.0, 1.0, 0.0, 0.0, 0.0, 1.0]), pcaFeatures=DenseVector([969.9664, 52.6146, -0.5814]), ind_label=1.0),\n",
       " Row(label=0.0, features=DenseVector([60.0, 6313.0, 1.0, 0.0, 0.0, 1.0, 0.0, 0.0, 0.0, 0.0]), pcaFeatures=DenseVector([-6313.0372, 55.9401, 0.1215]), ind_label=0.0),\n",
       " Row(label=0.0, features=DenseVector([32.0, 948.0, 1.0, 1.0, 0.0, 0.0, 0.0, 0.0, 0.0, 1.0]), pcaFeatures=DenseVector([-948.0204, 31.3836, -0.778]), ind_label=0.0),\n",
       " Row(label=1.0, features=DenseVector([32.0, 0.0, 1.0, 0.0, 0.0, 0.0, 0.0, 0.0, 1.0, 1.0]), pcaFeatures=DenseVector([-0.0206, 31.9682, -0.8888]), ind_label=1.0),\n",
       " Row(label=0.0, features=DenseVector([56.0, 1877.0, 1.0, 1.0, 0.0, 0.0, 0.0, 0.0, 0.0, 0.0]), pcaFeatures=DenseVector([-1877.0356, 54.7844, -0.235]), ind_label=0.0),\n",
       " Row(label=1.0, features=DenseVector([31.0, 874.0, 1.0, 0.0, 0.0, 0.0, 0.0, 0.0, 1.0, 1.0]), pcaFeatures=DenseVector([-874.0197, 30.4073, -0.8713]), ind_label=1.0),\n",
       " Row(label=0.0, features=DenseVector([42.0, 323.0, 1.0, 0.0, 1.0, 1.0, 0.0, 1.0, 0.0, 0.0]), pcaFeatures=DenseVector([-323.0269, 41.787, 0.8953]), ind_label=0.0),\n",
       " Row(label=0.0, features=DenseVector([35.0, 106.0, 1.0, 0.0, 1.0, 1.0, 0.0, 0.0, 0.0, 1.0]), pcaFeatures=DenseVector([-106.0225, 34.929, -0.4195]), ind_label=0.0),\n",
       " Row(label=0.0, features=DenseVector([56.0, 1906.0, 1.0, 0.0, 1.0, 1.0, 1.0, 0.0, 0.0, 0.0]), pcaFeatures=DenseVector([-1906.0356, 54.778, 0.0652]), ind_label=0.0),\n",
       " Row(label=0.0, features=DenseVector([48.0, 1152.0, 1.0, 0.0, 0.0, 1.0, 0.0, 1.0, 0.0, 0.0]), pcaFeatures=DenseVector([-1152.0306, 47.2526, 0.8048]), ind_label=0.0),\n",
       " Row(label=1.0, features=DenseVector([46.0, 179.0, 1.0, 0.0, 0.0, 1.0, 0.0, 1.0, 0.0, 0.0]), pcaFeatures=DenseVector([-179.0295, 45.8779, 0.7971]), ind_label=1.0),\n",
       " Row(label=1.0, features=DenseVector([37.0, 391.0, 1.0, 0.0, 0.0, 0.0, 0.0, 0.0, 1.0, 0.0]), pcaFeatures=DenseVector([-391.0237, 36.7199, -0.2823]), ind_label=1.0),\n",
       " Row(label=0.0, features=DenseVector([41.0, 89.0, 1.0, 0.0, 0.0, 1.0, 0.0, 0.0, 0.0, 0.0]), pcaFeatures=DenseVector([-89.0263, 40.942, 0.096]), ind_label=0.0),\n",
       " Row(label=1.0, features=DenseVector([36.0, 442.0, 1.0, 0.0, 1.0, 0.0, 0.0, 0.0, 1.0, 1.0]), pcaFeatures=DenseVector([-442.023, 35.6836, -0.8161]), ind_label=1.0),\n",
       " Row(label=0.0, features=DenseVector([45.0, -249.0, 0.0, 1.0, 1.0, 0.0, 1.0, 0.0, 0.0, 0.0]), pcaFeatures=DenseVector([248.9711, 45.1602, -0.2453]), ind_label=0.0),\n",
       " Row(label=0.0, features=DenseVector([55.0, 8104.0, 1.0, 0.0, 0.0, 1.0, 0.0, 1.0, 0.0, 0.0]), pcaFeatures=DenseVector([-8104.0337, 49.7867, 0.887]), ind_label=0.0),\n",
       " Row(label=0.0, features=DenseVector([39.0, 501.0, 1.0, 0.0, 0.0, 1.0, 0.0, 1.0, 0.0, 0.0]), pcaFeatures=DenseVector([-501.0249, 38.6732, 0.8286]), ind_label=0.0),\n",
       " Row(label=0.0, features=DenseVector([35.0, 308.0, 1.0, 1.0, 0.0, 0.0, 0.0, 1.0, 0.0, 0.0]), pcaFeatures=DenseVector([-308.0224, 34.793, 0.5385]), ind_label=0.0),\n",
       " Row(label=1.0, features=DenseVector([55.0, 602.0, 1.0, 0.0, 0.0, 1.0, 0.0, 1.0, 0.0, 0.0]), pcaFeatures=DenseVector([-602.0352, 54.6037, 0.7697]), ind_label=1.0),\n",
       " Row(label=1.0, features=DenseVector([55.0, 273.0, 1.0, 0.0, 0.0, 1.0, 0.0, 1.0, 0.0, 0.0]), pcaFeatures=DenseVector([-273.0353, 54.815, 0.7646]), ind_label=1.0),\n",
       " Row(label=1.0, features=DenseVector([27.0, 50.0, 1.0, 0.0, 0.0, 0.0, 0.0, 1.0, 1.0, 0.0]), pcaFeatures=DenseVector([-50.0173, 26.9369, 0.4688]), ind_label=1.0),\n",
       " Row(label=0.0, features=DenseVector([34.0, 1641.0, 1.0, 0.0, 0.0, 1.0, 0.0, 1.0, 0.0, 0.0]), pcaFeatures=DenseVector([-1641.0215, 32.9426, 0.8653]), ind_label=0.0),\n",
       " Row(label=0.0, features=DenseVector([34.0, 20.0, 1.0, 0.0, 0.0, 1.0, 0.0, 0.0, 0.0, 1.0]), pcaFeatures=DenseVector([-20.0219, 33.9841, -0.4979]), ind_label=0.0),\n",
       " Row(label=1.0, features=DenseVector([25.0, 4590.0, 1.0, 0.0, 0.0, 0.0, 0.0, 1.0, 1.0, 0.0]), pcaFeatures=DenseVector([-4590.0151, 22.0223, 0.5473]), ind_label=1.0),\n",
       " Row(label=1.0, features=DenseVector([41.0, -256.0, 1.0, 0.0, 1.0, 0.0, 0.0, 1.0, 1.0, 0.0]), pcaFeatures=DenseVector([255.9736, 41.1297, 0.4919]), ind_label=1.0),\n",
       " Row(label=0.0, features=DenseVector([43.0, 978.0, 1.0, 0.0, 1.0, 1.0, 0.0, 1.0, 0.0, 0.0]), pcaFeatures=DenseVector([-978.0274, 42.3661, 0.9018]), ind_label=0.0),\n",
       " Row(label=1.0, features=DenseVector([28.0, 80.0, 1.0, 0.0, 0.0, 0.0, 0.0, 0.0, 1.0, 1.0]), pcaFeatures=DenseVector([-80.018, 27.918, -0.8724]), ind_label=1.0),\n",
       " Row(label=1.0, features=DenseVector([31.0, 2104.0, 1.0, 0.0, 0.0, 0.0, 0.0, 1.0, 1.0, 0.0]), pcaFeatures=DenseVector([-2104.0195, 29.6169, 0.4857]), ind_label=1.0),\n",
       " Row(label=0.0, features=DenseVector([78.0, 499.0, 1.0, 0.0, 0.0, 1.0, 0.0, 1.0, 0.0, 0.0]), pcaFeatures=DenseVector([-499.05, 77.6633, 0.6812]), ind_label=0.0),\n",
       " Row(label=0.0, features=DenseVector([45.0, 1269.0, 1.0, 1.0, 0.0, 0.0, 0.0, 1.0, 0.0, 0.0]), pcaFeatures=DenseVector([-1269.0286, 44.1731, 0.5157]), ind_label=0.0),\n",
       " Row(label=0.0, features=DenseVector([48.0, 310.0, 1.0, 0.0, 0.0, 1.0, 0.0, 0.0, 0.0, 1.0]), pcaFeatures=DenseVector([-310.0308, 47.7939, -0.5462]), ind_label=0.0),\n",
       " Row(label=1.0, features=DenseVector([32.0, 1143.0, 1.0, 0.0, 1.0, 0.0, 0.0, 1.0, 1.0, 0.0]), pcaFeatures=DenseVector([-1143.0203, 31.234, 0.5478]), ind_label=1.0),\n",
       " Row(label=0.0, features=DenseVector([42.0, 2980.0, 1.0, 0.0, 0.0, 1.0, 0.0, 1.0, 0.0, 0.0]), pcaFeatures=DenseVector([-2980.0264, 40.0806, 0.856]), ind_label=0.0),\n",
       " Row(label=1.0, features=DenseVector([37.0, 37.0, 1.0, 0.0, 0.0, 0.0, 0.0, 0.0, 1.0, 1.0]), pcaFeatures=DenseVector([-37.0238, 36.943, -0.9071]), ind_label=1.0),\n",
       " Row(label=1.0, features=DenseVector([40.0, 462.0, 1.0, 0.0, 1.0, 0.0, 0.0, 1.0, 1.0, 0.0]), pcaFeatures=DenseVector([-462.0256, 39.669, 0.5069]), ind_label=1.0),\n",
       " Row(label=0.0, features=DenseVector([32.0, 1031.0, 1.0, 0.0, 0.0, 1.0, 0.0, 1.0, 0.0, 0.0]), pcaFeatures=DenseVector([-1031.0203, 31.3349, 0.8634]), ind_label=0.0),\n",
       " Row(label=0.0, features=DenseVector([42.0, 9009.0, 1.0, 0.0, 0.0, 1.0, 0.0, 0.0, 0.0, 1.0]), pcaFeatures=DenseVector([-9009.0251, 36.21, -0.3876]), ind_label=0.0),\n",
       " Row(label=0.0, features=DenseVector([43.0, -465.0, 1.0, 0.0, 1.0, 1.0, 0.0, 1.0, 0.0, 0.0]), pcaFeatures=DenseVector([464.9723, 43.2927, 0.8793]), ind_label=0.0),\n",
       " Row(label=0.0, features=DenseVector([44.0, 5181.0, 1.0, 0.0, 1.0, 1.0, 0.0, 1.0, 0.0, 0.0]), pcaFeatures=DenseVector([-5181.0272, 40.6671, 0.9637]), ind_label=0.0),\n",
       " Row(label=1.0, features=DenseVector([37.0, 176.0, 1.0, 0.0, 0.0, 1.0, 0.0, 1.0, 0.0, 0.0]), pcaFeatures=DenseVector([-176.0237, 36.8824, 0.8311]), ind_label=1.0),\n",
       " Row(label=0.0, features=DenseVector([37.0, 1699.0, 1.0, 0.0, 0.0, 1.0, 0.0, 0.0, 0.0, 0.0]), pcaFeatures=DenseVector([-1699.0234, 35.9094, 0.1363]), ind_label=0.0),\n",
       " Row(label=1.0, features=DenseVector([37.0, 0.0, 1.0, 0.0, 0.0, 1.0, 0.0, 0.0, 0.0, 1.0]), pcaFeatures=DenseVector([-0.0238, 36.9961, -0.5095]), ind_label=1.0),\n",
       " Row(label=1.0, features=DenseVector([28.0, 172.0, 1.0, 0.0, 1.0, 0.0, 0.0, 0.0, 1.0, 1.0]), pcaFeatures=DenseVector([-172.0179, 27.8593, -0.7901]), ind_label=1.0),\n",
       " Row(label=1.0, features=DenseVector([32.0, 0.0, 1.0, 0.0, 1.0, 0.0, 0.0, 1.0, 1.0, 0.0]), pcaFeatures=DenseVector([-0.0205, 31.9679, 0.5299]), ind_label=1.0),\n",
       " Row(label=1.0, features=DenseVector([34.0, 6979.0, 1.0, 0.0, 0.0, 0.0, 0.0, 1.0, 1.0, 0.0]), pcaFeatures=DenseVector([-6979.0204, 29.4858, 0.5506]), ind_label=1.0),\n",
       " Row(label=0.0, features=DenseVector([40.0, 6.0, 1.0, 1.0, 0.0, 0.0, 0.0, 1.0, 0.0, 0.0]), pcaFeatures=DenseVector([-6.0257, 39.9855, 0.5149]), ind_label=0.0),\n",
       " Row(label=0.0, features=DenseVector([34.0, -62.0, 1.0, 0.0, 0.0, 1.0, 0.0, 1.0, 0.0, 0.0]), pcaFeatures=DenseVector([61.9781, 34.0361, 0.8387]), ind_label=0.0),\n",
       " Row(label=0.0, features=DenseVector([34.0, 1972.0, 1.0, 0.0, 0.0, 1.0, 0.0, 0.0, 0.0, 1.0]), pcaFeatures=DenseVector([-1972.0214, 32.7307, -0.4674]), ind_label=0.0),\n",
       " Row(label=0.0, features=DenseVector([34.0, 899.0, 1.0, 0.0, 0.0, 1.0, 0.0, 0.0, 0.0, 1.0]), pcaFeatures=DenseVector([-899.0217, 33.4197, -0.4841]), ind_label=0.0),\n",
       " Row(label=1.0, features=DenseVector([37.0, 21.0, 1.0, 0.0, 0.0, 0.0, 0.0, 1.0, 1.0, 0.0]), pcaFeatures=DenseVector([-21.0238, 36.9526, 0.4305]), ind_label=1.0),\n",
       " Row(label=1.0, features=DenseVector([36.0, 23.0, 1.0, 0.0, 0.0, 1.0, 0.0, 1.0, 0.0, 0.0]), pcaFeatures=DenseVector([-23.0231, 35.981, 0.8325]), ind_label=1.0),\n",
       " Row(label=1.0, features=DenseVector([56.0, -1206.0, 1.0, 0.0, 0.0, 1.0, 0.0, 1.0, 0.0, 0.0]), pcaFeatures=DenseVector([1205.9638, 56.7644, 0.7377]), ind_label=1.0),\n",
       " Row(label=0.0, features=DenseVector([49.0, 0.0, 1.0, 0.0, 1.0, 1.0, 1.0, 0.0, 0.0, 0.0]), pcaFeatures=DenseVector([-0.0315, 49.0038, 0.0618]), ind_label=0.0),\n",
       " Row(label=0.0, features=DenseVector([33.0, 215.0, 1.0, 0.0, 0.0, 1.0, 0.0, 1.0, 0.0, 0.0]), pcaFeatures=DenseVector([-215.0212, 32.8585, 0.8468]), ind_label=0.0),\n",
       " Row(label=0.0, features=DenseVector([30.0, 1372.0, 1.0, 0.0, 0.0, 0.0, 0.0, 0.0, 1.0, 1.0]), pcaFeatures=DenseVector([-1372.019, 29.0878, -0.8598]), ind_label=0.0),\n",
       " Row(label=0.0, features=DenseVector([36.0, 1981.0, 1.0, 0.0, 0.0, 1.0, 0.0, 1.0, 0.0, 0.0]), pcaFeatures=DenseVector([-1981.0227, 34.7237, 0.8631]), ind_label=0.0),\n",
       " Row(label=1.0, features=DenseVector([23.0, 9216.0, 1.0, 0.0, 0.0, 0.0, 0.0, 1.0, 1.0, 0.0]), pcaFeatures=DenseVector([-9216.0129, 17.0526, 0.6271]), ind_label=1.0),\n",
       " Row(label=0.0, features=DenseVector([57.0, 39.0, 1.0, 1.0, 0.0, 0.0, 0.0, 1.0, 0.0, 0.0]), pcaFeatures=DenseVector([-39.0366, 56.9594, 0.4511]), ind_label=0.0),\n",
       " Row(label=1.0, features=DenseVector([27.0, 5563.0, 1.0, 0.0, 0.0, 0.0, 0.0, 1.0, 1.0, 0.0]), pcaFeatures=DenseVector([-5563.0162, 23.397, 0.5549]), ind_label=1.0),\n",
       " Row(label=0.0, features=DenseVector([38.0, 1.0, 1.0, 0.0, 1.0, 1.0, 0.0, 1.0, 0.0, 0.0]), pcaFeatures=DenseVector([-1.0244, 37.9949, 0.9054]), ind_label=0.0),\n",
       " Row(label=0.0, features=DenseVector([42.0, 782.0, 1.0, 0.0, 0.0, 1.0, 0.0, 0.0, 0.0, 1.0]), pcaFeatures=DenseVector([-782.0268, 41.4925, -0.5162]), ind_label=0.0),\n",
       " Row(label=1.0, features=DenseVector([75.0, 3771.0, 1.0, 0.0, 0.0, 1.0, 0.0, 1.0, 0.0, 0.0]), pcaFeatures=DenseVector([-3771.0474, 72.5632, 0.7437]), ind_label=1.0),\n",
       " Row(label=1.0, features=DenseVector([34.0, 992.0, 1.0, 0.0, 0.0, 0.0, 0.0, 0.0, 1.0, 1.0]), pcaFeatures=DenseVector([-992.0217, 33.3307, -0.8808]), ind_label=1.0),\n",
       " Row(label=0.0, features=DenseVector([48.0, 1526.0, 1.0, 0.0, 0.0, 1.0, 0.0, 1.0, 0.0, 0.0]), pcaFeatures=DenseVector([-1526.0305, 47.0124, 0.8106]), ind_label=0.0),\n",
       " Row(label=1.0, features=DenseVector([35.0, 2658.0, 1.0, 0.0, 0.0, 0.0, 0.0, 0.0, 1.0, 1.0]), pcaFeatures=DenseVector([-2658.0219, 33.2606, -0.8586]), ind_label=1.0),\n",
       " Row(label=1.0, features=DenseVector([39.0, 1315.0, 1.0, 1.0, 0.0, 0.0, 0.0, 0.0, 0.0, 1.0]), pcaFeatures=DenseVector([-1315.0248, 38.1459, -0.7988]), ind_label=1.0),\n",
       " Row(label=1.0, features=DenseVector([29.0, 455.0, 1.0, 0.0, 0.0, 0.0, 0.0, 0.0, 1.0, 1.0]), pcaFeatures=DenseVector([-455.0186, 28.6769, -0.8703]), ind_label=1.0),\n",
       " Row(label=1.0, features=DenseVector([45.0, 0.0, 1.0, 0.0, 0.0, 0.0, 0.0, 0.0, 1.0, 1.0]), pcaFeatures=DenseVector([-0.0289, 44.9645, -0.9379]), ind_label=1.0),\n",
       " Row(label=0.0, features=DenseVector([42.0, 2030.0, 1.0, 0.0, 1.0, 1.0, 0.0, 1.0, 0.0, 0.0]), pcaFeatures=DenseVector([-2030.0265, 40.6909, 0.922]), ind_label=0.0),\n",
       " Row(label=1.0, features=DenseVector([29.0, 1599.0, 1.0, 0.0, 0.0, 1.0, 0.0, 1.0, 0.0, 0.0]), pcaFeatures=DenseVector([-1599.0183, 27.971, 0.8836]), ind_label=1.0),\n",
       " Row(label=1.0, features=DenseVector([38.0, -196.0, 1.0, 0.0, 0.0, 0.0, 0.0, 1.0, 1.0, 0.0]), pcaFeatures=DenseVector([195.9756, 38.0917, 0.4233]), ind_label=1.0),\n",
       " Row(label=0.0, features=DenseVector([56.0, 1333.0, 1.0, 0.0, 0.0, 1.0, 0.0, 1.0, 0.0, 0.0]), pcaFeatures=DenseVector([-1333.0357, 55.1341, 0.7774]), ind_label=0.0),\n",
       " Row(label=1.0, features=DenseVector([36.0, 9149.0, 1.0, 0.0, 0.0, 0.0, 0.0, 1.0, 1.0, 0.0]), pcaFeatures=DenseVector([-9149.0212, 30.0919, 0.5769]), ind_label=1.0),\n",
       " Row(label=1.0, features=DenseVector([25.0, -350.0, 1.0, 0.0, 0.0, 0.0, 0.0, 1.0, 1.0, 0.0]), pcaFeatures=DenseVector([349.9839, 25.1943, 0.4701]), ind_label=1.0),\n",
       " Row(label=1.0, features=DenseVector([38.0, 432.0, 1.0, 0.0, 0.0, 1.0, 0.0, 0.0, 0.0, 1.0]), pcaFeatures=DenseVector([-432.0243, 37.7184, -0.5065]), ind_label=1.0),\n",
       " Row(label=0.0, features=DenseVector([57.0, 11494.0, 1.0, 0.0, 0.0, 1.0, 0.0, 1.0, 0.0, 0.0]), pcaFeatures=DenseVector([-11494.0342, 49.6094, 0.9324]), ind_label=0.0),\n",
       " Row(label=0.0, features=DenseVector([31.0, -253.0, 0.0, 0.0, 0.0, 1.0, 0.0, 0.0, 0.0, 1.0]), pcaFeatures=DenseVector([252.98, 31.1609, -0.5069]), ind_label=0.0),\n",
       " Row(label=1.0, features=DenseVector([42.0, 372.0, 1.0, 0.0, 0.0, 1.0, 0.0, 0.0, 0.0, 1.0]), pcaFeatures=DenseVector([-372.0269, 41.7558, -0.5226]), ind_label=1.0),\n",
       " Row(label=0.0, features=DenseVector([45.0, 1410.0, 1.0, 0.0, 0.0, 1.0, 0.0, 1.0, 0.0, 0.0]), pcaFeatures=DenseVector([-1410.0286, 44.0878, 0.8201]), ind_label=0.0),\n",
       " Row(label=1.0, features=DenseVector([30.0, 975.0, 1.0, 0.0, 0.0, 1.0, 0.0, 1.0, 0.0, 0.0]), pcaFeatures=DenseVector([-975.0191, 29.3714, 0.87]), ind_label=1.0),\n",
       " Row(label=0.0, features=DenseVector([49.0, 305.0, 1.0, 0.0, 1.0, 1.0, 1.0, 0.0, 0.0, 0.0]), pcaFeatures=DenseVector([-305.0314, 48.808, 0.0666]), ind_label=0.0),\n",
       " Row(label=0.0, features=DenseVector([49.0, 400.0, 1.0, 0.0, 0.0, 1.0, 0.0, 1.0, 0.0, 0.0]), pcaFeatures=DenseVector([-400.0314, 48.7352, 0.7892]), ind_label=0.0),\n",
       " Row(label=0.0, features=DenseVector([53.0, -22.0, 1.0, 0.0, 0.0, 1.0, 0.0, 0.0, 0.0, 1.0]), pcaFeatures=DenseVector([21.9659, 53.0056, -0.5703]), ind_label=0.0),\n",
       " Row(label=0.0, features=DenseVector([37.0, 4030.0, 1.0, 0.0, 0.0, 1.0, 0.0, 1.0, 0.0, 0.0]), pcaFeatures=DenseVector([-4030.0229, 34.4078, 0.8913]), ind_label=0.0),\n",
       " Row(label=0.0, features=DenseVector([49.0, 365.0, 1.0, 0.0, 0.0, 1.0, 1.0, 0.0, 0.0, 0.0]), pcaFeatures=DenseVector([-365.0314, 48.7691, -0.0133]), ind_label=0.0),\n",
       " Row(label=0.0, features=DenseVector([41.0, 204.0, 1.0, 0.0, 0.0, 1.0, 1.0, 0.0, 0.0, 0.0]), pcaFeatures=DenseVector([-204.0263, 40.8748, 0.0144]), ind_label=0.0),\n",
       " Row(label=0.0, features=DenseVector([54.0, 1691.0, 1.0, 0.0, 0.0, 1.0, 1.0, 0.0, 0.0, 0.0]), pcaFeatures=DenseVector([-1691.0343, 52.9162, -0.0115]), ind_label=0.0),\n",
       " Row(label=1.0, features=DenseVector([32.0, 406.0, 1.0, 0.0, 0.0, 0.0, 0.0, 1.0, 1.0, 0.0]), pcaFeatures=DenseVector([-406.0205, 31.7069, 0.4554]), ind_label=1.0),\n",
       " Row(label=0.0, features=DenseVector([33.0, -204.0, 1.0, 0.0, 0.0, 1.0, 0.0, 1.0, 0.0, 0.0]), pcaFeatures=DenseVector([203.9788, 33.1276, 0.8403]), ind_label=0.0),\n",
       " Row(label=1.0, features=DenseVector([33.0, 359.0, 1.0, 0.0, 0.0, 1.0, 0.0, 1.0, 0.0, 0.0]), pcaFeatures=DenseVector([-359.0211, 32.7661, 0.8491]), ind_label=1.0),\n",
       " Row(label=0.0, features=DenseVector([36.0, 123.0, 1.0, 0.0, 0.0, 1.0, 1.0, 0.0, 0.0, 0.0]), pcaFeatures=DenseVector([-123.0231, 35.9282, 0.032]), ind_label=0.0),\n",
       " Row(label=1.0, features=DenseVector([35.0, 0.0, 1.0, 0.0, 1.0, 1.0, 0.0, 0.0, 0.0, 1.0]), pcaFeatures=DenseVector([-0.0225, 34.997, -0.4211]), ind_label=1.0),\n",
       " Row(label=0.0, features=DenseVector([52.0, 142.0, 1.0, 0.0, 0.0, 1.0, 0.0, 1.0, 0.0, 0.0]), pcaFeatures=DenseVector([-142.0334, 51.9, 0.7739]), ind_label=0.0),\n",
       " Row(label=0.0, features=DenseVector([40.0, 3571.0, 1.0, 0.0, 0.0, 1.0, 0.0, 0.0, 0.0, 1.0]), pcaFeatures=DenseVector([-3571.025, 37.7023, -0.4651]), ind_label=0.0),\n",
       " Row(label=1.0, features=DenseVector([44.0, 33.0, 1.0, 0.0, 0.0, 0.0, 0.0, 1.0, 1.0, 0.0]), pcaFeatures=DenseVector([-33.0283, 43.9429, 0.4043]), ind_label=1.0),\n",
       " Row(label=1.0, features=DenseVector([45.0, 0.0, 1.0, 0.0, 0.0, 0.0, 0.0, 1.0, 1.0, 0.0]), pcaFeatures=DenseVector([-0.0289, 44.9638, 0.4]), ind_label=1.0),\n",
       " Row(label=0.0, features=DenseVector([30.0, 3096.0, 1.0, 0.0, 0.0, 0.0, 0.0, 1.0, 1.0, 0.0]), pcaFeatures=DenseVector([-3096.0186, 27.9802, 0.505]), ind_label=0.0),\n",
       " Row(label=0.0, features=DenseVector([48.0, 20.0, 0.0, 1.0, 0.0, 0.0, 0.0, 1.0, 0.0, 0.0]), pcaFeatures=DenseVector([-20.0308, 47.9748, 0.4687]), ind_label=0.0),\n",
       " Row(label=1.0, features=DenseVector([33.0, 3576.0, 1.0, 0.0, 0.0, 1.0, 0.0, 1.0, 0.0, 0.0]), pcaFeatures=DenseVector([-3576.0205, 30.7005, 0.8993]), ind_label=1.0),\n",
       " Row(label=0.0, features=DenseVector([57.0, 206.0, 1.0, 0.0, 0.0, 1.0, 0.0, 0.0, 0.0, 0.0]), pcaFeatures=DenseVector([-206.0366, 56.8623, 0.0374]), ind_label=0.0),\n",
       " Row(label=0.0, features=DenseVector([57.0, 7082.0, 1.0, 0.0, 0.0, 1.0, 1.0, 0.0, 0.0, 0.0]), pcaFeatures=DenseVector([-7082.0352, 52.4538, 0.0614]), ind_label=0.0),\n",
       " Row(label=0.0, features=DenseVector([51.0, 1634.0, 1.0, 0.0, 0.0, 1.0, 0.0, 0.0, 0.0, 1.0]), pcaFeatures=DenseVector([-1634.0324, 49.9429, -0.5369]), ind_label=0.0),\n",
       " Row(label=1.0, features=DenseVector([34.0, 1.0, 1.0, 0.0, 0.0, 0.0, 0.0, 1.0, 1.0, 0.0]), pcaFeatures=DenseVector([-1.0218, 33.9663, 0.4415]), ind_label=1.0),\n",
       " Row(label=0.0, features=DenseVector([50.0, 4012.0, 1.0, 0.0, 0.0, 1.0, 0.0, 0.0, 0.0, 1.0]), pcaFeatures=DenseVector([-4012.0313, 47.4163, -0.496]), ind_label=0.0),\n",
       " Row(label=0.0, features=DenseVector([44.0, 3762.0, 1.0, 0.0, 0.0, 1.0, 0.0, 0.0, 0.0, 1.0]), pcaFeatures=DenseVector([-3762.0275, 41.5785, -0.4772]), ind_label=0.0),\n",
       " Row(label=0.0, features=DenseVector([27.0, -247.0, 1.0, 0.0, 1.0, 1.0, 0.0, 1.0, 0.0, 0.0]), pcaFeatures=DenseVector([246.9826, 27.1573, 0.9431]), ind_label=0.0),\n",
       " Row(label=0.0, features=DenseVector([50.0, 606.0, 1.0, 0.0, 0.0, 1.0, 0.0, 1.0, 0.0, 0.0]), pcaFeatures=DenseVector([-606.032, 49.6026, 0.7887]), ind_label=0.0),\n",
       " Row(label=1.0, features=DenseVector([36.0, 0.0, 1.0, 0.0, 0.0, 1.0, 0.0, 0.0, 0.0, 1.0]), pcaFeatures=DenseVector([-0.0231, 35.9964, -0.5057]), ind_label=1.0),\n",
       " Row(label=0.0, features=DenseVector([42.0, -189.0, 1.0, 0.0, 0.0, 1.0, 0.0, 1.0, 0.0, 0.0]), pcaFeatures=DenseVector([188.973, 42.1154, 0.8065]), ind_label=0.0),\n",
       " Row(label=1.0, features=DenseVector([32.0, 0.0, 1.0, 0.0, 0.0, 0.0, 0.0, 1.0, 1.0, 0.0]), pcaFeatures=DenseVector([-0.0206, 31.9676, 0.4491]), ind_label=1.0),\n",
       " Row(label=0.0, features=DenseVector([42.0, 484.0, 1.0, 0.0, 0.0, 1.0, 0.0, 0.0, 0.0, 1.0]), pcaFeatures=DenseVector([-484.0269, 41.6839, -0.5208]), ind_label=0.0),\n",
       " Row(label=1.0, features=DenseVector([43.0, 0.0, 1.0, 0.0, 1.0, 1.0, 0.0, 1.0, 0.0, 0.0]), pcaFeatures=DenseVector([-0.0276, 42.9941, 0.8865]), ind_label=1.0),\n",
       " Row(label=0.0, features=DenseVector([31.0, 395.0, 1.0, 0.0, 0.0, 1.0, 0.0, 0.0, 0.0, 1.0]), pcaFeatures=DenseVector([-395.0198, 30.7442, -0.4807]), ind_label=0.0),\n",
       " Row(label=0.0, features=DenseVector([32.0, 2349.0, 1.0, 0.0, 0.0, 1.0, 0.0, 0.0, 0.0, 1.0]), pcaFeatures=DenseVector([-2349.0201, 30.4892, -0.4539]), ind_label=0.0),\n",
       " Row(label=0.0, features=DenseVector([55.0, 410.0, 1.0, 1.0, 1.0, 0.0, 1.0, 0.0, 0.0, 0.0]), pcaFeatures=DenseVector([-410.0352, 54.7336, -0.2567]), ind_label=0.0),\n",
       " Row(label=1.0, features=DenseVector([58.0, 3401.0, 1.0, 0.0, 0.0, 1.0, 1.0, 0.0, 0.0, 0.0]), pcaFeatures=DenseVector([-3401.0366, 55.8171, 0.0001]), ind_label=1.0),\n",
       " Row(label=0.0, features=DenseVector([46.0, 222.0, 1.0, 0.0, 0.0, 1.0, 1.0, 0.0, 0.0, 0.0]), pcaFeatures=DenseVector([-222.0295, 45.8618, -0.0042]), ind_label=0.0),\n",
       " Row(label=0.0, features=DenseVector([55.0, 989.0, 1.0, 0.0, 1.0, 1.0, 0.0, 1.0, 0.0, 0.0]), pcaFeatures=DenseVector([-989.0351, 54.3556, 0.8566]), ind_label=0.0),\n",
       " Row(label=0.0, features=DenseVector([34.0, 415.0, 1.0, 0.0, 1.0, 1.0, 0.0, 0.0, 0.0, 1.0]), pcaFeatures=DenseVector([-415.0217, 33.7309, -0.4108]), ind_label=0.0),\n",
       " Row(label=1.0, features=DenseVector([28.0, 16.0, 1.0, 0.0, 0.0, 0.0, 0.0, 1.0, 1.0, 0.0]), pcaFeatures=DenseVector([-16.018, 27.9584, 0.4645]), ind_label=1.0),\n",
       " Row(label=0.0, features=DenseVector([42.0, 7190.0, 1.0, 1.0, 0.0, 0.0, 0.0, 0.0, 0.0, 1.0]), pcaFeatures=DenseVector([-7190.0255, 37.3727, -0.7183]), ind_label=0.0),\n",
       " Row(label=1.0, features=DenseVector([29.0, 482.0, 1.0, 0.0, 1.0, 0.0, 0.0, 1.0, 1.0, 0.0]), pcaFeatures=DenseVector([-482.0185, 28.6593, 0.5488]), ind_label=1.0),\n",
       " Row(label=0.0, features=DenseVector([54.0, 209.0, 1.0, 0.0, 1.0, 1.0, 0.0, 1.0, 0.0, 0.0]), pcaFeatures=DenseVector([-209.0346, 53.8567, 0.8482]), ind_label=0.0),\n",
       " Row(label=1.0, features=DenseVector([32.0, 0.0, 1.0, 0.0, 0.0, 0.0, 0.0, 1.0, 1.0, 0.0]), pcaFeatures=DenseVector([-0.0206, 31.9676, 0.4491]), ind_label=1.0),\n",
       " Row(label=1.0, features=DenseVector([39.0, 5803.0, 1.0, 0.0, 0.0, 0.0, 0.0, 0.0, 1.0, 1.0]), pcaFeatures=DenseVector([-5803.0239, 35.2401, -0.8246]), ind_label=1.0),\n",
       " Row(label=0.0, features=DenseVector([53.0, 624.0, 1.0, 0.0, 1.0, 1.0, 0.0, 0.0, 0.0, 1.0]), pcaFeatures=DenseVector([-624.0339, 52.5912, -0.4794]), ind_label=0.0),\n",
       " Row(label=1.0, features=DenseVector([58.0, 883.0, 1.0, 0.0, 0.0, 1.0, 0.0, 0.0, 0.0, 1.0]), pcaFeatures=DenseVector([-883.0371, 57.4231, -0.5751]), ind_label=1.0),\n",
       " Row(label=0.0, features=DenseVector([40.0, 1516.0, 1.0, 0.0, 1.0, 1.0, 0.0, 1.0, 0.0, 0.0]), pcaFeatures=DenseVector([-1516.0254, 39.0215, 0.9215]), ind_label=0.0),\n",
       " Row(label=1.0, features=DenseVector([29.0, 872.0, 1.0, 0.0, 0.0, 0.0, 0.0, 1.0, 1.0, 0.0]), pcaFeatures=DenseVector([-872.0184, 28.4085, 0.4741]), ind_label=1.0),\n",
       " Row(label=0.0, features=DenseVector([33.0, -988.0, 1.0, 0.0, 1.0, 1.0, 0.0, 0.0, 0.0, 1.0]), pcaFeatures=DenseVector([987.9786, 33.632, -0.429]), ind_label=0.0),\n",
       " Row(label=1.0, features=DenseVector([38.0, 902.0, 1.0, 0.0, 0.0, 0.0, 0.0, 1.0, 1.0, 0.0]), pcaFeatures=DenseVector([-902.0242, 37.3867, 0.4405]), ind_label=1.0),\n",
       " Row(label=0.0, features=DenseVector([56.0, 1007.0, 1.0, 1.0, 0.0, 0.0, 0.0, 1.0, 0.0, 0.0]), pcaFeatures=DenseVector([-1007.0358, 55.3381, 0.47]), ind_label=0.0),\n",
       " Row(label=1.0, features=DenseVector([40.0, 0.0, 1.0, 0.0, 0.0, 1.0, 0.0, 1.0, 0.0, 0.0]), pcaFeatures=DenseVector([-0.0257, 39.9946, 0.817]), ind_label=1.0),\n",
       " Row(label=1.0, features=DenseVector([24.0, 174.0, 1.0, 0.0, 1.0, 0.0, 0.0, 1.0, 1.0, 0.0]), pcaFeatures=DenseVector([-174.0154, 23.8585, 0.5629]), ind_label=1.0),\n",
       " Row(label=0.0, features=DenseVector([46.0, 12186.0, 1.0, 0.0, 0.0, 1.0, 0.0, 1.0, 0.0, 0.0]), pcaFeatures=DenseVector([-12186.027, 38.1683, 0.9848]), ind_label=0.0),\n",
       " Row(label=0.0, features=DenseVector([35.0, 524.0, 1.0, 0.0, 0.0, 1.0, 0.0, 1.0, 0.0, 0.0]), pcaFeatures=DenseVector([-524.0224, 34.6596, 0.8441]), ind_label=0.0),\n",
       " Row(label=1.0, features=DenseVector([35.0, 0.0, 1.0, 0.0, 0.0, 0.0, 0.0, 0.0, 1.0, 1.0]), pcaFeatures=DenseVector([-0.0225, 34.9673, -0.9001]), ind_label=1.0),\n",
       " Row(label=0.0, features=DenseVector([34.0, 4.0, 1.0, 0.0, 0.0, 1.0, 0.0, 1.0, 0.0, 0.0]), pcaFeatures=DenseVector([-4.0218, 33.9937, 0.8397]), ind_label=0.0),\n",
       " Row(label=1.0, features=DenseVector([35.0, 11219.0, 1.0, 0.0, 0.0, 1.0, 0.0, 0.0, 0.0, 1.0]), pcaFeatures=DenseVector([-11219.0202, 27.793, -0.3266]), ind_label=1.0),\n",
       " Row(label=1.0, features=DenseVector([38.0, 0.0, 1.0, 0.0, 0.0, 0.0, 0.0, 0.0, 1.0, 1.0]), pcaFeatures=DenseVector([-0.0244, 37.9665, -0.9115]), ind_label=1.0),\n",
       " Row(label=0.0, features=DenseVector([50.0, 5776.0, 1.0, 0.0, 0.0, 1.0, 1.0, 0.0, 0.0, 0.0]), pcaFeatures=DenseVector([-5776.0309, 46.2944, 0.0675]), ind_label=0.0),\n",
       " Row(label=0.0, features=DenseVector([51.0, 37.0, 1.0, 1.0, 0.0, 0.0, 1.0, 0.0, 0.0, 0.0]), pcaFeatures=DenseVector([-37.0328, 50.9739, -0.3282]), ind_label=0.0),\n",
       " Row(label=0.0, features=DenseVector([59.0, 593.0, 1.0, 0.0, 0.0, 1.0, 0.0, 0.0, 0.0, 1.0]), pcaFeatures=DenseVector([-593.0378, 58.609, -0.5834]), ind_label=0.0),\n",
       " Row(label=0.0, features=DenseVector([32.0, 1148.0, 1.0, 0.0, 0.0, 1.0, 0.0, 1.0, 0.0, 0.0]), pcaFeatures=DenseVector([-1148.0203, 31.2598, 0.8652]), ind_label=0.0),\n",
       " Row(label=1.0, features=DenseVector([37.0, 3561.0, 1.0, 0.0, 0.0, 0.0, 0.0, 1.0, 1.0, 0.0]), pcaFeatures=DenseVector([-3561.023, 34.6796, 0.4858]), ind_label=1.0),\n",
       " Row(label=0.0, features=DenseVector([42.0, 63.0, 1.0, 1.0, 0.0, 0.0, 0.0, 1.0, 0.0, 0.0]), pcaFeatures=DenseVector([-63.027, 41.9483, 0.5082]), ind_label=0.0),\n",
       " Row(label=0.0, features=DenseVector([40.0, 260.0, 1.0, 0.0, 0.0, 1.0, 0.0, 1.0, 0.0, 0.0]), pcaFeatures=DenseVector([-260.0256, 39.8276, 0.8211]), ind_label=0.0),\n",
       " Row(label=1.0, features=DenseVector([28.0, 2269.0, 1.0, 0.0, 0.0, 0.0, 0.0, 0.0, 1.0, 1.0]), pcaFeatures=DenseVector([-2269.0175, 26.5124, -0.8382]), ind_label=1.0),\n",
       " Row(label=0.0, features=DenseVector([47.0, 1060.0, 1.0, 0.0, 0.0, 1.0, 0.0, 1.0, 0.0, 0.0]), pcaFeatures=DenseVector([-1060.03, 46.3119, 0.8071]), ind_label=0.0),\n",
       " Row(label=0.0, features=DenseVector([27.0, -220.0, 1.0, 0.0, 0.0, 1.0, 0.0, 1.0, 0.0, 0.0]), pcaFeatures=DenseVector([219.9826, 27.1396, 0.8627]), ind_label=0.0),\n",
       " Row(label=0.0, features=DenseVector([41.0, 49.0, 1.0, 0.0, 0.0, 1.0, 0.0, 0.0, 0.0, 1.0]), pcaFeatures=DenseVector([-49.0263, 40.9635, -0.5239]), ind_label=0.0),\n",
       " Row(label=1.0, features=DenseVector([34.0, 69.0, 1.0, 0.0, 1.0, 1.0, 0.0, 0.0, 0.0, 1.0]), pcaFeatures=DenseVector([-69.0218, 33.953, -0.4163]), ind_label=1.0),\n",
       " Row(label=1.0, features=DenseVector([50.0, 4108.0, 1.0, 0.0, 0.0, 1.0, 1.0, 0.0, 0.0, 0.0]), pcaFeatures=DenseVector([-4108.0313, 47.3654, 0.0414]), ind_label=1.0),\n",
       " Row(label=0.0, features=DenseVector([47.0, 480.0, 1.0, 0.0, 0.0, 1.0, 0.0, 1.0, 0.0, 0.0]), pcaFeatures=DenseVector([-480.0301, 46.6844, 0.7981]), ind_label=0.0),\n",
       " Row(label=0.0, features=DenseVector([53.0, 4994.0, 1.0, 0.0, 0.0, 1.0, 0.0, 1.0, 0.0, 0.0]), pcaFeatures=DenseVector([-4994.033, 49.7842, 0.8459]), ind_label=0.0),\n",
       " Row(label=0.0, features=DenseVector([53.0, 0.0, 1.0, 1.0, 1.0, 0.0, 0.0, 1.0, 0.0, 0.0]), pcaFeatures=DenseVector([-0.034, 52.986, 0.5465]), ind_label=0.0),\n",
       " Row(label=0.0, features=DenseVector([47.0, 3681.0, 1.0, 0.0, 0.0, 1.0, 0.0, 0.0, 0.0, 1.0]), pcaFeatures=DenseVector([-3681.0294, 44.6297, -0.4898]), ind_label=0.0),\n",
       " Row(label=1.0, features=DenseVector([49.0, -701.0, 0.0, 1.0, 0.0, 0.0, 0.0, 0.0, 0.0, 0.0]), pcaFeatures=DenseVector([700.9684, 49.4423, -0.2649]), ind_label=1.0),\n",
       " Row(label=0.0, features=DenseVector([29.0, 451.0, 1.0, 0.0, 0.0, 1.0, 0.0, 0.0, 0.0, 1.0]), pcaFeatures=DenseVector([-451.0185, 28.7088, -0.4722]), ind_label=0.0),\n",
       " Row(label=1.0, features=DenseVector([45.0, -311.0, 1.0, 1.0, 0.0, 0.0, 1.0, 0.0, 0.0, 0.0]), pcaFeatures=DenseVector([310.971, 45.199, -0.311]), ind_label=1.0),\n",
       " Row(label=1.0, features=DenseVector([38.0, 593.0, 1.0, 0.0, 1.0, 1.0, 0.0, 1.0, 0.0, 0.0]), pcaFeatures=DenseVector([-593.0243, 37.6148, 0.9147]), ind_label=1.0),\n",
       " Row(label=1.0, features=DenseVector([32.0, 759.0, 1.0, 0.0, 0.0, 1.0, 0.0, 1.0, 0.0, 0.0]), pcaFeatures=DenseVector([-759.0204, 31.5095, 0.8591]), ind_label=1.0),\n",
       " Row(label=0.0, features=DenseVector([70.0, 4531.0, 1.0, 1.0, 0.0, 0.0, 1.0, 0.0, 0.0, 0.0]), pcaFeatures=DenseVector([-4531.044, 67.0828, -0.3298]), ind_label=0.0),\n",
       " Row(label=1.0, features=DenseVector([65.0, 1840.0, 1.0, 1.0, 0.0, 0.0, 1.0, 0.0, 0.0, 0.0]), pcaFeatures=DenseVector([-1840.0414, 63.8121, -0.353]), ind_label=1.0),\n",
       " Row(label=0.0, features=DenseVector([56.0, 345.0, 1.0, 0.0, 0.0, 1.0, 0.0, 1.0, 0.0, 0.0]), pcaFeatures=DenseVector([-345.0359, 55.7685, 0.7619]), ind_label=0.0),\n",
       " Row(label=0.0, features=DenseVector([35.0, 1287.0, 1.0, 0.0, 0.0, 1.0, 0.0, 1.0, 0.0, 0.0]), pcaFeatures=DenseVector([-1287.0222, 34.1696, 0.856]), ind_label=0.0),\n",
       " Row(label=0.0, features=DenseVector([56.0, 353.0, 1.0, 0.0, 1.0, 1.0, 0.0, 0.0, 0.0, 0.0]), pcaFeatures=DenseVector([-353.0359, 55.7685, 0.1243]), ind_label=0.0),\n",
       " Row(label=0.0, features=DenseVector([56.0, 205.0, 1.0, 0.0, 1.0, 1.0, 0.0, 1.0, 0.0, 0.0]), pcaFeatures=DenseVector([-205.0359, 55.8587, 0.8406]), ind_label=0.0),\n",
       " Row(label=1.0, features=DenseVector([49.0, 687.0, 1.0, 0.0, 0.0, 1.0, 0.0, 1.0, 0.0, 0.0]), pcaFeatures=DenseVector([-687.0313, 48.5509, 0.7937]), ind_label=1.0),\n",
       " Row(label=0.0, features=DenseVector([38.0, 1147.0, 1.0, 0.0, 1.0, 1.0, 1.0, 0.0, 0.0, 0.0]), pcaFeatures=DenseVector([-1147.0242, 37.2705, 0.1213]), ind_label=0.0),\n",
       " Row(label=0.0, features=DenseVector([35.0, 4286.0, 1.0, 0.0, 0.0, 1.0, 0.0, 0.0, 0.0, 1.0]), pcaFeatures=DenseVector([-4286.0216, 32.2446, -0.435]), ind_label=0.0),\n",
       " Row(label=0.0, features=DenseVector([38.0, 605.0, 1.0, 0.0, 0.0, 1.0, 0.0, 0.0, 0.0, 1.0]), pcaFeatures=DenseVector([-605.0243, 37.6073, -0.5038]), ind_label=0.0),\n",
       " Row(label=1.0, features=DenseVector([49.0, 8545.0, 1.0, 0.0, 1.0, 1.0, 0.0, 1.0, 0.0, 0.0]), pcaFeatures=DenseVector([-8545.0297, 43.5057, 0.9974]), ind_label=1.0),\n",
       " Row(label=0.0, features=DenseVector([55.0, 559.0, 1.0, 0.0, 0.0, 1.0, 0.0, 0.0, 0.0, 0.0]), pcaFeatures=DenseVector([-559.0352, 54.6362, 0.0505]), ind_label=0.0),\n",
       " Row(label=1.0, features=DenseVector([43.0, 2.0, 1.0, 0.0, 0.0, 0.0, 1.0, 0.0, 1.0, 0.0]), pcaFeatures=DenseVector([-2.0276, 42.9746, -0.3945]), ind_label=1.0),\n",
       " Row(label=0.0, features=DenseVector([43.0, 2.0, 1.0, 0.0, 1.0, 1.0, 0.0, 0.0, 0.0, 1.0]), pcaFeatures=DenseVector([-2.0276, 42.9935, -0.4513]), ind_label=0.0),\n",
       " Row(label=1.0, features=DenseVector([25.0, 760.0, 1.0, 0.0, 0.0, 0.0, 0.0, 0.0, 1.0, 1.0]), pcaFeatures=DenseVector([-760.0159, 24.4822, -0.8504]), ind_label=1.0),\n",
       " Row(label=0.0, features=DenseVector([30.0, 1317.0, 1.0, 0.0, 0.0, 1.0, 1.0, 0.0, 0.0, 0.0]), pcaFeatures=DenseVector([-1317.019, 29.1633, 0.0734]), ind_label=0.0),\n",
       " Row(label=0.0, features=DenseVector([46.0, 182.0, 1.0, 0.0, 0.0, 1.0, 0.0, 1.0, 0.0, 0.0]), pcaFeatures=DenseVector([-182.0295, 45.876, 0.7972]), ind_label=0.0),\n",
       " Row(label=0.0, features=DenseVector([50.0, 276.0, 1.0, 0.0, 1.0, 1.0, 1.0, 0.0, 0.0, 0.0]), pcaFeatures=DenseVector([-276.032, 49.8263, 0.0624]), ind_label=0.0),\n",
       " Row(label=1.0, features=DenseVector([35.0, 2971.0, 1.0, 0.0, 0.0, 1.0, 0.0, 1.0, 0.0, 0.0]), pcaFeatures=DenseVector([-2971.0219, 33.0884, 0.8823]), ind_label=1.0),\n",
       " Row(label=1.0, features=DenseVector([26.0, 1064.0, 1.0, 0.0, 0.0, 0.0, 0.0, 1.0, 1.0, 0.0]), pcaFeatures=DenseVector([-1064.0165, 25.2861, 0.4884]), ind_label=1.0),\n",
       " Row(label=0.0, features=DenseVector([45.0, 1783.0, 1.0, 0.0, 0.0, 1.0, 0.0, 0.0, 0.0, 0.0]), pcaFeatures=DenseVector([-1783.0285, 43.8531, 0.1074]), ind_label=0.0),\n",
       " Row(label=0.0, features=DenseVector([37.0, -67.0, 1.0, 0.0, 0.0, 1.0, 0.0, 1.0, 0.0, 0.0]), pcaFeatures=DenseVector([66.9762, 37.0385, 0.8273]), ind_label=0.0),\n",
       " Row(label=1.0, features=DenseVector([60.0, 179.0, 1.0, 0.0, 1.0, 0.0, 0.0, 0.0, 1.0, 1.0]), pcaFeatures=DenseVector([-179.0385, 59.8456, -0.911]), ind_label=1.0),\n",
       " Row(label=1.0, features=DenseVector([38.0, 1199.0, 1.0, 0.0, 0.0, 1.0, 0.0, 0.0, 0.0, 1.0]), pcaFeatures=DenseVector([-1199.0242, 37.2259, -0.4946]), ind_label=1.0),\n",
       " Row(label=0.0, features=DenseVector([47.0, 214.0, 1.0, 0.0, 1.0, 1.0, 1.0, 0.0, 0.0, 0.0]), pcaFeatures=DenseVector([-214.0301, 46.867, 0.0727]), ind_label=0.0),\n",
       " Row(label=1.0, features=DenseVector([33.0, 6699.0, 1.0, 0.0, 0.0, 1.0, 0.0, 1.0, 0.0, 0.0]), pcaFeatures=DenseVector([-6699.0198, 28.6952, 0.9481]), ind_label=1.0),\n",
       " Row(label=0.0, features=DenseVector([51.0, 1760.0, 1.0, 0.0, 1.0, 1.0, 0.0, 1.0, 0.0, 0.0]), pcaFeatures=DenseVector([-1760.0324, 49.8617, 0.8838]), ind_label=0.0),\n",
       " Row(label=1.0, features=DenseVector([35.0, 145.0, 1.0, 0.0, 0.0, 0.0, 0.0, 0.0, 1.0, 1.0]), pcaFeatures=DenseVector([-145.0225, 34.8742, -0.8978]), ind_label=1.0),\n",
       " Row(label=1.0, features=DenseVector([35.0, 978.0, 1.0, 0.0, 0.0, 1.0, 0.0, 1.0, 0.0, 0.0]), pcaFeatures=DenseVector([-978.0223, 34.368, 0.8512]), ind_label=1.0),\n",
       " Row(label=1.0, features=DenseVector([48.0, 1150.0, 1.0, 0.0, 0.0, 0.0, 0.0, 1.0, 1.0, 0.0]), pcaFeatures=DenseVector([-1150.0306, 47.2245, 0.4066]), ind_label=1.0),\n",
       " Row(label=0.0, features=DenseVector([37.0, 121.0, 1.0, 0.0, 0.0, 1.0, 0.0, 1.0, 0.0, 0.0]), pcaFeatures=DenseVector([-121.0237, 36.9178, 0.8302]), ind_label=0.0),\n",
       " Row(label=1.0, features=DenseVector([29.0, 828.0, 1.0, 0.0, 0.0, 0.0, 0.0, 0.0, 1.0, 1.0]), pcaFeatures=DenseVector([-828.0185, 28.4374, -0.8645]), ind_label=1.0),\n",
       " Row(label=0.0, features=DenseVector([34.0, 244.0, 1.0, 0.0, 0.0, 1.0, 0.0, 1.0, 0.0, 0.0]), pcaFeatures=DenseVector([-244.0218, 33.8396, 0.8435]), ind_label=0.0),\n",
       " Row(label=1.0, features=DenseVector([32.0, 228.0, 1.0, 0.0, 0.0, 1.0, 1.0, 0.0, 0.0, 0.0]), pcaFeatures=DenseVector([-228.0205, 31.862, 0.0488]), ind_label=1.0),\n",
       " Row(label=1.0, features=DenseVector([30.0, 424.0, 1.0, 0.0, 0.0, 0.0, 0.0, 0.0, 1.0, 1.0]), pcaFeatures=DenseVector([-424.0192, 29.6965, -0.8746]), ind_label=1.0),\n",
       " Row(label=0.0, features=DenseVector([47.0, 447.0, 1.0, 1.0, 1.0, 0.0, 0.0, 0.0, 0.0, 1.0]), pcaFeatures=DenseVector([-447.0301, 46.7013, -0.7617]), ind_label=0.0),\n",
       " Row(label=0.0, features=DenseVector([33.0, -195.0, 1.0, 0.0, 0.0, 1.0, 1.0, 0.0, 0.0, 0.0]), pcaFeatures=DenseVector([194.9788, 33.1333, 0.0384]), ind_label=0.0),\n",
       " Row(label=1.0, features=DenseVector([33.0, 1410.0, 1.0, 0.0, 0.0, 0.0, 0.0, 0.0, 1.0, 1.0]), pcaFeatures=DenseVector([-1410.0209, 32.0626, -0.8705]), ind_label=1.0),\n",
       " Row(label=0.0, features=DenseVector([63.0, 1084.0, 1.0, 0.0, 0.0, 1.0, 1.0, 0.0, 0.0, 0.0]), pcaFeatures=DenseVector([-1084.0402, 62.3034, -0.055]), ind_label=0.0),\n",
       " Row(label=0.0, features=DenseVector([51.0, 10924.0, 1.0, 1.0, 0.0, 0.0, 1.0, 0.0, 0.0, 0.0]), pcaFeatures=DenseVector([-10924.0305, 43.9834, -0.1581]), ind_label=0.0),\n",
       " Row(label=1.0, features=DenseVector([41.0, 832.0, 1.0, 0.0, 1.0, 1.0, 0.0, 0.0, 0.0, 1.0]), pcaFeatures=DenseVector([-832.0262, 40.4611, -0.4308]), ind_label=1.0),\n",
       " Row(label=0.0, features=DenseVector([56.0, 478.0, 1.0, 0.0, 0.0, 1.0, 0.0, 0.0, 0.0, 1.0]), pcaFeatures=DenseVector([-478.0359, 55.6837, -0.5739]), ind_label=0.0),\n",
       " Row(label=1.0, features=DenseVector([60.0, 0.0, 1.0, 0.0, 1.0, 0.0, 0.0, 0.0, 1.0, 1.0]), pcaFeatures=DenseVector([-0.0385, 59.9605, -0.9137]), ind_label=1.0),\n",
       " Row(label=1.0, features=DenseVector([41.0, 3950.0, 1.0, 0.0, 0.0, 0.0, 0.0, 0.0, 1.0, 1.0]), pcaFeatures=DenseVector([-3950.0255, 38.4293, -0.8611]), ind_label=1.0),\n",
       " Row(label=1.0, features=DenseVector([37.0, 504.0, 1.0, 0.0, 0.0, 0.0, 0.0, 0.0, 1.0, 0.0]), pcaFeatures=DenseVector([-504.0237, 36.6474, -0.2805]), ind_label=1.0),\n",
       " Row(label=1.0, features=DenseVector([36.0, 219.0, 1.0, 0.0, 1.0, 0.0, 0.0, 1.0, 1.0, 0.0]), pcaFeatures=DenseVector([-219.0231, 35.8262, 0.5182]), ind_label=1.0),\n",
       " Row(label=0.0, features=DenseVector([57.0, 1602.0, 1.0, 0.0, 0.0, 1.0, 0.0, 0.0, 0.0, 1.0]), pcaFeatures=DenseVector([-1602.0363, 55.9617, -0.5601]), ind_label=0.0),\n",
       " Row(label=1.0, features=DenseVector([55.0, 2587.0, 1.0, 0.0, 0.0, 1.0, 1.0, 0.0, 0.0, 0.0]), pcaFeatures=DenseVector([-2587.0348, 53.3406, -0.0013]), ind_label=1.0),\n",
       " Row(label=0.0, features=DenseVector([44.0, 0.0, 1.0, 0.0, 1.0, 1.0, 0.0, 1.0, 0.0, 0.0]), pcaFeatures=DenseVector([-0.0282, 43.9938, 0.8827]), ind_label=0.0),\n",
       " Row(label=1.0, features=DenseVector([47.0, 2303.0, 1.0, 0.0, 0.0, 1.0, 0.0, 0.0, 0.0, 1.0]), pcaFeatures=DenseVector([-2303.0297, 45.5145, -0.5113]), ind_label=1.0),\n",
       " Row(label=0.0, features=DenseVector([31.0, 1660.0, 1.0, 0.0, 0.0, 1.0, 0.0, 1.0, 0.0, 0.0]), pcaFeatures=DenseVector([-1660.0196, 29.9313, 0.877]), ind_label=0.0),\n",
       " Row(label=0.0, features=DenseVector([35.0, 32.0, 0.0, 0.0, 0.0, 1.0, 0.0, 0.0, 0.0, 1.0]), pcaFeatures=DenseVector([-32.0225, 34.9767, -0.5176]), ind_label=0.0),\n",
       " Row(label=0.0, features=DenseVector([39.0, 278.0, 1.0, 0.0, 1.0, 1.0, 0.0, 0.0, 0.0, 1.0]), pcaFeatures=DenseVector([-278.025, 38.8174, -0.4319]), ind_label=0.0),\n",
       " Row(label=1.0, features=DenseVector([50.0, 4.0, 1.0, 0.0, 0.0, 1.0, 0.0, 0.0, 0.0, 1.0]), pcaFeatures=DenseVector([-4.0321, 49.9898, -0.5586]), ind_label=1.0),\n",
       " Row(label=1.0, features=DenseVector([29.0, 318.0, 1.0, 0.0, 0.0, 1.0, 0.0, 0.0, 0.0, 1.0]), pcaFeatures=DenseVector([-318.0186, 28.7942, -0.4743]), ind_label=1.0),\n",
       " Row(label=1.0, features=DenseVector([30.0, 209.0, 1.0, 0.0, 0.0, 0.0, 0.0, 1.0, 1.0, 0.0]), pcaFeatures=DenseVector([-209.0192, 29.8339, 0.4599]), ind_label=1.0),\n",
       " Row(label=0.0, features=DenseVector([46.0, 271.0, 1.0, 0.0, 0.0, 1.0, 0.0, 1.0, 0.0, 0.0]), pcaFeatures=DenseVector([-271.0295, 45.8188, 0.7986]), ind_label=0.0),\n",
       " Row(label=0.0, features=DenseVector([27.0, 3196.0, 1.0, 0.0, 0.0, 0.0, 0.0, 0.0, 1.0, 0.0]), pcaFeatures=DenseVector([-3196.0167, 24.9217, -0.2007]), ind_label=0.0),\n",
       " Row(label=1.0, features=DenseVector([48.0, 4099.0, 1.0, 1.0, 0.0, 0.0, 0.0, 1.0, 0.0, 0.0]), pcaFeatures=DenseVector([-4099.03, 45.3551, 0.5486]), ind_label=1.0),\n",
       " Row(label=1.0, features=DenseVector([26.0, 2572.0, 1.0, 0.0, 0.0, 0.0, 0.0, 1.0, 1.0, 0.0]), pcaFeatures=DenseVector([-2572.0162, 24.3178, 0.512]), ind_label=1.0),\n",
       " Row(label=0.0, features=DenseVector([36.0, 339.0, 1.0, 0.0, 0.0, 0.0, 0.0, 0.0, 1.0, 1.0]), pcaFeatures=DenseVector([-339.0231, 35.7494, -0.8986]), ind_label=0.0),\n",
       " Row(label=0.0, features=DenseVector([42.0, 0.0, 1.0, 0.0, 1.0, 1.0, 1.0, 0.0, 0.0, 0.0]), pcaFeatures=DenseVector([-0.027, 42.0058, 0.0883]), ind_label=0.0),\n",
       " Row(label=0.0, features=DenseVector([50.0, 395.0, 1.0, 0.0, 0.0, 1.0, 1.0, 0.0, 0.0, 0.0]), pcaFeatures=DenseVector([-395.032, 49.7495, -0.0166]), ind_label=0.0),\n",
       " Row(label=0.0, features=DenseVector([49.0, 2039.0, 1.0, 0.0, 0.0, 1.0, 0.0, 1.0, 0.0, 0.0]), pcaFeatures=DenseVector([-2039.0311, 47.6828, 0.8149]), ind_label=0.0),\n",
       " Row(label=0.0, features=DenseVector([45.0, 5450.0, 1.0, 0.0, 0.0, 1.0, 0.0, 0.0, 0.0, 1.0]), pcaFeatures=DenseVector([-5450.0278, 41.4944, -0.4546]), ind_label=0.0),\n",
       " Row(label=1.0, features=DenseVector([23.0, 780.0, 1.0, 0.0, 0.0, 0.0, 0.0, 1.0, 1.0, 0.0]), pcaFeatures=DenseVector([-780.0146, 22.4693, 0.4953]), ind_label=1.0),\n",
       " Row(label=1.0, features=DenseVector([38.0, 0.0, 1.0, 0.0, 0.0, 0.0, 0.0, 1.0, 1.0, 0.0]), pcaFeatures=DenseVector([-0.0244, 37.9658, 0.4264]), ind_label=1.0),\n",
       " Row(label=1.0, features=DenseVector([32.0, 8436.0, 1.0, 0.0, 0.0, 0.0, 0.0, 0.0, 1.0, 1.0]), pcaFeatures=DenseVector([-8436.0188, 26.5515, -0.757]), ind_label=1.0),\n",
       " Row(label=1.0, features=DenseVector([60.0, 11262.0, 1.0, 0.0, 0.0, 0.0, 1.0, 0.0, 1.0, 0.0]), pcaFeatures=DenseVector([-11262.0362, 52.7397, -0.2828]), ind_label=1.0),\n",
       " Row(label=1.0, features=DenseVector([30.0, 946.0, 1.0, 0.0, 0.0, 1.0, 0.0, 1.0, 0.0, 0.0]), pcaFeatures=DenseVector([-946.0191, 29.39, 0.8696]), ind_label=1.0),\n",
       " Row(label=0.0, features=DenseVector([58.0, 497.0, 1.0, 0.0, 0.0, 1.0, 0.0, 0.0, 0.0, 1.0]), pcaFeatures=DenseVector([-497.0372, 57.6709, -0.5811]), ind_label=0.0),\n",
       " Row(label=0.0, features=DenseVector([60.0, 55.0, 1.0, 0.0, 0.0, 1.0, 1.0, 0.0, 0.0, 0.0]), pcaFeatures=DenseVector([-55.0385, 59.965, -0.0597]), ind_label=0.0),\n",
       " Row(label=0.0, features=DenseVector([38.0, -140.0, 1.0, 0.0, 0.0, 1.0, 0.0, 1.0, 0.0, 0.0]), pcaFeatures=DenseVector([139.9756, 38.0851, 0.8224]), ind_label=0.0),\n",
       " Row(label=0.0, features=DenseVector([51.0, -379.0, 1.0, 0.0, 0.0, 1.0, 0.0, 1.0, 0.0, 0.0]), pcaFeatures=DenseVector([378.9672, 51.2348, 0.7695]), ind_label=0.0),\n",
       " Row(label=1.0, features=DenseVector([42.0, -396.0, 1.0, 0.0, 0.0, 1.0, 0.0, 1.0, 0.0, 0.0]), pcaFeatures=DenseVector([395.9729, 42.2483, 0.8033]), ind_label=1.0),\n",
       " Row(label=1.0, features=DenseVector([30.0, 0.0, 1.0, 0.0, 0.0, 0.0, 0.0, 1.0, 1.0, 0.0]), pcaFeatures=DenseVector([-0.0193, 29.9681, 0.4566]), ind_label=1.0),\n",
       " Row(label=0.0, features=DenseVector([40.0, 733.0, 1.0, 0.0, 0.0, 1.0, 1.0, 0.0, 0.0, 0.0]), pcaFeatures=DenseVector([-733.0255, 39.5354, 0.0265]), ind_label=0.0),\n",
       " Row(label=1.0, features=DenseVector([37.0, 393.0, 1.0, 0.0, 0.0, 1.0, 0.0, 0.0, 0.0, 1.0]), pcaFeatures=DenseVector([-393.0237, 36.7437, -0.5034]), ind_label=1.0),\n",
       " Row(label=0.0, features=DenseVector([53.0, 7290.0, 1.0, 1.0, 0.0, 0.0, 1.0, 0.0, 0.0, 0.0]), pcaFeatures=DenseVector([-7290.0325, 48.3162, -0.2224]), ind_label=0.0),\n",
       " Row(label=0.0, features=DenseVector([27.0, 468.0, 1.0, 0.0, 0.0, 0.0, 0.0, 1.0, 1.0, 0.0]), pcaFeatures=DenseVector([-468.0172, 26.6685, 0.4753]), ind_label=0.0),\n",
       " Row(label=1.0, features=DenseVector([39.0, 0.0, 1.0, 0.0, 0.0, 1.0, 0.0, 1.0, 0.0, 0.0]), pcaFeatures=DenseVector([-0.025, 38.9949, 0.8208]), ind_label=1.0),\n",
       " Row(label=0.0, features=DenseVector([39.0, 3705.0, 1.0, 0.0, 0.0, 1.0, 1.0, 0.0, 0.0, 0.0]), pcaFeatures=DenseVector([-3705.0243, 36.6274, 0.0767]), ind_label=0.0),\n",
       " Row(label=1.0, features=DenseVector([59.0, 9676.0, 1.0, 0.0, 0.0, 1.0, 0.0, 0.0, 0.0, 1.0]), pcaFeatures=DenseVector([-9676.0359, 52.7768, -0.4415]), ind_label=1.0),\n",
       " Row(label=1.0, features=DenseVector([37.0, 1328.0, 1.0, 0.0, 0.0, 1.0, 0.0, 1.0, 0.0, 0.0]), pcaFeatures=DenseVector([-1328.0235, 36.1427, 0.8491]), ind_label=1.0),\n",
       " Row(label=0.0, features=DenseVector([41.0, 8.0, 1.0, 0.0, 0.0, 1.0, 1.0, 0.0, 0.0, 0.0]), pcaFeatures=DenseVector([-8.0263, 41.0006, 0.0114]), ind_label=0.0),\n",
       " Row(label=0.0, features=DenseVector([45.0, 61.0, 1.0, 0.0, 0.0, 1.0, 1.0, 0.0, 0.0, 0.0]), pcaFeatures=DenseVector([-61.0289, 44.9654, -0.0029]), ind_label=0.0),\n",
       " Row(label=0.0, features=DenseVector([48.0, 6613.0, 1.0, 0.0, 0.0, 1.0, 0.0, 0.0, 0.0, 1.0]), pcaFeatures=DenseVector([-6613.0295, 43.7467, -0.4477]), ind_label=0.0),\n",
       " Row(label=0.0, features=DenseVector([48.0, 302.0, 1.0, 0.0, 0.0, 1.0, 0.0, 1.0, 0.0, 0.0]), pcaFeatures=DenseVector([-302.0308, 47.7984, 0.7915]), ind_label=0.0),\n",
       " Row(label=0.0, features=DenseVector([32.0, 1005.0, 1.0, 0.0, 0.0, 1.0, 0.0, 1.0, 0.0, 0.0]), pcaFeatures=DenseVector([-1005.0203, 31.3516, 0.863]), ind_label=0.0),\n",
       " Row(label=0.0, features=DenseVector([35.0, 109.0, 1.0, 0.0, 0.0, 1.0, 0.0, 1.0, 0.0, 0.0]), pcaFeatures=DenseVector([-109.0225, 34.926, 0.8376]), ind_label=0.0),\n",
       " Row(label=1.0, features=DenseVector([33.0, 1240.0, 1.0, 0.0, 0.0, 0.0, 0.0, 0.0, 1.0, 1.0]), pcaFeatures=DenseVector([-1240.021, 32.1717, -0.8732]), ind_label=1.0),\n",
       " Row(label=0.0, features=DenseVector([28.0, 0.0, 1.0, 0.0, 1.0, 0.0, 1.0, 0.0, 1.0, 0.0]), pcaFeatures=DenseVector([-0.018, 27.9805, -0.257]), ind_label=0.0),\n",
       " Row(label=0.0, features=DenseVector([64.0, 2923.0, 1.0, 0.0, 0.0, 1.0, 0.0, 0.0, 0.0, 0.0]), pcaFeatures=DenseVector([-2923.0405, 62.1157, 0.0534]), ind_label=0.0),\n",
       " Row(label=0.0, features=DenseVector([35.0, 0.0, 1.0, 0.0, 0.0, 1.0, 0.0, 1.0, 0.0, 0.0]), pcaFeatures=DenseVector([-0.0225, 34.996, 0.8359]), ind_label=0.0),\n",
       " Row(label=1.0, features=DenseVector([33.0, 43.0, 1.0, 0.0, 0.0, 1.0, 0.0, 1.0, 0.0, 0.0]), pcaFeatures=DenseVector([-43.0212, 32.969, 0.8441]), ind_label=1.0),\n",
       " Row(label=0.0, features=DenseVector([41.0, 288.0, 1.0, 0.0, 0.0, 1.0, 0.0, 1.0, 0.0, 0.0]), pcaFeatures=DenseVector([-288.0263, 40.8094, 0.8177]), ind_label=0.0),\n",
       " Row(label=0.0, features=DenseVector([34.0, 613.0, 1.0, 0.0, 0.0, 1.0, 0.0, 1.0, 0.0, 0.0]), pcaFeatures=DenseVector([-613.0217, 33.6027, 0.8493]), ind_label=0.0),\n",
       " Row(label=0.0, features=DenseVector([37.0, 6101.0, 1.0, 0.0, 0.0, 0.0, 0.0, 0.0, 1.0, 1.0]), pcaFeatures=DenseVector([-6101.0225, 33.0493, -0.8123]), ind_label=0.0),\n",
       " Row(label=0.0, features=DenseVector([38.0, 168.0, 1.0, 0.0, 1.0, 1.0, 1.0, 0.0, 0.0, 0.0]), pcaFeatures=DenseVector([-168.0244, 37.8991, 0.106]), ind_label=0.0),\n",
       " Row(label=0.0, features=DenseVector([39.0, 7685.0, 1.0, 0.0, 0.0, 1.0, 1.0, 0.0, 0.0, 0.0]), pcaFeatures=DenseVector([-7685.0235, 34.0718, 0.1389]), ind_label=0.0),\n",
       " Row(label=0.0, features=DenseVector([35.0, 4515.0, 1.0, 1.0, 0.0, 0.0, 0.0, 0.0, 0.0, 1.0]), pcaFeatures=DenseVector([-4515.0216, 32.0923, -0.7336]), ind_label=0.0),\n",
       " Row(label=1.0, features=DenseVector([28.0, 517.0, 1.0, 0.0, 1.0, 0.0, 0.0, 1.0, 1.0, 0.0]), pcaFeatures=DenseVector([-517.0179, 27.6371, 0.5531]), ind_label=1.0),\n",
       " Row(label=0.0, features=DenseVector([27.0, 148.0, 1.0, 0.0, 0.0, 0.0, 0.0, 1.0, 1.0, 0.0]), pcaFeatures=DenseVector([-148.0173, 26.874, 0.4703]), ind_label=0.0),\n",
       " Row(label=0.0, features=DenseVector([48.0, -285.0, 0.0, 0.0, 1.0, 1.0, 1.0, 0.0, 0.0, 0.0]), pcaFeatures=DenseVector([284.9691, 48.1877, 0.045]), ind_label=0.0),\n",
       " Row(label=0.0, features=DenseVector([50.0, 887.0, 1.0, 0.0, 0.0, 1.0, 0.0, 1.0, 0.0, 0.0]), pcaFeatures=DenseVector([-887.0319, 49.4222, 0.7931]), ind_label=0.0),\n",
       " Row(label=0.0, features=DenseVector([45.0, 3098.0, 1.0, 0.0, 0.0, 1.0, 0.0, 1.0, 0.0, 0.0]), pcaFeatures=DenseVector([-3098.0283, 43.0039, 0.8465]), ind_label=0.0),\n",
       " Row(label=0.0, features=DenseVector([41.0, 744.0, 1.0, 0.0, 0.0, 1.0, 0.0, 0.0, 0.0, 1.0]), pcaFeatures=DenseVector([-744.0262, 40.5172, -0.513]), ind_label=0.0),\n",
       " Row(label=0.0, features=DenseVector([39.0, 130.0, 1.0, 0.0, 0.0, 1.0, 0.0, 1.0, 0.0, 0.0]), pcaFeatures=DenseVector([-130.025, 38.9114, 0.8228]), ind_label=0.0),\n",
       " Row(label=1.0, features=DenseVector([44.0, 438.0, 1.0, 0.0, 0.0, 1.0, 0.0, 1.0, 0.0, 0.0]), pcaFeatures=DenseVector([-438.0282, 43.7122, 0.8087]), ind_label=1.0),\n",
       " Row(label=1.0, features=DenseVector([54.0, 0.0, 1.0, 0.0, 0.0, 1.0, 0.0, 1.0, 0.0, 0.0]), pcaFeatures=DenseVector([-0.0347, 53.9906, 0.7641]), ind_label=1.0),\n",
       " Row(label=0.0, features=DenseVector([49.0, 322.0, 1.0, 0.0, 0.0, 1.0, 0.0, 0.0, 0.0, 1.0]), pcaFeatures=DenseVector([-322.0314, 48.7859, -0.5498]), ind_label=0.0),\n",
       " Row(label=0.0, features=DenseVector([34.0, 186.0, 1.0, 0.0, 0.0, 0.0, 0.0, 1.0, 1.0, 0.0]), pcaFeatures=DenseVector([-186.0218, 33.8476, 0.4444]), ind_label=0.0),\n",
       " Row(label=1.0, features=DenseVector([75.0, 3810.0, 1.0, 1.0, 0.0, 0.0, 0.0, 0.0, 0.0, 1.0]), pcaFeatures=DenseVector([-3810.0474, 72.5335, -0.8958]), ind_label=1.0),\n",
       " Row(label=0.0, features=DenseVector([42.0, 0.0, 1.0, 0.0, 0.0, 1.0, 0.0, 0.0, 0.0, 1.0]), pcaFeatures=DenseVector([-0.027, 41.9947, -0.5284]), ind_label=0.0),\n",
       " Row(label=0.0, features=DenseVector([53.0, 4380.0, 1.0, 0.0, 0.0, 1.0, 0.0, 1.0, 0.0, 0.0]), pcaFeatures=DenseVector([-4380.0331, 50.1785, 0.8363]), ind_label=0.0),\n",
       " Row(label=1.0, features=DenseVector([49.0, 755.0, 1.0, 1.0, 0.0, 0.0, 0.0, 0.0, 0.0, 1.0]), pcaFeatures=DenseVector([-755.0313, 48.5026, -0.8453]), ind_label=1.0),\n",
       " Row(label=0.0, features=DenseVector([31.0, 2070.0, 1.0, 0.0, 0.0, 0.0, 0.0, 1.0, 1.0, 0.0]), pcaFeatures=DenseVector([-2070.0195, 29.6387, 0.4852]), ind_label=0.0),\n",
       " Row(label=0.0, features=DenseVector([45.0, 999.0, 1.0, 0.0, 0.0, 0.0, 1.0, 0.0, 1.0, 0.0]), pcaFeatures=DenseVector([-999.0287, 44.3338, -0.3864]), ind_label=0.0),\n",
       " Row(label=0.0, features=DenseVector([39.0, 167.0, 1.0, 0.0, 1.0, 1.0, 0.0, 1.0, 0.0, 0.0]), pcaFeatures=DenseVector([-167.025, 38.888, 0.9042]), ind_label=0.0),\n",
       " Row(label=0.0, features=DenseVector([46.0, 1322.0, 1.0, 0.0, 1.0, 1.0, 0.0, 1.0, 0.0, 0.0]), pcaFeatures=DenseVector([-1322.0293, 45.1444, 0.8958]), ind_label=0.0),\n",
       " Row(label=0.0, features=DenseVector([42.0, 1076.0, 1.0, 1.0, 0.0, 0.0, 0.0, 1.0, 0.0, 0.0]), pcaFeatures=DenseVector([-1076.0268, 41.2978, 0.524]), ind_label=0.0),\n",
       " Row(label=1.0, features=DenseVector([37.0, 502.0, 1.0, 0.0, 0.0, 1.0, 0.0, 0.0, 0.0, 1.0]), pcaFeatures=DenseVector([-502.0237, 36.6738, -0.5017]), ind_label=1.0),\n",
       " Row(label=0.0, features=DenseVector([26.0, 1216.0, 1.0, 0.0, 0.0, 0.0, 0.0, 0.0, 1.0, 1.0]), pcaFeatures=DenseVector([-1216.0165, 25.1891, -0.8471]), ind_label=0.0),\n",
       " Row(label=1.0, features=DenseVector([37.0, 876.0, 1.0, 0.0, 0.0, 0.0, 0.0, 0.0, 1.0, 1.0]), pcaFeatures=DenseVector([-876.0236, 36.4043, -0.894]), ind_label=1.0),\n",
       " Row(label=0.0, features=DenseVector([36.0, 342.0, 1.0, 0.0, 0.0, 0.0, 0.0, 1.0, 1.0, 0.0]), pcaFeatures=DenseVector([-342.0231, 35.7468, 0.4393]), ind_label=0.0),\n",
       " Row(label=0.0, features=DenseVector([29.0, 950.0, 1.0, 0.0, 0.0, 0.0, 1.0, 0.0, 1.0, 0.0]), pcaFeatures=DenseVector([-950.0184, 28.3699, -0.3267]), ind_label=0.0),\n",
       " Row(label=0.0, features=DenseVector([36.0, 973.0, 1.0, 0.0, 1.0, 1.0, 1.0, 0.0, 0.0, 0.0]), pcaFeatures=DenseVector([-973.0229, 35.3828, 0.1262]), ind_label=0.0),\n",
       " Row(label=0.0, features=DenseVector([26.0, 3825.0, 1.0, 0.0, 0.0, 1.0, 0.0, 0.0, 0.0, 1.0]), pcaFeatures=DenseVector([-3825.0159, 23.5432, -0.4082]), ind_label=0.0),\n",
       " Row(label=0.0, features=DenseVector([32.0, 2366.0, 1.0, 0.0, 0.0, 1.0, 0.0, 1.0, 0.0, 0.0]), pcaFeatures=DenseVector([-2366.0201, 30.4777, 0.8842]), ind_label=0.0),\n",
       " Row(label=0.0, features=DenseVector([40.0, 542.0, 1.0, 0.0, 0.0, 1.0, 0.0, 0.0, 0.0, 1.0]), pcaFeatures=DenseVector([-542.0256, 39.6472, -0.5124]), ind_label=0.0),\n",
       " Row(label=0.0, features=DenseVector([53.0, 995.0, 1.0, 0.0, 0.0, 1.0, 1.0, 0.0, 0.0, 0.0]), pcaFeatures=DenseVector([-995.0338, 52.3634, -0.0186]), ind_label=0.0),\n",
       " Row(label=0.0, features=DenseVector([29.0, 20.0, 1.0, 0.0, 0.0, 1.0, 0.0, 0.0, 0.0, 1.0]), pcaFeatures=DenseVector([-20.0186, 28.9855, -0.479]), ind_label=0.0),\n",
       " Row(label=0.0, features=DenseVector([34.0, 228.0, 1.0, 0.0, 0.0, 0.0, 0.0, 0.0, 1.0, 1.0]), pcaFeatures=DenseVector([-228.0218, 33.8212, -0.8928]), ind_label=0.0),\n",
       " Row(label=1.0, features=DenseVector([43.0, 130.0, 1.0, 0.0, 0.0, 1.0, 0.0, 1.0, 0.0, 0.0]), pcaFeatures=DenseVector([-130.0276, 42.9102, 0.8077]), ind_label=1.0),\n",
       " Row(label=0.0, features=DenseVector([56.0, 217.0, 1.0, 0.0, 1.0, 1.0, 0.0, 0.0, 0.0, 1.0]), pcaFeatures=DenseVector([-217.0359, 55.8517, -0.4971]), ind_label=0.0),\n",
       " Row(label=0.0, features=DenseVector([55.0, 0.0, 1.0, 1.0, 0.0, 0.0, 0.0, 0.0, 0.0, 1.0]), pcaFeatures=DenseVector([-0.0353, 54.9857, -0.8798]), ind_label=0.0),\n",
       " Row(label=0.0, features=DenseVector([31.0, 259.0, 1.0, 0.0, 0.0, 1.0, 0.0, 0.0, 0.0, 1.0]), pcaFeatures=DenseVector([-259.0199, 30.8315, -0.4828]), ind_label=0.0),\n",
       " Row(label=1.0, features=DenseVector([27.0, 619.0, 1.0, 0.0, 0.0, 0.0, 0.0, 1.0, 1.0, 0.0]), pcaFeatures=DenseVector([-619.0172, 26.5715, 0.4777]), ind_label=1.0),\n",
       " Row(label=0.0, features=DenseVector([36.0, 644.0, 1.0, 0.0, 0.0, 1.0, 0.0, 1.0, 0.0, 0.0]), pcaFeatures=DenseVector([-644.023, 35.5822, 0.8422]), ind_label=0.0),\n",
       " Row(label=0.0, features=DenseVector([44.0, 22.0, 1.0, 0.0, 0.0, 1.0, 0.0, 0.0, 0.0, 1.0]), pcaFeatures=DenseVector([-22.0283, 43.98, -0.5356]), ind_label=0.0),\n",
       " Row(label=0.0, features=DenseVector([37.0, 4303.0, 1.0, 1.0, 0.0, 0.0, 0.0, 0.0, 0.0, 1.0]), pcaFeatures=DenseVector([-4303.0229, 34.2279, -0.7445]), ind_label=0.0),\n",
       " Row(label=0.0, features=DenseVector([30.0, 239.0, 1.0, 0.0, 0.0, 0.0, 0.0, 1.0, 1.0, 0.0]), pcaFeatures=DenseVector([-239.0192, 29.8147, 0.4604]), ind_label=0.0),\n",
       " Row(label=0.0, features=DenseVector([42.0, 275.0, 1.0, 0.0, 0.0, 0.0, 0.0, 1.0, 1.0, 0.0]), pcaFeatures=DenseVector([-275.0269, 41.7881, 0.4156]), ind_label=0.0),\n",
       " Row(label=1.0, features=DenseVector([30.0, 1221.0, 1.0, 0.0, 0.0, 1.0, 0.0, 0.0, 0.0, 1.0]), pcaFeatures=DenseVector([-1221.019, 29.2141, -0.464]), ind_label=1.0),\n",
       " Row(label=0.0, features=DenseVector([62.0, 816.0, 1.0, 0.0, 0.0, 1.0, 0.0, 1.0, 0.0, 0.0]), pcaFeatures=DenseVector([-816.0397, 61.4643, 0.7466]), ind_label=0.0),\n",
       " Row(label=0.0, features=DenseVector([24.0, 1222.0, 1.0, 0.0, 0.0, 1.0, 0.0, 1.0, 0.0, 0.0]), pcaFeatures=DenseVector([-1222.0152, 23.2145, 0.8966]), ind_label=0.0),\n",
       " Row(label=0.0, features=DenseVector([31.0, 2363.0, 1.0, 0.0, 0.0, 1.0, 0.0, 1.0, 0.0, 0.0]), pcaFeatures=DenseVector([-2363.0194, 29.4799, 0.888]), ind_label=0.0),\n",
       " Row(label=0.0, features=DenseVector([66.0, 2262.0, 1.0, 0.0, 0.0, 1.0, 0.0, 0.0, 0.0, 1.0]), pcaFeatures=DenseVector([-2262.0419, 64.5353, -0.5838]), ind_label=0.0),\n",
       " Row(label=0.0, features=DenseVector([47.0, 2.0, 1.0, 0.0, 0.0, 1.0, 0.0, 1.0, 0.0, 0.0]), pcaFeatures=DenseVector([-2.0302, 46.9913, 0.7906]), ind_label=0.0),\n",
       " Row(label=0.0, features=DenseVector([39.0, 2.0, 1.0, 0.0, 0.0, 1.0, 0.0, 0.0, 0.0, 1.0]), pcaFeatures=DenseVector([-2.0251, 38.9942, -0.517]), ind_label=0.0),\n",
       " Row(label=1.0, features=DenseVector([35.0, 4508.0, 1.0, 0.0, 0.0, 1.0, 0.0, 1.0, 0.0, 0.0]), pcaFeatures=DenseVector([-4508.0215, 32.1015, 0.9064]), ind_label=1.0),\n",
       " Row(label=0.0, features=DenseVector([35.0, -402.0, 1.0, 1.0, 0.0, 0.0, 0.0, 1.0, 0.0, 0.0]), pcaFeatures=DenseVector([401.9774, 35.2489, 0.5274]), ind_label=0.0),\n",
       " Row(label=0.0, features=DenseVector([27.0, 1577.0, 1.0, 0.0, 1.0, 1.0, 0.0, 1.0, 0.0, 0.0]), pcaFeatures=DenseVector([-1577.017, 25.9861, 0.9716]), ind_label=0.0),\n",
       " Row(label=0.0, features=DenseVector([32.0, 34.0, 1.0, 0.0, 0.0, 1.0, 0.0, 1.0, 0.0, 0.0]), pcaFeatures=DenseVector([-34.0205, 31.9751, 0.8478]), ind_label=0.0),\n",
       " Row(label=0.0, features=DenseVector([44.0, 795.0, 1.0, 0.0, 0.0, 1.0, 0.0, 0.0, 0.0, 1.0]), pcaFeatures=DenseVector([-795.0281, 43.4836, -0.5235]), ind_label=0.0),\n",
       " Row(label=0.0, features=DenseVector([42.0, 117.0, 1.0, 0.0, 0.0, 1.0, 0.0, 1.0, 0.0, 0.0]), pcaFeatures=DenseVector([-117.027, 41.9189, 0.8113]), ind_label=0.0),\n",
       " Row(label=1.0, features=DenseVector([34.0, 5462.0, 1.0, 0.0, 0.0, 0.0, 0.0, 0.0, 1.0, 1.0]), pcaFeatures=DenseVector([-5462.0207, 30.4605, -0.811]), ind_label=1.0),\n",
       " Row(label=0.0, features=DenseVector([25.0, 402.0, 1.0, 0.0, 1.0, 0.0, 0.0, 1.0, 1.0, 0.0]), pcaFeatures=DenseVector([-402.016, 24.7118, 0.5627]), ind_label=0.0),\n",
       " Row(label=0.0, features=DenseVector([40.0, 641.0, 1.0, 0.0, 0.0, 0.0, 0.0, 1.0, 1.0, 0.0]), pcaFeatures=DenseVector([-641.0256, 39.5537, 0.4289]), ind_label=0.0),\n",
       " Row(label=1.0, features=DenseVector([43.0, 36.0, 1.0, 1.0, 0.0, 0.0, 0.0, 0.0, 0.0, 1.0]), pcaFeatures=DenseVector([-36.0276, 42.966, -0.8339]), ind_label=1.0),\n",
       " Row(label=0.0, features=DenseVector([55.0, 383.0, 1.0, 0.0, 0.0, 1.0, 0.0, 0.0, 0.0, 1.0]), pcaFeatures=DenseVector([-383.0353, 54.745, -0.5716]), ind_label=0.0),\n",
       " Row(label=0.0, features=DenseVector([50.0, 283.0, 1.0, 0.0, 0.0, 1.0, 0.0, 1.0, 0.0, 0.0]), pcaFeatures=DenseVector([-283.0321, 49.81, 0.7836]), ind_label=0.0),\n",
       " Row(label=0.0, features=DenseVector([45.0, 0.0, 1.0, 1.0, 0.0, 0.0, 0.0, 0.0, 0.0, 1.0]), pcaFeatures=DenseVector([-0.0289, 44.9885, -0.842]), ind_label=0.0),\n",
       " Row(label=0.0, features=DenseVector([35.0, 3102.0, 1.0, 1.0, 0.0, 0.0, 0.0, 1.0, 0.0, 0.0]), pcaFeatures=DenseVector([-3102.0218, 32.999, 0.5821]), ind_label=0.0),\n",
       " Row(label=1.0, features=DenseVector([32.0, 889.0, 1.0, 0.0, 0.0, 1.0, 0.0, 1.0, 0.0, 0.0]), pcaFeatures=DenseVector([-889.0204, 31.4261, 0.8611]), ind_label=1.0),\n",
       " Row(label=1.0, features=DenseVector([59.0, 0.0, 1.0, 0.0, 0.0, 1.0, 0.0, 1.0, 0.0, 0.0]), pcaFeatures=DenseVector([-0.0379, 58.9891, 0.7452]), ind_label=1.0),\n",
       " Row(label=0.0, features=DenseVector([34.0, -370.0, 1.0, 0.0, 0.0, 1.0, 0.0, 1.0, 0.0, 0.0]), pcaFeatures=DenseVector([369.9781, 34.2339, 0.8339]), ind_label=0.0),\n",
       " Row(label=0.0, features=DenseVector([39.0, -606.0, 1.0, 0.0, 0.0, 1.0, 0.0, 0.0, 0.0, 1.0]), pcaFeatures=DenseVector([605.9748, 39.3846, -0.5265]), ind_label=0.0),\n",
       " Row(label=0.0, features=DenseVector([40.0, 10378.0, 1.0, 0.0, 0.0, 0.0, 0.0, 1.0, 1.0, 0.0]), pcaFeatures=DenseVector([-10378.0235, 33.3016, 0.581]), ind_label=0.0),\n",
       " Row(label=0.0, features=DenseVector([36.0, 1313.0, 1.0, 0.0, 0.0, 0.0, 1.0, 0.0, 1.0, 0.0]), pcaFeatures=DenseVector([-1313.0229, 35.1348, -0.3475]), ind_label=0.0),\n",
       " Row(label=0.0, features=DenseVector([40.0, 8969.0, 1.0, 0.0, 0.0, 1.0, 0.0, 0.0, 0.0, 1.0]), pcaFeatures=DenseVector([-8969.0239, 34.2363, -0.3807]), ind_label=0.0),\n",
       " Row(label=0.0, features=DenseVector([55.0, -196.0, 1.0, 0.0, 0.0, 1.0, 0.0, 1.0, 0.0, 0.0]), pcaFeatures=DenseVector([195.9646, 55.1161, 0.7573]), ind_label=0.0),\n",
       " Row(label=0.0, features=DenseVector([38.0, 15.0, 0.0, 0.0, 0.0, 1.0, 0.0, 1.0, 0.0, 0.0]), pcaFeatures=DenseVector([-15.0244, 37.9861, 0.8087]), ind_label=0.0),\n",
       " Row(label=1.0, features=DenseVector([61.0, 4608.0, 1.0, 0.0, 0.0, 1.0, 0.0, 1.0, 0.0, 0.0]), pcaFeatures=DenseVector([-4608.0382, 58.0298, 0.8097]), ind_label=1.0),\n",
       " Row(label=0.0, features=DenseVector([41.0, 666.0, 1.0, 0.0, 0.0, 1.0, 0.0, 0.0, 0.0, 1.0]), pcaFeatures=DenseVector([-666.0262, 40.5673, -0.5142]), ind_label=0.0),\n",
       " Row(label=0.0, features=DenseVector([57.0, 452.0, 1.0, 0.0, 0.0, 1.0, 1.0, 0.0, 0.0, 0.0]), pcaFeatures=DenseVector([-452.0365, 56.7109, -0.0422]), ind_label=0.0),\n",
       " Row(label=0.0, features=DenseVector([48.0, 149.0, 1.0, 0.0, 0.0, 1.0, 0.0, 1.0, 0.0, 0.0]), pcaFeatures=DenseVector([-149.0308, 47.8966, 0.7891]), ind_label=0.0),\n",
       " Row(label=1.0, features=DenseVector([77.0, 7802.0, 1.0, 0.0, 0.0, 1.0, 0.0, 0.0, 0.0, 1.0]), pcaFeatures=DenseVector([-7802.0479, 71.975, -0.5388]), ind_label=1.0),\n",
       " Row(label=0.0, features=DenseVector([35.0, 1453.0, 1.0, 0.0, 0.0, 1.0, 0.0, 1.0, 0.0, 0.0]), pcaFeatures=DenseVector([-1453.0222, 34.0631, 0.8586]), ind_label=0.0),\n",
       " Row(label=0.0, features=DenseVector([54.0, 1480.0, 1.0, 0.0, 0.0, 1.0, 0.0, 1.0, 0.0, 0.0]), pcaFeatures=DenseVector([-1480.0344, 53.0403, 0.7872]), ind_label=0.0),\n",
       " Row(label=0.0, features=DenseVector([37.0, 715.0, 1.0, 0.0, 0.0, 0.0, 0.0, 0.0, 1.0, 0.0]), pcaFeatures=DenseVector([-715.0236, 36.5119, -0.2772]), ind_label=0.0),\n",
       " Row(label=0.0, features=DenseVector([56.0, 237.0, 1.0, 0.0, 0.0, 0.0, 0.0, 1.0, 1.0, 0.0]), pcaFeatures=DenseVector([-237.0359, 55.8085, 0.3621]), ind_label=0.0),\n",
       " Row(label=1.0, features=DenseVector([40.0, 694.0, 1.0, 0.0, 0.0, 1.0, 0.0, 1.0, 0.0, 0.0]), pcaFeatures=DenseVector([-694.0255, 39.549, 0.8279]), ind_label=1.0),\n",
       " Row(label=0.0, features=DenseVector([40.0, 0.0, 1.0, 0.0, 0.0, 1.0, 0.0, 0.0, 0.0, 1.0]), pcaFeatures=DenseVector([-0.0257, 39.9952, -0.5209]), ind_label=0.0),\n",
       " Row(label=0.0, features=DenseVector([54.0, 55.0, 1.0, 0.0, 0.0, 1.0, 0.0, 0.0, 0.0, 1.0]), pcaFeatures=DenseVector([-55.0347, 53.9559, -0.5729]), ind_label=0.0),\n",
       " Row(label=0.0, features=DenseVector([55.0, 136.0, 1.0, 0.0, 0.0, 1.0, 1.0, 0.0, 0.0, 0.0]), pcaFeatures=DenseVector([-136.0353, 54.9144, -0.0396]), ind_label=0.0),\n",
       " Row(label=0.0, features=DenseVector([55.0, -404.0, 0.0, 1.0, 0.0, 0.0, 0.0, 1.0, 0.0, 0.0]), pcaFeatures=DenseVector([403.9646, 55.245, 0.4356]), ind_label=0.0),\n",
       " Row(label=0.0, features=DenseVector([52.0, 779.0, 1.0, 0.0, 0.0, 1.0, 1.0, 0.0, 0.0, 0.0]), pcaFeatures=DenseVector([-779.0332, 51.5024, -0.0182]), ind_label=0.0),\n",
       " Row(label=0.0, features=DenseVector([55.0, 1187.0, 1.0, 0.0, 0.0, 0.0, 1.0, 0.0, 1.0, 0.0]), pcaFeatures=DenseVector([-1187.0351, 54.2102, -0.4213]), ind_label=0.0),\n",
       " Row(label=0.0, features=DenseVector([33.0, 641.0, 1.0, 0.0, 0.0, 1.0, 0.0, 0.0, 0.0, 1.0]), pcaFeatures=DenseVector([-641.0211, 32.5857, -0.4844]), ind_label=0.0),\n",
       " Row(label=0.0, features=DenseVector([52.0, 826.0, 1.0, 0.0, 0.0, 1.0, 0.0, 0.0, 0.0, 0.0]), pcaFeatures=DenseVector([-826.0332, 51.4656, 0.066]), ind_label=0.0),\n",
       " Row(label=0.0, features=DenseVector([33.0, 991.0, 1.0, 1.0, 0.0, 0.0, 0.0, 1.0, 0.0, 0.0]), pcaFeatures=DenseVector([-991.021, 32.355, 0.5567]), ind_label=0.0),\n",
       " Row(label=1.0, features=DenseVector([53.0, 1796.0, 1.0, 0.0, 0.0, 1.0, 0.0, 1.0, 0.0, 0.0]), pcaFeatures=DenseVector([-1796.0337, 51.8376, 0.7959]), ind_label=1.0),\n",
       " Row(label=1.0, features=DenseVector([46.0, 22.0, 1.0, 0.0, 0.0, 1.0, 0.0, 1.0, 0.0, 0.0]), pcaFeatures=DenseVector([-22.0295, 45.9787, 0.7947]), ind_label=1.0),\n",
       " Row(label=1.0, features=DenseVector([44.0, 244.0, 1.0, 0.0, 0.0, 0.0, 0.0, 1.0, 1.0, 0.0]), pcaFeatures=DenseVector([-244.0282, 43.8074, 0.4075]), ind_label=1.0),\n",
       " Row(label=0.0, features=DenseVector([48.0, 1328.0, 1.0, 1.0, 0.0, 0.0, 0.0, 0.0, 0.0, 1.0]), pcaFeatures=DenseVector([-1328.0306, 47.135, -0.8326]), ind_label=0.0),\n",
       " Row(label=1.0, features=DenseVector([50.0, 7317.0, 1.0, 0.0, 0.0, 1.0, 0.0, 1.0, 0.0, 0.0]), pcaFeatures=DenseVector([-7317.0306, 45.2935, 0.8936]), ind_label=1.0),\n",
       " Row(label=0.0, features=DenseVector([34.0, 4943.0, 1.0, 0.0, 1.0, 0.0, 0.0, 1.0, 1.0, 0.0]), pcaFeatures=DenseVector([-4943.0208, 30.7935, 0.5996]), ind_label=0.0),\n",
       " Row(label=0.0, features=DenseVector([38.0, 258.0, 1.0, 0.0, 1.0, 0.0, 0.0, 1.0, 1.0, 0.0]), pcaFeatures=DenseVector([-258.0243, 37.8005, 0.5113]), ind_label=0.0),\n",
       " Row(label=0.0, features=DenseVector([42.0, 515.0, 1.0, 0.0, 0.0, 0.0, 0.0, 0.0, 1.0, 1.0]), pcaFeatures=DenseVector([-515.0269, 41.6346, -0.9185]), ind_label=0.0),\n",
       " Row(label=1.0, features=DenseVector([32.0, 12607.0, 1.0, 0.0, 0.0, 0.0, 0.0, 0.0, 1.0, 1.0]), pcaFeatures=DenseVector([-12607.018, 23.8733, -0.6918]), ind_label=1.0),\n",
       " Row(label=0.0, features=DenseVector([58.0, 2.0, 1.0, 0.0, 1.0, 1.0, 0.0, 1.0, 0.0, 0.0]), pcaFeatures=DenseVector([-2.0372, 57.9885, 0.8299]), ind_label=0.0),\n",
       " Row(label=0.0, features=DenseVector([31.0, 13.0, 1.0, 0.0, 0.0, 1.0, 0.0, 0.0, 0.0, 1.0]), pcaFeatures=DenseVector([-13.0199, 30.9895, -0.4866]), ind_label=0.0),\n",
       " Row(label=1.0, features=DenseVector([19.0, 103.0, 1.0, 0.0, 0.0, 0.0, 1.0, 0.0, 1.0, 0.0]), pcaFeatures=DenseVector([-103.0122, 18.9166, -0.3022]), ind_label=1.0),\n",
       " Row(label=0.0, features=DenseVector([41.0, 3872.0, 1.0, 0.0, 0.0, 1.0, 0.0, 0.0, 0.0, 1.0]), pcaFeatures=DenseVector([-3872.0256, 38.5087, -0.4641]), ind_label=0.0),\n",
       " Row(label=0.0, features=DenseVector([31.0, 296.0, 1.0, 0.0, 0.0, 1.0, 0.0, 1.0, 0.0, 0.0]), pcaFeatures=DenseVector([-296.0198, 30.8071, 0.8557]), ind_label=0.0),\n",
       " Row(label=0.0, features=DenseVector([52.0, 217.0, 1.0, 0.0, 1.0, 0.0, 1.0, 0.0, 1.0, 0.0]), pcaFeatures=DenseVector([-217.0333, 51.8343, -0.3443]), ind_label=0.0),\n",
       " Row(label=0.0, features=DenseVector([42.0, 360.0, 1.0, 1.0, 0.0, 0.0, 0.0, 0.0, 0.0, 1.0]), pcaFeatures=DenseVector([-360.0269, 41.7582, -0.825]), ind_label=0.0),\n",
       " Row(label=0.0, features=DenseVector([41.0, 428.0, 1.0, 0.0, 0.0, 0.0, 0.0, 1.0, 1.0, 0.0]), pcaFeatures=DenseVector([-428.0262, 40.6902, 0.4218]), ind_label=0.0),\n",
       " Row(label=1.0, features=DenseVector([30.0, 315.0, 1.0, 0.0, 0.0, 0.0, 0.0, 1.0, 1.0, 0.0]), pcaFeatures=DenseVector([-315.0192, 29.7659, 0.4616]), ind_label=1.0),\n",
       " Row(label=1.0, features=DenseVector([38.0, 121.0, 1.0, 0.0, 1.0, 1.0, 0.0, 1.0, 0.0, 0.0]), pcaFeatures=DenseVector([-121.0244, 37.9178, 0.9073]), ind_label=1.0),\n",
       " Row(label=0.0, features=DenseVector([32.0, 820.0, 1.0, 0.0, 0.0, 1.0, 0.0, 0.0, 0.0, 1.0]), pcaFeatures=DenseVector([-820.0204, 31.471, -0.4778]), ind_label=0.0),\n",
       " Row(label=1.0, features=DenseVector([52.0, 195.0, 1.0, 0.0, 0.0, 1.0, 0.0, 1.0, 0.0, 0.0]), pcaFeatures=DenseVector([-195.0334, 51.8659, 0.7747]), ind_label=1.0),\n",
       " Row(label=0.0, features=DenseVector([48.0, 108.0, 1.0, 1.0, 0.0, 0.0, 0.0, 0.0, 0.0, 1.0]), pcaFeatures=DenseVector([-108.0308, 47.9183, -0.8516]), ind_label=0.0),\n",
       " Row(label=0.0, features=DenseVector([36.0, -381.0, 1.0, 0.0, 0.0, 1.0, 0.0, 0.0, 0.0, 1.0]), pcaFeatures=DenseVector([380.9768, 36.241, -0.5117]), ind_label=0.0),\n",
       " Row(label=1.0, features=DenseVector([45.0, 757.0, 1.0, 1.0, 0.0, 0.0, 1.0, 0.0, 0.0, 0.0]), pcaFeatures=DenseVector([-757.0288, 44.5133, -0.2943]), ind_label=1.0),\n",
       " Row(label=0.0, features=DenseVector([34.0, 691.0, 1.0, 0.0, 1.0, 1.0, 0.0, 0.0, 0.0, 1.0]), pcaFeatures=DenseVector([-691.0217, 33.5536, -0.4065]), ind_label=0.0),\n",
       " Row(label=1.0, features=DenseVector([36.0, 1925.0, 1.0, 0.0, 0.0, 1.0, 1.0, 0.0, 0.0, 0.0]), pcaFeatures=DenseVector([-1925.0227, 34.7712, 0.0602]), ind_label=1.0),\n",
       " Row(label=1.0, features=DenseVector([34.0, 902.0, 1.0, 0.0, 0.0, 1.0, 0.0, 0.0, 0.0, 1.0]), pcaFeatures=DenseVector([-902.0217, 33.4178, -0.4841]), ind_label=1.0),\n",
       " Row(label=1.0, features=DenseVector([61.0, 5207.0, 1.0, 0.0, 0.0, 1.0, 0.0, 1.0, 0.0, 0.0]), pcaFeatures=DenseVector([-5207.0381, 57.6452, 0.819]), ind_label=1.0),\n",
       " Row(label=0.0, features=DenseVector([54.0, 0.0, 1.0, 0.0, 0.0, 1.0, 0.0, 1.0, 0.0, 0.0]), pcaFeatures=DenseVector([-0.0347, 53.9906, 0.7641]), ind_label=0.0),\n",
       " Row(label=0.0, features=DenseVector([50.0, 665.0, 1.0, 0.0, 0.0, 1.0, 0.0, 1.0, 0.0, 0.0]), pcaFeatures=DenseVector([-665.032, 49.5647, 0.7896]), ind_label=0.0),\n",
       " Row(label=1.0, features=DenseVector([43.0, 738.0, 1.0, 1.0, 0.0, 0.0, 0.0, 1.0, 0.0, 0.0]), pcaFeatures=DenseVector([-738.0275, 42.5146, 0.515]), ind_label=1.0),\n",
       " Row(label=0.0, features=DenseVector([47.0, 233.0, 1.0, 0.0, 0.0, 1.0, 1.0, 0.0, 0.0, 0.0]), pcaFeatures=DenseVector([-233.0301, 46.8544, -0.0078]), ind_label=0.0),\n",
       " Row(label=0.0, features=DenseVector([45.0, -839.0, 1.0, 0.0, 0.0, 1.0, 0.0, 1.0, 0.0, 0.0]), pcaFeatures=DenseVector([838.9709, 45.5319, 0.785]), ind_label=0.0),\n",
       " Row(label=0.0, features=DenseVector([57.0, 5799.0, 1.0, 0.0, 0.0, 1.0, 1.0, 0.0, 0.0, 0.0]), pcaFeatures=DenseVector([-5799.0354, 53.2777, 0.0414]), ind_label=0.0),\n",
       " Row(label=0.0, features=DenseVector([27.0, 1033.0, 1.0, 0.0, 0.0, 1.0, 0.0, 1.0, 0.0, 0.0]), pcaFeatures=DenseVector([-1033.0171, 26.335, 0.8823]), ind_label=0.0),\n",
       " Row(label=0.0, features=DenseVector([49.0, 66.0, 1.0, 1.0, 0.0, 0.0, 0.0, 1.0, 0.0, 0.0]), pcaFeatures=DenseVector([-66.0315, 48.9444, 0.4818]), ind_label=0.0),\n",
       " Row(label=1.0, features=DenseVector([43.0, 2567.0, 1.0, 0.0, 0.0, 1.0, 1.0, 0.0, 0.0, 0.0]), pcaFeatures=DenseVector([-2567.0271, 41.3569, 0.0438]), ind_label=1.0),\n",
       " Row(label=0.0, features=DenseVector([40.0, 1584.0, 1.0, 0.0, 0.0, 1.0, 0.0, 0.0, 0.0, 1.0]), pcaFeatures=DenseVector([-1584.0254, 38.9781, -0.4961]), ind_label=0.0),\n",
       " Row(label=0.0, features=DenseVector([32.0, 182.0, 1.0, 0.0, 0.0, 0.0, 0.0, 1.0, 1.0, 0.0]), pcaFeatures=DenseVector([-182.0205, 31.8507, 0.4519]), ind_label=0.0),\n",
       " Row(label=0.0, features=DenseVector([58.0, 76.0, 1.0, 0.0, 0.0, 1.0, 1.0, 0.0, 0.0, 0.0]), pcaFeatures=DenseVector([-76.0372, 57.9521, -0.0518]), ind_label=0.0),\n",
       " Row(label=0.0, features=DenseVector([34.0, 663.0, 1.0, 0.0, 0.0, 0.0, 0.0, 1.0, 1.0, 0.0]), pcaFeatures=DenseVector([-663.0217, 33.5413, 0.4519]), ind_label=0.0),\n",
       " Row(label=0.0, features=DenseVector([46.0, 3455.0, 1.0, 1.0, 0.0, 0.0, 0.0, 1.0, 0.0, 0.0]), pcaFeatures=DenseVector([-3455.0288, 43.7692, 0.5461]), ind_label=0.0),\n",
       " Row(label=0.0, features=DenseVector([29.0, 15.0, 1.0, 0.0, 0.0, 1.0, 0.0, 1.0, 0.0, 0.0]), pcaFeatures=DenseVector([-15.0186, 28.9881, 0.8588]), ind_label=0.0),\n",
       " Row(label=0.0, features=DenseVector([52.0, 1054.0, 1.0, 0.0, 0.0, 1.0, 1.0, 0.0, 0.0, 0.0]), pcaFeatures=DenseVector([-1054.0332, 51.3258, -0.0139]), ind_label=0.0),\n",
       " Row(label=0.0, features=DenseVector([45.0, 1529.0, 1.0, 0.0, 0.0, 1.0, 0.0, 0.0, 0.0, 1.0]), pcaFeatures=DenseVector([-1529.0286, 44.012, -0.5159]), ind_label=0.0),\n",
       " Row(label=0.0, features=DenseVector([26.0, 63.0, 1.0, 0.0, 0.0, 0.0, 0.0, 1.0, 1.0, 0.0]), pcaFeatures=DenseVector([-63.0167, 25.9288, 0.4727]), ind_label=0.0),\n",
       " Row(label=0.0, features=DenseVector([40.0, 0.0, 1.0, 0.0, 0.0, 1.0, 0.0, 0.0, 0.0, 1.0]), pcaFeatures=DenseVector([-0.0257, 39.9952, -0.5209]), ind_label=0.0),\n",
       " Row(label=0.0, features=DenseVector([41.0, 920.0, 1.0, 0.0, 1.0, 1.0, 0.0, 1.0, 0.0, 0.0]), pcaFeatures=DenseVector([-920.0261, 40.4039, 0.9085]), ind_label=0.0),\n",
       " Row(label=1.0, features=DenseVector([47.0, 3696.0, 1.0, 0.0, 0.0, 0.0, 0.0, 1.0, 1.0, 0.0]), pcaFeatures=DenseVector([-3696.0294, 44.5901, 0.4502]), ind_label=1.0)]"
      ]
     },
     "execution_count": 27,
     "metadata": {},
     "output_type": "execute_result"
    }
   ],
   "source": [
    "obj_final = si_model.transform(pca_resul)\n",
    "obj_final.collect()"
   ]
  },
  {
   "cell_type": "markdown",
   "metadata": {},
   "source": [
    "### Machine Learning"
   ]
  },
  {
   "cell_type": "code",
   "execution_count": 28,
   "metadata": {},
   "outputs": [],
   "source": [
    "train, test = obj_final.randomSplit([0.7, 0.3])"
   ]
  },
  {
   "cell_type": "code",
   "execution_count": 29,
   "metadata": {},
   "outputs": [],
   "source": [
    "classifier = RandomForestClassifier(labelCol=\"ind_label\", featuresCol = \"pcaFeatures\")"
   ]
  },
  {
   "cell_type": "code",
   "execution_count": 30,
   "metadata": {},
   "outputs": [],
   "source": [
    "model = classifier.fit(train)"
   ]
  },
  {
   "cell_type": "code",
   "execution_count": 31,
   "metadata": {},
   "outputs": [
    {
     "data": {
      "text/plain": [
       "[Row(prediction=1.0, ind_label=0.0, label=0.0, pcaFeatures=DenseVector([-0.0167, 26.0101, 0.0679])),\n",
       " Row(prediction=0.0, ind_label=0.0, label=0.0, pcaFeatures=DenseVector([-543.0166, 25.6506, -0.4595])),\n",
       " Row(prediction=0.0, ind_label=0.0, label=0.0, pcaFeatures=DenseVector([246.9826, 27.1573, 0.9431])),\n",
       " Row(prediction=1.0, ind_label=0.0, label=0.0, pcaFeatures=DenseVector([-0.0173, 27.0098, 0.0641])),\n",
       " Row(prediction=1.0, ind_label=0.0, label=0.0, pcaFeatures=DenseVector([-444.0185, 28.7127, 0.8655])),\n",
       " Row(prediction=1.0, ind_label=0.0, label=0.0, pcaFeatures=DenseVector([-1372.019, 29.0878, -0.8598])),\n",
       " Row(prediction=0.0, ind_label=0.0, label=0.0, pcaFeatures=DenseVector([-1808.0189, 28.8365, 0.8831])),\n",
       " Row(prediction=1.0, ind_label=0.0, label=0.0, pcaFeatures=DenseVector([-3096.0186, 27.9802, 0.505])),\n",
       " Row(prediction=1.0, ind_label=0.0, label=0.0, pcaFeatures=DenseVector([-338.0198, 30.7801, 0.8563])),\n",
       " Row(prediction=0.0, ind_label=0.0, label=0.0, pcaFeatures=DenseVector([-395.0198, 30.7442, -0.4807])),\n",
       " Row(prediction=1.0, ind_label=0.0, label=0.0, pcaFeatures=DenseVector([-1890.0195, 29.7783, 0.5783])),\n",
       " Row(prediction=0.0, ind_label=0.0, label=0.0, pcaFeatures=DenseVector([-1031.0203, 31.3349, 0.8634])),\n",
       " Row(prediction=0.0, ind_label=0.0, label=0.0, pcaFeatures=DenseVector([-2349.0201, 30.4892, -0.4539])),\n",
       " Row(prediction=0.0, ind_label=0.0, label=0.0, pcaFeatures=DenseVector([-483.0211, 32.6871, -0.4869])),\n",
       " Row(prediction=0.0, ind_label=0.0, label=0.0, pcaFeatures=DenseVector([-455.0217, 33.7156, 0.0448])),\n",
       " Row(prediction=0.0, ind_label=0.0, label=0.0, pcaFeatures=DenseVector([-899.0217, 33.4197, -0.4841])),\n",
       " Row(prediction=0.0, ind_label=0.0, label=0.0, pcaFeatures=DenseVector([-1831.0215, 32.8206, 0.8683])),\n",
       " Row(prediction=0.0, ind_label=0.0, label=0.0, pcaFeatures=DenseVector([-106.0225, 34.929, -0.4195])),\n",
       " Row(prediction=1.0, ind_label=0.0, label=0.0, pcaFeatures=DenseVector([-308.0224, 34.793, 0.5385])),\n",
       " Row(prediction=0.0, ind_label=0.0, label=0.0, pcaFeatures=DenseVector([230.9769, 36.1444, 0.9094])),\n",
       " Row(prediction=0.0, ind_label=0.0, label=0.0, pcaFeatures=DenseVector([-123.0231, 35.9282, 0.032])),\n",
       " Row(prediction=1.0, ind_label=0.0, label=0.0, pcaFeatures=DenseVector([-553.023, 35.612, -0.8953])),\n",
       " Row(prediction=1.0, ind_label=0.0, label=0.0, pcaFeatures=DenseVector([-0.0238, 37.0069, 0.0263])),\n",
       " Row(prediction=1.0, ind_label=0.0, label=0.0, pcaFeatures=DenseVector([-0.0244, 37.9947, -0.1963])),\n",
       " Row(prediction=0.0, ind_label=0.0, label=0.0, pcaFeatures=DenseVector([-1.0244, 37.9949, 0.9054])),\n",
       " Row(prediction=0.0, ind_label=0.0, label=0.0, pcaFeatures=DenseVector([-424.0243, 37.7229, 0.8312])),\n",
       " Row(prediction=0.0, ind_label=0.0, label=0.0, pcaFeatures=DenseVector([-6.0257, 39.9855, 0.5149])),\n",
       " Row(prediction=0.0, ind_label=0.0, label=0.0, pcaFeatures=DenseVector([-194.0256, 39.871, -0.437])),\n",
       " Row(prediction=0.0, ind_label=0.0, label=0.0, pcaFeatures=DenseVector([-168.0263, 40.8979, 0.0139])),\n",
       " Row(prediction=0.0, ind_label=0.0, label=0.0, pcaFeatures=DenseVector([-204.0263, 40.8748, 0.0144])),\n",
       " Row(prediction=0.0, ind_label=0.0, label=0.0, pcaFeatures=DenseVector([-5426.0252, 37.5109, -0.4398])),\n",
       " Row(prediction=0.0, ind_label=0.0, label=0.0, pcaFeatures=DenseVector([188.973, 42.1154, 0.8065])),\n",
       " Row(prediction=0.0, ind_label=0.0, label=0.0, pcaFeatures=DenseVector([-16.027, 41.9791, -0.8304])),\n",
       " Row(prediction=0.0, ind_label=0.0, label=0.0, pcaFeatures=DenseVector([-782.0268, 41.4925, -0.5162])),\n",
       " Row(prediction=0.0, ind_label=0.0, label=0.0, pcaFeatures=DenseVector([-1811.0266, 40.8259, 0.5355])),\n",
       " Row(prediction=0.0, ind_label=0.0, label=0.0, pcaFeatures=DenseVector([-7190.0255, 37.3727, -0.7183])),\n",
       " Row(prediction=0.0, ind_label=0.0, label=0.0, pcaFeatures=DenseVector([-9009.0251, 36.21, -0.3876])),\n",
       " Row(prediction=0.0, ind_label=0.0, label=0.0, pcaFeatures=DenseVector([-264.0276, 42.8242, 0.8098])),\n",
       " Row(prediction=0.0, ind_label=0.0, label=0.0, pcaFeatures=DenseVector([-106.0282, 43.896, 0.4054])),\n",
       " Row(prediction=0.0, ind_label=0.0, label=0.0, pcaFeatures=DenseVector([-3762.0275, 41.5785, -0.4772])),\n",
       " Row(prediction=0.0, ind_label=0.0, label=0.0, pcaFeatures=DenseVector([-1410.0286, 44.0878, 0.8201])),\n",
       " Row(prediction=0.0, ind_label=0.0, label=0.0, pcaFeatures=DenseVector([-3064.0302, 46.0249, 0.8347])),\n",
       " Row(prediction=0.0, ind_label=0.0, label=0.0, pcaFeatures=DenseVector([-5887.0296, 44.2129, -0.4591])),\n",
       " Row(prediction=0.0, ind_label=0.0, label=0.0, pcaFeatures=DenseVector([-4012.0313, 47.4163, -0.496])),\n",
       " Row(prediction=0.0, ind_label=0.0, label=0.0, pcaFeatures=DenseVector([-105.034, 52.9238, 0.8504])),\n",
       " Row(prediction=0.0, ind_label=0.0, label=0.0, pcaFeatures=DenseVector([-989.0351, 54.3556, 0.8566])),\n",
       " Row(prediction=0.0, ind_label=0.0, label=0.0, pcaFeatures=DenseVector([-8104.0337, 49.7867, 0.887])),\n",
       " Row(prediction=0.0, ind_label=0.0, label=0.0, pcaFeatures=DenseVector([-1906.0356, 54.778, 0.0652])),\n",
       " Row(prediction=0.0, ind_label=0.0, label=0.0, pcaFeatures=DenseVector([-39.0366, 56.9594, 0.4511])),\n",
       " Row(prediction=0.0, ind_label=0.0, label=0.0, pcaFeatures=DenseVector([-7082.0352, 52.4538, 0.0614])),\n",
       " Row(prediction=0.0, ind_label=0.0, label=0.0, pcaFeatures=DenseVector([-42.0379, 58.9622, 0.7459])),\n",
       " Row(prediction=0.0, ind_label=0.0, label=0.0, pcaFeatures=DenseVector([-5.0385, 59.9971, -0.0605])),\n",
       " Row(prediction=0.0, ind_label=0.0, label=0.0, pcaFeatures=DenseVector([-6313.0372, 55.9401, 0.1215])),\n",
       " Row(prediction=1.0, ind_label=1.0, label=1.0, pcaFeatures=DenseVector([-502.0127, 19.6487, 0.5023])),\n",
       " Row(prediction=1.0, ind_label=1.0, label=1.0, pcaFeatures=DenseVector([-4111.0133, 19.3311, 0.632])),\n",
       " Row(prediction=1.0, ind_label=1.0, label=1.0, pcaFeatures=DenseVector([-119.0154, 23.8934, 0.4812])),\n",
       " Row(prediction=1.0, ind_label=1.0, label=1.0, pcaFeatures=DenseVector([-331.016, 24.757, 0.4807])),\n",
       " Row(prediction=1.0, ind_label=1.0, label=1.0, pcaFeatures=DenseVector([194.9826, 27.0942, 0.4649])),\n",
       " Row(prediction=1.0, ind_label=1.0, label=1.0, pcaFeatures=DenseVector([-451.0173, 26.7035, 0.571])),\n",
       " Row(prediction=1.0, ind_label=1.0, label=1.0, pcaFeatures=DenseVector([-5563.0162, 23.397, 0.5549])),\n",
       " Row(prediction=1.0, ind_label=1.0, label=1.0, pcaFeatures=DenseVector([-428.0185, 28.694, 0.548])),\n",
       " Row(prediction=1.0, ind_label=1.0, label=1.0, pcaFeatures=DenseVector([-455.0186, 28.6769, -0.8703])),\n",
       " Row(prediction=1.0, ind_label=1.0, label=1.0, pcaFeatures=DenseVector([-872.0184, 28.4085, 0.4741])),\n",
       " Row(prediction=1.0, ind_label=1.0, label=1.0, pcaFeatures=DenseVector([-261.0192, 29.8012, -0.8771])),\n",
       " Row(prediction=0.0, ind_label=1.0, label=1.0, pcaFeatures=DenseVector([-975.0191, 29.3714, 0.87])),\n",
       " Row(prediction=0.0, ind_label=1.0, label=1.0, pcaFeatures=DenseVector([-1476.019, 29.0507, -0.3791])),\n",
       " Row(prediction=1.0, ind_label=1.0, label=1.0, pcaFeatures=DenseVector([-2104.0195, 29.6169, 0.4857])),\n",
       " Row(prediction=0.0, ind_label=1.0, label=1.0, pcaFeatures=DenseVector([848.9793, 32.5251, -0.3015])),\n",
       " Row(prediction=1.0, ind_label=1.0, label=1.0, pcaFeatures=DenseVector([-0.0206, 31.9682, -0.8888])),\n",
       " Row(prediction=1.0, ind_label=1.0, label=1.0, pcaFeatures=DenseVector([-0.0206, 31.9676, 0.4491])),\n",
       " Row(prediction=0.0, ind_label=1.0, label=1.0, pcaFeatures=DenseVector([-3576.0205, 30.7005, 0.8993])),\n",
       " Row(prediction=1.0, ind_label=1.0, label=1.0, pcaFeatures=DenseVector([-0.0219, 33.9676, -0.8963])),\n",
       " Row(prediction=1.0, ind_label=1.0, label=1.0, pcaFeatures=DenseVector([-992.0217, 33.3307, -0.8808])),\n",
       " Row(prediction=0.0, ind_label=1.0, label=1.0, pcaFeatures=DenseVector([-1539.0215, 33.0088, -0.4741])),\n",
       " Row(prediction=1.0, ind_label=1.0, label=1.0, pcaFeatures=DenseVector([-6979.0204, 29.4858, 0.5506])),\n",
       " Row(prediction=0.0, ind_label=1.0, label=1.0, pcaFeatures=DenseVector([-293.0224, 34.79, -0.3597])),\n",
       " Row(prediction=1.0, ind_label=1.0, label=1.0, pcaFeatures=DenseVector([-2658.0219, 33.2606, -0.8586])),\n",
       " Row(prediction=0.0, ind_label=1.0, label=1.0, pcaFeatures=DenseVector([-0.0231, 35.9964, -0.5057])),\n",
       " Row(prediction=1.0, ind_label=1.0, label=1.0, pcaFeatures=DenseVector([-228.0237, 36.8197, 0.4338])),\n",
       " Row(prediction=1.0, ind_label=1.0, label=1.0, pcaFeatures=DenseVector([-2317.0233, 35.479, -0.8715])),\n",
       " Row(prediction=0.0, ind_label=1.0, label=1.0, pcaFeatures=DenseVector([-219.0256, 39.854, 0.8204])),\n",
       " Row(prediction=0.0, ind_label=1.0, label=1.0, pcaFeatures=DenseVector([255.9736, 41.1297, 0.4919])),\n",
       " Row(prediction=0.0, ind_label=1.0, label=1.0, pcaFeatures=DenseVector([-174.0263, 40.8773, 0.5137])),\n",
       " Row(prediction=0.0, ind_label=1.0, label=1.0, pcaFeatures=DenseVector([-33.0283, 43.9429, 0.4043])),\n",
       " Row(prediction=1.0, ind_label=1.0, label=1.0, pcaFeatures=DenseVector([54.9672, 50.9987, -0.9776])),\n",
       " Row(prediction=0.0, ind_label=1.0, label=1.0, pcaFeatures=DenseVector([-657.0333, 51.5693, 0.7819])),\n",
       " Row(prediction=0.0, ind_label=1.0, label=1.0, pcaFeatures=DenseVector([-145.0353, 54.9086, -0.0394])),\n",
       " Row(prediction=0.0, ind_label=1.0, label=1.0, pcaFeatures=DenseVector([-3777.0358, 54.5466, -0.3884])),\n",
       " Row(prediction=0.0, ind_label=1.0, label=1.0, pcaFeatures=DenseVector([-696.0429, 66.5448, 0.0073])),\n",
       " Row(prediction=1.0, ind_label=1.0, label=1.0, pcaFeatures=DenseVector([-4659.0485, 73.9878, -0.8901])),\n",
       " Row(prediction=1.0, ind_label=0.0, label=0.0, pcaFeatures=DenseVector([-402.016, 24.7118, 0.5627])),\n",
       " Row(prediction=1.0, ind_label=0.0, label=0.0, pcaFeatures=DenseVector([-1216.0165, 25.1891, -0.8471])),\n",
       " Row(prediction=1.0, ind_label=0.0, label=0.0, pcaFeatures=DenseVector([-468.0172, 26.6685, 0.4753])),\n",
       " Row(prediction=1.0, ind_label=0.0, label=0.0, pcaFeatures=DenseVector([-0.018, 27.9805, -0.257])),\n",
       " Row(prediction=0.0, ind_label=0.0, label=0.0, pcaFeatures=DenseVector([-15.0186, 28.9881, 0.8588])),\n",
       " Row(prediction=0.0, ind_label=0.0, label=0.0, pcaFeatures=DenseVector([-451.0185, 28.7088, -0.4722])),\n",
       " Row(prediction=0.0, ind_label=0.0, label=0.0, pcaFeatures=DenseVector([-13.0199, 30.9895, -0.4866])),\n",
       " Row(prediction=1.0, ind_label=0.0, label=0.0, pcaFeatures=DenseVector([-296.0198, 30.8071, 0.8557])),\n",
       " Row(prediction=0.0, ind_label=0.0, label=0.0, pcaFeatures=DenseVector([-1660.0196, 29.9313, 0.877])),\n",
       " Row(prediction=0.0, ind_label=0.0, label=0.0, pcaFeatures=DenseVector([-820.0204, 31.471, -0.4778])),\n",
       " Row(prediction=0.0, ind_label=0.0, label=0.0, pcaFeatures=DenseVector([-641.0211, 32.5857, -0.4844])),\n",
       " Row(prediction=0.0, ind_label=0.0, label=0.0, pcaFeatures=DenseVector([-691.0217, 33.5536, -0.4065])),\n",
       " Row(prediction=1.0, ind_label=0.0, label=0.0, pcaFeatures=DenseVector([401.9774, 35.2489, 0.5274])),\n",
       " Row(prediction=0.0, ind_label=0.0, label=0.0, pcaFeatures=DenseVector([-4515.0216, 32.0923, -0.7336])),\n",
       " Row(prediction=0.0, ind_label=0.0, label=0.0, pcaFeatures=DenseVector([-1313.0229, 35.1348, -0.3475])),\n",
       " Row(prediction=0.0, ind_label=0.0, label=0.0, pcaFeatures=DenseVector([-121.0237, 36.9178, 0.8302])),\n",
       " Row(prediction=0.0, ind_label=0.0, label=0.0, pcaFeatures=DenseVector([-715.0236, 36.5119, -0.2772])),\n",
       " Row(prediction=0.0, ind_label=0.0, label=0.0, pcaFeatures=DenseVector([-15.0244, 37.9861, 0.8087])),\n",
       " Row(prediction=1.0, ind_label=0.0, label=0.0, pcaFeatures=DenseVector([-258.0243, 37.8005, 0.5113])),\n",
       " Row(prediction=0.0, ind_label=0.0, label=0.0, pcaFeatures=DenseVector([-2.0251, 38.9942, -0.517])),\n",
       " Row(prediction=0.0, ind_label=0.0, label=0.0, pcaFeatures=DenseVector([-278.025, 38.8174, -0.4319])),\n",
       " Row(prediction=0.0, ind_label=0.0, label=0.0, pcaFeatures=DenseVector([-7685.0235, 34.0718, 0.1389])),\n",
       " Row(prediction=0.0, ind_label=0.0, label=0.0, pcaFeatures=DenseVector([-0.0257, 39.9952, -0.5209])),\n",
       " Row(prediction=0.0, ind_label=0.0, label=0.0, pcaFeatures=DenseVector([-733.0255, 39.5354, 0.0265])),\n",
       " Row(prediction=0.0, ind_label=0.0, label=0.0, pcaFeatures=DenseVector([-8969.0239, 34.2363, -0.3807])),\n",
       " Row(prediction=0.0, ind_label=0.0, label=0.0, pcaFeatures=DenseVector([-428.0262, 40.6902, 0.4218])),\n",
       " Row(prediction=0.0, ind_label=0.0, label=0.0, pcaFeatures=DenseVector([-666.0262, 40.5673, -0.5142])),\n",
       " Row(prediction=0.0, ind_label=0.0, label=0.0, pcaFeatures=DenseVector([-744.0262, 40.5172, -0.513])),\n",
       " Row(prediction=0.0, ind_label=0.0, label=0.0, pcaFeatures=DenseVector([-0.027, 41.9947, -0.5284])),\n",
       " Row(prediction=0.0, ind_label=0.0, label=0.0, pcaFeatures=DenseVector([-275.0269, 41.7881, 0.4156])),\n",
       " Row(prediction=0.0, ind_label=0.0, label=0.0, pcaFeatures=DenseVector([-1076.0268, 41.2978, 0.524])),\n",
       " Row(prediction=0.0, ind_label=0.0, label=0.0, pcaFeatures=DenseVector([-2.0276, 42.9935, -0.4513])),\n",
       " Row(prediction=0.0, ind_label=0.0, label=0.0, pcaFeatures=DenseVector([-999.0287, 44.3338, -0.3864])),\n",
       " Row(prediction=0.0, ind_label=0.0, label=0.0, pcaFeatures=DenseVector([-1060.03, 46.3119, 0.8071])),\n",
       " Row(prediction=0.0, ind_label=0.0, label=0.0, pcaFeatures=DenseVector([-302.0308, 47.7984, 0.7915])),\n",
       " Row(prediction=0.0, ind_label=0.0, label=0.0, pcaFeatures=DenseVector([-1328.0306, 47.135, -0.8326])),\n",
       " Row(prediction=0.0, ind_label=0.0, label=0.0, pcaFeatures=DenseVector([-66.0315, 48.9444, 0.4818])),\n",
       " Row(prediction=0.0, ind_label=0.0, label=0.0, pcaFeatures=DenseVector([-276.032, 49.8263, 0.0624])),\n",
       " Row(prediction=0.0, ind_label=0.0, label=0.0, pcaFeatures=DenseVector([-283.0321, 49.81, 0.7836])),\n",
       " Row(prediction=0.0, ind_label=0.0, label=0.0, pcaFeatures=DenseVector([-5776.0309, 46.2944, 0.0675])),\n",
       " Row(prediction=0.0, ind_label=0.0, label=0.0, pcaFeatures=DenseVector([-37.0328, 50.9739, -0.3282])),\n",
       " Row(prediction=0.0, ind_label=0.0, label=0.0, pcaFeatures=DenseVector([-1760.0324, 49.8617, 0.8838])),\n",
       " Row(prediction=0.0, ind_label=0.0, label=0.0, pcaFeatures=DenseVector([-779.0332, 51.5024, -0.0182])),\n",
       " Row(prediction=0.0, ind_label=0.0, label=0.0, pcaFeatures=DenseVector([-4994.033, 49.7842, 0.8459])),\n",
       " Row(prediction=0.0, ind_label=0.0, label=0.0, pcaFeatures=DenseVector([-55.0347, 53.9559, -0.5729])),\n",
       " Row(prediction=0.0, ind_label=0.0, label=0.0, pcaFeatures=DenseVector([-0.0353, 54.9857, -0.8798])),\n",
       " Row(prediction=0.0, ind_label=0.0, label=0.0, pcaFeatures=DenseVector([-136.0353, 54.9144, -0.0396])),\n",
       " Row(prediction=0.0, ind_label=0.0, label=0.0, pcaFeatures=DenseVector([-1187.0351, 54.2102, -0.4213])),\n",
       " Row(prediction=0.0, ind_label=0.0, label=0.0, pcaFeatures=DenseVector([-478.0359, 55.6837, -0.5739])),\n",
       " Row(prediction=0.0, ind_label=0.0, label=0.0, pcaFeatures=DenseVector([-452.0365, 56.7109, -0.0422])),\n",
       " Row(prediction=0.0, ind_label=0.0, label=0.0, pcaFeatures=DenseVector([-1602.0363, 55.9617, -0.5601])),\n",
       " Row(prediction=1.0, ind_label=1.0, label=1.0, pcaFeatures=DenseVector([-174.0154, 23.8585, 0.5629])),\n",
       " Row(prediction=1.0, ind_label=1.0, label=1.0, pcaFeatures=DenseVector([-760.0159, 24.4822, -0.8504])),\n",
       " Row(prediction=1.0, ind_label=1.0, label=1.0, pcaFeatures=DenseVector([-1064.0165, 25.2861, 0.4884])),\n",
       " Row(prediction=0.0, ind_label=1.0, label=1.0, pcaFeatures=DenseVector([-318.0186, 28.7942, -0.4743])),\n",
       " Row(prediction=1.0, ind_label=1.0, label=1.0, pcaFeatures=DenseVector([-828.0185, 28.4374, -0.8645])),\n",
       " Row(prediction=1.0, ind_label=1.0, label=1.0, pcaFeatures=DenseVector([-315.0192, 29.7659, 0.4616])),\n",
       " Row(prediction=1.0, ind_label=1.0, label=1.0, pcaFeatures=DenseVector([-424.0192, 29.6965, -0.8746])),\n",
       " Row(prediction=0.0, ind_label=1.0, label=1.0, pcaFeatures=DenseVector([-946.0191, 29.39, 0.8696])),\n",
       " Row(prediction=0.0, ind_label=1.0, label=1.0, pcaFeatures=DenseVector([-1221.019, 29.2141, -0.464])),\n",
       " Row(prediction=0.0, ind_label=1.0, label=1.0, pcaFeatures=DenseVector([-759.0204, 31.5095, 0.8591])),\n",
       " Row(prediction=1.0, ind_label=1.0, label=1.0, pcaFeatures=DenseVector([-8436.0188, 26.5515, -0.757])),\n",
       " Row(prediction=1.0, ind_label=1.0, label=1.0, pcaFeatures=DenseVector([-1240.021, 32.1717, -0.8732])),\n",
       " Row(prediction=1.0, ind_label=1.0, label=1.0, pcaFeatures=DenseVector([-1410.0209, 32.0626, -0.8705])),\n",
       " Row(prediction=0.0, ind_label=1.0, label=1.0, pcaFeatures=DenseVector([-902.0217, 33.4178, -0.4841])),\n",
       " Row(prediction=1.0, ind_label=1.0, label=1.0, pcaFeatures=DenseVector([-145.0225, 34.8742, -0.8978])),\n",
       " Row(prediction=0.0, ind_label=1.0, label=1.0, pcaFeatures=DenseVector([-2971.0219, 33.0884, 0.8823])),\n",
       " Row(prediction=0.0, ind_label=1.0, label=1.0, pcaFeatures=DenseVector([-1925.0227, 34.7712, 0.0602])),\n",
       " Row(prediction=0.0, ind_label=1.0, label=1.0, pcaFeatures=DenseVector([-502.0237, 36.6738, -0.5017])),\n",
       " Row(prediction=1.0, ind_label=1.0, label=1.0, pcaFeatures=DenseVector([-0.0244, 37.9658, 0.4264])),\n",
       " Row(prediction=0.0, ind_label=1.0, label=1.0, pcaFeatures=DenseVector([-1199.0242, 37.2259, -0.4946])),\n",
       " Row(prediction=0.0, ind_label=1.0, label=1.0, pcaFeatures=DenseVector([-832.0262, 40.4611, -0.4308])),\n",
       " Row(prediction=1.0, ind_label=1.0, label=1.0, pcaFeatures=DenseVector([-3950.0255, 38.4293, -0.8611])),\n",
       " Row(prediction=0.0, ind_label=1.0, label=1.0, pcaFeatures=DenseVector([-36.0276, 42.966, -0.8339])),\n",
       " Row(prediction=0.0, ind_label=1.0, label=1.0, pcaFeatures=DenseVector([-130.0276, 42.9102, 0.8077])),\n",
       " Row(prediction=0.0, ind_label=1.0, label=1.0, pcaFeatures=DenseVector([310.971, 45.199, -0.311])),\n",
       " Row(prediction=0.0, ind_label=1.0, label=1.0, pcaFeatures=DenseVector([-2303.0297, 45.5145, -0.5113])),\n",
       " Row(prediction=0.0, ind_label=1.0, label=1.0, pcaFeatures=DenseVector([-4099.03, 45.3551, 0.5486])),\n",
       " Row(prediction=0.0, ind_label=1.0, label=1.0, pcaFeatures=DenseVector([-4108.0313, 47.3654, 0.0414])),\n",
       " Row(prediction=0.0, ind_label=1.0, label=1.0, pcaFeatures=DenseVector([-195.0334, 51.8659, 0.7747])),\n",
       " Row(prediction=1.0, ind_label=1.0, label=1.0, pcaFeatures=DenseVector([-0.0385, 59.9605, -0.9137])),\n",
       " Row(prediction=1.0, ind_label=1.0, label=1.0, pcaFeatures=DenseVector([-179.0385, 59.8456, -0.911])),\n",
       " Row(prediction=0.0, ind_label=1.0, label=1.0, pcaFeatures=DenseVector([-1840.0414, 63.8121, -0.353])),\n",
       " Row(prediction=0.0, ind_label=1.0, label=1.0, pcaFeatures=DenseVector([-7802.0479, 71.975, -0.5388]))]"
      ]
     },
     "execution_count": 31,
     "metadata": {},
     "output_type": "execute_result"
    }
   ],
   "source": [
    "predictions = model.transform(test)\n",
    "predictions.select(\"prediction\", \"ind_label\", \"label\", \"pcaFeatures\").collect()"
   ]
  },
  {
   "cell_type": "code",
   "execution_count": 32,
   "metadata": {},
   "outputs": [
    {
     "data": {
      "text/plain": [
       "0.7011494252873564"
      ]
     },
     "execution_count": 32,
     "metadata": {},
     "output_type": "execute_result"
    }
   ],
   "source": [
    "evaluator = MulticlassClassificationEvaluator(predictionCol=\"prediction\",\n",
    "                                             labelCol=\"ind_label\",\n",
    "                                             metricName=\"accuracy\")\n",
    "evaluator.evaluate(predictions)"
   ]
  },
  {
   "cell_type": "code",
   "execution_count": 33,
   "metadata": {},
   "outputs": [
    {
     "name": "stdout",
     "output_type": "stream",
     "text": [
      "+----------+---------+-----+\n",
      "|prediction|ind_label|count|\n",
      "+----------+---------+-----+\n",
      "|       1.0|      1.0|   36|\n",
      "|       0.0|      1.0|   34|\n",
      "|       1.0|      0.0|   18|\n",
      "|       0.0|      0.0|   86|\n",
      "+----------+---------+-----+\n",
      "\n"
     ]
    }
   ],
   "source": [
    "predictions.groupBy(\"prediction\", \"ind_label\").count().show()"
   ]
  }
 ],
 "metadata": {
  "kernelspec": {
   "display_name": "Python 3",
   "language": "python",
   "name": "python3"
  },
  "language_info": {
   "codemirror_mode": {
    "name": "ipython",
    "version": 3
   },
   "file_extension": ".py",
   "mimetype": "text/x-python",
   "name": "python",
   "nbconvert_exporter": "python",
   "pygments_lexer": "ipython3",
   "version": "3.7.3"
  }
 },
 "nbformat": 4,
 "nbformat_minor": 2
}
