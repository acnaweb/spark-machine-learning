{
 "cells": [
  {
   "cell_type": "code",
   "execution_count": 20,
   "metadata": {},
   "outputs": [],
   "source": [
    "from pyspark.ml.recommendation import ALS"
   ]
  },
  {
   "cell_type": "code",
   "execution_count": 1,
   "metadata": {},
   "outputs": [],
   "source": [
    "session = SparkSession.builder.master(\"local\").appName(\"recommandation-system\").getOrCreate()"
   ]
  },
  {
   "cell_type": "code",
   "execution_count": 5,
   "metadata": {},
   "outputs": [
    {
     "data": {
      "text/plain": [
       "['1001,9001,10', '1001,9002,1', '1001,9003,9', '1002,9001,3', '1002,9002,5']"
      ]
     },
     "execution_count": 5,
     "metadata": {},
     "output_type": "execute_result"
    }
   ],
   "source": [
    "rdd_raw = sc.textFile(\"data/user-item.txt\")\n",
    "rdd_raw.cache()\n",
    "rdd_raw.take(5)"
   ]
  },
  {
   "cell_type": "code",
   "execution_count": 14,
   "metadata": {},
   "outputs": [
    {
     "data": {
      "text/plain": [
       "[(1001, 9001, 10.0),\n",
       " (1001, 9002, 1.0),\n",
       " (1001, 9003, 9.0),\n",
       " (1002, 9001, 3.0),\n",
       " (1002, 9002, 5.0)]"
      ]
     },
     "execution_count": 14,
     "metadata": {},
     "output_type": "execute_result"
    }
   ],
   "source": [
    "rdd_transf = rdd_raw.map(lambda line: line.split(\",\")).map(lambda line: (int(line[0]), int(line[1]), float(line[2])))\n",
    "rdd_transf.take(5)               "
   ]
  },
  {
   "cell_type": "code",
   "execution_count": 16,
   "metadata": {},
   "outputs": [
    {
     "name": "stdout",
     "output_type": "stream",
     "text": [
      "+----+----+------+\n",
      "|user|item|rating|\n",
      "+----+----+------+\n",
      "|1001|9001|  10.0|\n",
      "|1001|9002|   1.0|\n",
      "|1001|9003|   9.0|\n",
      "|1002|9001|   3.0|\n",
      "|1002|9002|   5.0|\n",
      "+----+----+------+\n",
      "only showing top 5 rows\n",
      "\n"
     ]
    }
   ],
   "source": [
    "df_base = session.createDataFrame(rdd_transf, [\"user\", \"item\", \"rating\"])\n",
    "df_base.persist()\n",
    "df_base.show(5)"
   ]
  },
  {
   "cell_type": "code",
   "execution_count": 21,
   "metadata": {},
   "outputs": [],
   "source": [
    "als = ALS(rank=10, maxIter=5)\n",
    "model = als.fit(df_base)"
   ]
  },
  {
   "cell_type": "code",
   "execution_count": 24,
   "metadata": {},
   "outputs": [
    {
     "data": {
      "text/plain": [
       "[Row(id=1001, features=[0.9681084156036377, -0.6955734491348267, 0.7195470929145813, -0.23173299431800842, 0.258536159992218, 0.21683301031589508, -0.3001883029937744, 0.9602264761924744, 0.4306694269180298, 0.176595076918602]),\n",
       " Row(id=1002, features=[0.2752208411693573, 0.45148375630378723, 0.007497432176023722, 0.029693691059947014, 0.7466303110122681, 1.5252691507339478, 0.1335616558790207, -0.6253135204315186, -0.16368703544139862, -0.18602345883846283]),\n",
       " Row(id=1003, features=[0.31628555059432983, 0.48526066541671753, -0.09361215680837631, 0.6461942791938782, 0.16269101202487946, 1.2503844499588013, 0.22005711495876312, -0.5321128368377686, -0.16695955395698547, 0.0727267861366272]),\n",
       " Row(id=1004, features=[0.9316565990447998, -0.7643890976905823, 0.4667227268218994, -0.060695432126522064, 0.544359028339386, 0.6515966057777405, -0.22367969155311584, 0.5234723091125488, 0.09014416486024857, 0.03905295953154564]),\n",
       " Row(id=1005, features=[0.7033907771110535, 0.16621631383895874, 0.7207597494125366, -0.14930357038974762, -0.0844234973192215, 0.4931977391242981, -0.14033769071102142, 0.6706025004386902, 0.5866522789001465, 0.34019169211387634]),\n",
       " Row(id=1006, features=[0.8660502433776855, -0.25038591027259827, 0.23852765560150146, 1.1677603721618652, -0.6388601660728455, 0.19746306538581848, 0.04223300889134407, 0.5780878663063049, 0.20296424627304077, 0.5022971630096436])]"
      ]
     },
     "execution_count": 24,
     "metadata": {},
     "output_type": "execute_result"
    }
   ],
   "source": [
    "# affinity score \n",
    "model.userFactors.orderBy(\"id\").collect()"
   ]
  },
  {
   "cell_type": "code",
   "execution_count": 27,
   "metadata": {},
   "outputs": [
    {
     "name": "stdout",
     "output_type": "stream",
     "text": [
      "+----+----+\n",
      "|user|item|\n",
      "+----+----+\n",
      "|1001|9003|\n",
      "|1001|9004|\n",
      "|1001|9005|\n",
      "+----+----+\n",
      "\n"
     ]
    }
   ],
   "source": [
    "df_test = session.createDataFrame([[1001,9003],[1001,9004], [1001,9005]], [\"user\", \"item\"])\n",
    "df_test.show()"
   ]
  },
  {
   "cell_type": "code",
   "execution_count": 29,
   "metadata": {},
   "outputs": [
    {
     "data": {
      "text/plain": [
       "[Row(user=1001, item=9004, prediction=-0.6358490586280823),\n",
       " Row(user=1001, item=9005, prediction=-2.2901651859283447),\n",
       " Row(user=1001, item=9003, prediction=9.001792907714844)]"
      ]
     },
     "execution_count": 29,
     "metadata": {},
     "output_type": "execute_result"
    }
   ],
   "source": [
    "predictions = model.transform(df_test)\n",
    "predictions.collect()"
   ]
  }
 ],
 "metadata": {
  "kernelspec": {
   "display_name": "Python 3",
   "language": "python",
   "name": "python3"
  },
  "language_info": {
   "codemirror_mode": {
    "name": "ipython",
    "version": 3
   },
   "file_extension": ".py",
   "mimetype": "text/x-python",
   "name": "python",
   "nbconvert_exporter": "python",
   "pygments_lexer": "ipython3",
   "version": "3.7.3"
  }
 },
 "nbformat": 4,
 "nbformat_minor": 2
}
